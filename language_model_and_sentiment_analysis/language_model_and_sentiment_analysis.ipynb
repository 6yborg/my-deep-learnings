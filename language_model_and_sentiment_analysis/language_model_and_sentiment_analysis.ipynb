{
  "nbformat": 4,
  "nbformat_minor": 0,
  "metadata": {
    "colab": {
      "name": "lesson_4_notes.ipynb",
      "version": "0.3.2",
      "provenance": [],
      "collapsed_sections": []
    },
    "kernelspec": {
      "name": "python3",
      "display_name": "Python 3"
    },
    "accelerator": "GPU"
  },
  "cells": [
    {
      "cell_type": "markdown",
      "metadata": {
        "id": "Vqqrqbq78ZbW",
        "colab_type": "text"
      },
      "source": [
        "# Language Model and Sentiment Analysis\n",
        "\n",
        "Some common NLP applications with text classification : \n",
        "- Spam detection\n",
        "- Identifying fake news\n",
        "- Diagnosis of medical records"
      ]
    },
    {
      "cell_type": "markdown",
      "metadata": {
        "id": "x7VKE4nB7CBn",
        "colab_type": "text"
      },
      "source": [
        "## Few pointers :"
      ]
    },
    {
      "cell_type": "markdown",
      "metadata": {
        "id": "68dS6BF-yVs4",
        "colab_type": "text"
      },
      "source": [
        "- `fastai.text` module is used for NLP\n",
        "- For NLP we create two models : Language models and Tuner\n",
        "- SOTA on IMDB is ~95%\n",
        "- Always use original stats of the pretrained model datasets. "
      ]
    },
    {
      "cell_type": "markdown",
      "metadata": {
        "id": "Woj-q5na2L3i",
        "colab_type": "text"
      },
      "source": [
        "E.g. classifying different types of green frogs, if we  used our own per channel mean and std (0,1) would convert things to gray. So when using a pretrained model on ImageNet (1000 classes), we must use the ImageNet stats for standardization."
      ]
    },
    {
      "cell_type": "markdown",
      "metadata": {
        "id": "JPgMRDl64Mxc",
        "colab_type": "text"
      },
      "source": [
        "## Activation functions\n",
        "\n",
        "- Identity\n",
        "- Binary step\n",
        "- Logistic AKA Sigmoid AKA Soft step\n",
        "- Softmax\n",
        "- Tanh  \n",
        "etc ..\n",
        "\n",
        "## Optimizers\n",
        "\n",
        "- SGD\n",
        "- ADAM\n",
        "- RMSprop\n",
        "\n",
        "Universal function approximators : It can approximate anything. We just need to find the parameter/weight matrices via gradient descent.\n",
        "\n",
        "Old/traditional NLP methods mostly used n-grams e.g. A bigram would be 'San Francisco'."
      ]
    },
    {
      "cell_type": "markdown",
      "metadata": {
        "id": "ICDBfcGf89En",
        "colab_type": "text"
      },
      "source": [
        "## Sentiment Analysis : Movie Review"
      ]
    },
    {
      "cell_type": "markdown",
      "metadata": {
        "id": "QHMm-XG89E-R",
        "colab_type": "text"
      },
      "source": [
        "> Idea : Language Model (WikiText 103) -> Language Model (IMDb) -> Classifier (IMDb)\n",
        "\n",
        "- 1 bit of information representing sentiments.\n",
        "\n",
        "- We start out with randomly initialized weight matrices. However, if we use transfer learning we have good weight matrices. A pretrained model in NLP would be a Language Model.  \n",
        "\n",
        "- A language model predicts the next word in a sentence/phase. n-grams were used previously (not very good in terms of performance).\n",
        "\n",
        "- If we train a neural network to predict the next word, it can complete sentences. It would learn english in a way. \n",
        "\n",
        "> Idea : Learning about the world through text (language).\n",
        "\n",
        "- Using a general pretrained language model on say **WikiText 103**, we can then train another language model which is specifically good at predicting next words in movie reviews with IMDb as the target corpus (corpus is a collection of documents).\n",
        "\n",
        "- Self-supervised learning since we don't need labels for the second language model. It just needs to capture the context in the target corpus and be great at predicting the next word in similar setting.\n",
        "\n",
        "- Karpathy in his Phd, created a language model of text in LateX documents and then automatically generate papers in LateX.\n",
        "\n"
      ]
    },
    {
      "cell_type": "code",
      "metadata": {
        "id": "Vv4UYGbLxtTv",
        "colab_type": "code",
        "colab": {}
      },
      "source": [
        "# magic commands\n",
        "%reload_ext autoreload\n",
        "%autoreload 2\n",
        "%matplotlib inline"
      ],
      "execution_count": 0,
      "outputs": []
    },
    {
      "cell_type": "code",
      "metadata": {
        "id": "5y9IJKpNBgiA",
        "colab_type": "code",
        "colab": {}
      },
      "source": [
        "from fastai import *\n",
        "from fastai.text import *"
      ],
      "execution_count": 0,
      "outputs": []
    },
    {
      "cell_type": "markdown",
      "metadata": {
        "id": "XKHtXG1FBu9k",
        "colab_type": "text"
      },
      "source": [
        "The **IMDb dataset**\n",
        "- 100,000 reviews\n",
        "- 25,000 labelled as positive and negative for training \n",
        "- 25,000 labelled for testing\n",
        "- 50,000 unlabelled\n",
        "\n",
        "Using a sample of the dataset,"
      ]
    },
    {
      "cell_type": "code",
      "metadata": {
        "id": "z2UbBusSBruj",
        "colab_type": "code",
        "outputId": "dd284a71-ac64-440d-c17d-dc9c501446c4",
        "colab": {
          "base_uri": "https://localhost:8080/",
          "height": 34
        }
      },
      "source": [
        "path = untar_data(URLs.IMDB_SAMPLE)\n",
        "path.ls()"
      ],
      "execution_count": 4,
      "outputs": [
        {
          "output_type": "execute_result",
          "data": {
            "text/plain": [
              "[PosixPath('/root/.fastai/data/imdb_sample/texts.csv')]"
            ]
          },
          "metadata": {
            "tags": []
          },
          "execution_count": 4
        }
      ]
    },
    {
      "cell_type": "code",
      "metadata": {
        "id": "sAXYQvL2CdG-",
        "colab_type": "code",
        "outputId": "6c0ee58e-e739-4d4c-fc6f-c57bce2ee049",
        "colab": {
          "base_uri": "https://localhost:8080/",
          "height": 206
        }
      },
      "source": [
        "df = pd.read_csv(path/'texts.csv')\n",
        "df.head()"
      ],
      "execution_count": 5,
      "outputs": [
        {
          "output_type": "execute_result",
          "data": {
            "text/html": [
              "<div>\n",
              "<style scoped>\n",
              "    .dataframe tbody tr th:only-of-type {\n",
              "        vertical-align: middle;\n",
              "    }\n",
              "\n",
              "    .dataframe tbody tr th {\n",
              "        vertical-align: top;\n",
              "    }\n",
              "\n",
              "    .dataframe thead th {\n",
              "        text-align: right;\n",
              "    }\n",
              "</style>\n",
              "<table border=\"1\" class=\"dataframe\">\n",
              "  <thead>\n",
              "    <tr style=\"text-align: right;\">\n",
              "      <th></th>\n",
              "      <th>label</th>\n",
              "      <th>text</th>\n",
              "      <th>is_valid</th>\n",
              "    </tr>\n",
              "  </thead>\n",
              "  <tbody>\n",
              "    <tr>\n",
              "      <th>0</th>\n",
              "      <td>negative</td>\n",
              "      <td>Un-bleeping-believable! Meg Ryan doesn't even ...</td>\n",
              "      <td>False</td>\n",
              "    </tr>\n",
              "    <tr>\n",
              "      <th>1</th>\n",
              "      <td>positive</td>\n",
              "      <td>This is a extremely well-made film. The acting...</td>\n",
              "      <td>False</td>\n",
              "    </tr>\n",
              "    <tr>\n",
              "      <th>2</th>\n",
              "      <td>negative</td>\n",
              "      <td>Every once in a long while a movie will come a...</td>\n",
              "      <td>False</td>\n",
              "    </tr>\n",
              "    <tr>\n",
              "      <th>3</th>\n",
              "      <td>positive</td>\n",
              "      <td>Name just says it all. I watched this movie wi...</td>\n",
              "      <td>False</td>\n",
              "    </tr>\n",
              "    <tr>\n",
              "      <th>4</th>\n",
              "      <td>negative</td>\n",
              "      <td>This movie succeeds at being one of the most u...</td>\n",
              "      <td>False</td>\n",
              "    </tr>\n",
              "  </tbody>\n",
              "</table>\n",
              "</div>"
            ],
            "text/plain": [
              "      label                                               text  is_valid\n",
              "0  negative  Un-bleeping-believable! Meg Ryan doesn't even ...     False\n",
              "1  positive  This is a extremely well-made film. The acting...     False\n",
              "2  negative  Every once in a long while a movie will come a...     False\n",
              "3  positive  Name just says it all. I watched this movie wi...     False\n",
              "4  negative  This movie succeeds at being one of the most u...     False"
            ]
          },
          "metadata": {
            "tags": []
          },
          "execution_count": 5
        }
      ]
    },
    {
      "cell_type": "code",
      "metadata": {
        "id": "jH1jtNFeC0oA",
        "colab_type": "code",
        "outputId": "e6c390ae-ea26-440d-ddc3-eeb9fbf01306",
        "colab": {
          "base_uri": "https://localhost:8080/",
          "height": 34
        }
      },
      "source": [
        "df.shape"
      ],
      "execution_count": 8,
      "outputs": [
        {
          "output_type": "execute_result",
          "data": {
            "text/plain": [
              "(1000, 3)"
            ]
          },
          "metadata": {
            "tags": []
          },
          "execution_count": 8
        }
      ]
    },
    {
      "cell_type": "code",
      "metadata": {
        "id": "2b-090fXDCi3",
        "colab_type": "code",
        "outputId": "c98c9965-8501-4253-ad53-2c7d945acbfd",
        "colab": {
          "base_uri": "https://localhost:8080/",
          "height": 54
        }
      },
      "source": [
        "df['text'][3]"
      ],
      "execution_count": 9,
      "outputs": [
        {
          "output_type": "execute_result",
          "data": {
            "text/plain": [
              "'Name just says it all. I watched this movie with my dad when it came out and having served in Korea he had great admiration for the man. The disappointing thing about this film is that it only concentrate on a short period of the man\\'s life - interestingly enough the man\\'s entire life would have made such an epic bio-pic that it is staggering to imagine the cost for production.<br /><br />Some posters elude to the flawed characteristics about the man, which are cheap shots. The theme of the movie \"Duty, Honor, Country\" are not just mere words blathered from the lips of a high-brassed officer - it is the deep declaration of one man\\'s total devotion to his country.<br /><br />Ironically Peck being the liberal that he was garnered a better understanding of the man. He does a great job showing the fearless general tempered with the humane side of the man.'"
            ]
          },
          "metadata": {
            "tags": []
          },
          "execution_count": 9
        }
      ]
    },
    {
      "cell_type": "markdown",
      "metadata": {
        "id": "Kjx5_xxYEkF5",
        "colab_type": "text"
      },
      "source": [
        "If we ignore the flag, we can create a databunch as follows,"
      ]
    },
    {
      "cell_type": "code",
      "metadata": {
        "id": "0Ln6WNusDLfj",
        "colab_type": "code",
        "colab": {}
      },
      "source": [
        "data_lm = TextDataBunch.from_csv(path, 'texts.csv')"
      ],
      "execution_count": 0,
      "outputs": []
    },
    {
      "cell_type": "code",
      "metadata": {
        "id": "ODgrDlLQCSZW",
        "colab_type": "code",
        "colab": {
          "base_uri": "https://localhost:8080/",
          "height": 975
        },
        "outputId": "b29879d5-25d0-4387-ad55-49739cfdc49b"
      },
      "source": [
        "data_lm"
      ],
      "execution_count": 24,
      "outputs": [
        {
          "output_type": "execute_result",
          "data": {
            "text/plain": [
              "TextClasDataBunch;\n",
              "\n",
              "Train: LabelList (799 items)\n",
              "x: TextList\n",
              "xxbos xxmaj he now has a name , an identity , some memories and a a lost girlfriend . xxmaj all he wanted was to disappear , but still , they traced him and destroyed the world he hardly built . xxmaj now he wants some explanation , and to get ride of the people how made him what he is . xxmaj yeah , xxmaj jason xxmaj bourne is back , and this time , he 's here with a vengeance . \n",
              " \n",
              "  xxup ok , this movie does n't have the most xxunk script in the world , but its thematics are very clever and ask some serious questions about our society . xxmaj of course , like every xxmaj xxunk movie since the end of the 90 's , \" xxmaj the xxmaj bourne xxmaj suprematy \" is a super - heroes story . xxmaj jason xxmaj bourne is a xxmaj captain - xxmaj america project - like , who 's gone completely wrong . xxmaj in the first movie , the hero discovered his abilities and he accepted them in the second one . xxmaj he now fights against what he considers like evil , after a person close to him has been killed ( his girlfriend in \" xxmaj suprematy \" ) by them . xxmaj that 's all a part of the super - hero story , including a character with ( realistic but still impressive : he almost invincible ) super powers . \n",
              " \n",
              "  xxmaj and the interesting point is that the evil he fights all across the world ( there 's no xxunk in the xxmaj bourne 's movies , characters are going from one continent to another in the blink of an eye ) , is , as in the best seasons of \" 24 \" , an xxmaj american enemy , who 's beliefs that he fight for the good of his country completely blinds him . xxmaj funny how \" mad patriots \" are now the xxup xxunk enemies of xxunk xxmaj hollywood 's stories . \n",
              " \n",
              "  xxmaj beside all those interesting thematics , the movie is n't flawless : the feminine character of xxmaj xxunk xxmaj xxunk is for now on completely useless and the direction is quite unoriginal when it comes to dialogs scenes . xxmaj but all that does n't really matter , for \" xxmaj the xxmaj bourne xxmaj ultimatum \" is an action movie . xxmaj and the action scenes are rather impressive . \n",
              " \n",
              "  xxmaj everyone here is talking about the \" xxmaj xxunk scene \" and the \" xxmaj tanger pursuit \" and everyone 's right . i particularly enjoyed the fight in xxmaj tanger , that reminds my in its exaggeration and xxunk the works of xxmaj xxunk xxmaj xxunk . xxmaj visually inventive scenes , lots of intelligent action parts and a good reflection on xxmaj american 's contemporary thematics : \" xxmaj the xxmaj bourne xxmaj ultimatum \" is definitely the best movie of the series and a very interesting and original action flick .,xxbos xxmaj the combination of reading the xxmaj xxunk and viewing this film has inspired my wife and i to new levels . xxmaj recently i was pondering a statement made by the artist xxmaj thomas xxmaj kinkade in one of his inspirational books ; xxmaj he states : \" xxmaj you and i were not designed to xxunk the xxunk air of five xxunk traffic . xxmaj nor do i think xxmaj god had xxunk television programs , media hype , worthless xxunk , and soul pollution in mind when he created the universe ... \" i had n't seen \" a river runs through it \" in a couple of years , but after pondering xxmaj kinkade 's statement something drew me to watch the film with a spiritual eye . i watched it and saw a whole new world to the film and it inspired me to read the book ( a must read ) . i have always been frustrated in xxmaj southern xxmaj california but somehow got caught up in its xxunk society . xxmaj the film really puts into perspective of how we should really experience xxmaj god 's creations . a combination of xxmaj xxunk story and my desire to move back to the xxmaj northwest has driven me to move to xxmaj montana . i want my future kids to be able to rome the landscape , go fly - fishing with me , ride horses into nothing but open land and xxunk lakes set in the xxunk . a place where you seldom worry about crime . i look around xxunk and all i see is shopping xxunk , rude snarling people in their xxmaj xxunk xxmaj xxunk , miles of xxunk on congested xxunk , gangs , racial turmoil on the verge of violent xxunk , and everyone skeptical of each others intentions . \n",
              " \n",
              "  xxmaj anyway the movie is very inspiring with brilliant acting and a deep story about the xxunk connections of loved ones . xxmaj there is a lot of deep thinking in this film . xxmaj the scenery is worth seeing alone and actually helps xxunk tension . xxmaj you should finish this film relaxed yet full of xxunk to your own life . xxmaj it takes a xxunk , intelligent , and spiritual person to really grasp the meaning . xxmaj if you do n't understand the art of cinema and how a director achieves his goals through dialogue , tone , light , colour , scenery , camera angles / movement , etc . xxmaj then this film is probably not for the crowd that thinks \" xxmaj the xxmaj fast and the xxmaj furious \" is the greatest film . xxmaj granted it was entertaining but shallow . \n",
              " \n",
              "  xxmaj the bottom line : xxmaj this film helps to realize that life is not about how much money you have or what things you posses . xxmaj rather it is about your relationships with family and friends and the experiences you share together . xxup quality xxup not xxup xxunk,xxbos xxmaj most italian horror lovers seem to hate this movie since because it has no connection to the first two xxmaj demons films . xxmaj and with the \" xxmaj demons xxup iii \" in the title , one would assume it would . xxmaj the problem is that this film was never intended to be part of the xxmaj demons series . xxmaj the distributors only a \" xxmaj demons xxup iii \" above its original title \" xxmaj the xxmaj ogre \" to cash in on the other films popularity . xxmaj the new xxmaj american xxup dvd release of this picture has the title \" xxmaj demons xxup iii : xxmaj the xxmaj ogre \" on the box art but the film itself only says \" xxmaj the xxmaj ogre \" . i do n't know if past releases had the title \" xxmaj demons xxup iii \" on the actual film itself , but this new release just seems to be a little white lie . xxmaj if you can get past the \" xxmaj demons xxup iii \" in the title , you might some enjoyment in \" xxmaj the xxmaj ogre \" . xxmaj it starts out with a creep intro , and stays pretty creep throughout . xxmaj there 's no gore and the film movies slowly , but i still xxunk it . xxmaj just do n't expect it to be like the other xxmaj demons films . i give \" xxmaj the xxmaj ogre \" 7 out of 10 . xxmaj italian fans should try it out .,xxbos xxmaj this movie had some xxunk xxunk , but it 's an old story that simply could never happen . xxmaj navy xxunk could never break down that much that a crew much less an xxup xxunk could ever go that far against the xxmaj captain . i 'll take xxmaj dr. xxmaj xxunk any day if i wish to see this plot . xxmaj sidenote -- the xxup us xxmaj navy did not support this film .,xxbos xxmaj director / writer xxmaj michael xxmaj winner 's feature is a better than expected offbeat supernatural horror film ( although still schlock efficiently catered for ) , which really does by go xxunk . xxmaj sure it might borrow ideas from other similar xxunk horror movies of this period , but still manages to bring its own psychological xxunk to the xxunk material ( of good vs. evil ) and a unique vision that has a fair share of impressively xxunk , if somewhat exploitative set - pieces . xxmaj as a whole it 's xxunk , however remains intriguing by instilling an ominous charge without going gang - xxunk with the scares . xxmaj actually there 's always something going on amongst its busy framework , but it 's rather down - played with its shocks xxunk to soapy patterns and atmospheric xxunk , up until its xxunk repellent and grisly climax with a downbeat revelation . xxmaj winner 's dressed up xxunk might feel pedestrian , however it 's the ensemble cast that really holds it together \n",
              "  as you try to spot the faces . xxmaj there 's plenty too . xxmaj some having more to do with the scheme of things than others , but there 's no doubts every one of them are committed , despite the xxunk crude nature of it all . xxmaj it 's interesting to see names like xxmaj sylvia xxmaj miles ( who 's significantly creepy ! ) , xxmaj beverly d'angelo ( likewise ) , xxmaj deborah xxmaj xxunk , xxmaj eli xxmaj wallach , xxmaj christopher xxmaj walken , xxmaj william xxmaj hickey ( a neat cameo ) , xxmaj jeff xxmaj goldblum , xxmaj jerry xxmaj orbach and xxmaj tom xxmaj berenger in bit parts . xxmaj then you got a mild - mannered xxmaj chris xxmaj xxunk and xxunk gorgeous xxmaj cristina xxmaj raines in the leads . xxmaj offering able support xxmaj xxunk xxmaj ferrer , xxmaj martin xxmaj balsam , xxmaj ava xxmaj gardner , xxmaj john xxmaj carradine , xxmaj burgess xxmaj xxunk and xxmaj arthur xxmaj kennedy . xxmaj the script does throw around many characters , as well as notions but gets xxunk xxunk by trying to squeeze all of it in . xxmaj however it 's xxunk air works in its favour in establishing the xxunk and deception of what 's really going on here . xxmaj is there a reason for all of this , and why is it surrounding xxmaj raines ' character ? xxmaj the emphasis is mainly built upon that moody angle , as it begins to slowly shed light of her inner goings and that of the strange / worrying experiences she encounters when she 's moves into her new apartment . xxmaj this is where xxmaj winner tries to pull out the eerie shades , which projects some xxunk moments . xxmaj xxunk xxmaj xxunk was the man responsible for the grand , xxunk orchestral score that never misses a xxunk and xxmaj richard xxup xxunk xxmaj xxunk xxunk the sweeping , scope - like photography .\n",
              "y: CategoryList\n",
              "positive,positive,positive,negative,positive\n",
              "Path: /root/.fastai/data/imdb_sample;\n",
              "\n",
              "Valid: LabelList (201 items)\n",
              "x: TextList\n",
              "xxbos xxmaj may contain spoilers . \n",
              " \n",
              "  i say that , but anyone xxunk enough to be reading this can probably figure out every plot turn right from the start . \n",
              " \n",
              "  xxmaj this is not a movie that i liked . i did n't hate it in the way of some movies that insult your intelligence , but it all felt too predictable on its xxunk to the xxunk happy ending . xxmaj there were funny bits along the way to be sure , but few were original . xxmaj at least it did n't go for the gutter . \n",
              " \n",
              "  xxmaj christina xxmaj xxunk looks fresh , and xxmaj ben xxmaj xxunk works hard . xxmaj their scenes together are actually the only redeeming feature . xxmaj everyone else is a cardboard xxunk , including , surprisingly , xxmaj james xxmaj xxunk , who must have made this as a favor to someone . \n",
              " \n",
              "  xxmaj all in all , it 's a harmless , but not inspiring , 90 minutes .,xxbos i do have the ` guts ' to inform you to please stay away from ` xxmaj dahmer ' , the xxunk film based on the real - life story of the grotesque serial killer . ` xxmaj dahmer ' xxunk more in relation to the xxunk of its focused subject . xxmaj jeffrey xxmaj dahmer , who murdered over 15 young xxunk and xxunk some of their body parts , was probably the most xxunk serial killer of our generation . xxmaj however , the real sick individuals are the filmmakers of this awful xxunk who should have had their heads examined before deciding to xxunk this awful ` xxunk ' project . xxmaj this is not an easy film to xxunk , even though xxmaj jeffrey would have easily xxunk it with some fiery ` xxunk ' xxunk or even some real - life ` xxmaj mr. xxmaj xxunk xxunk ' . * xxmaj failure,xxbos a sequel to ( actually a remake of ) xxmaj disney 's 1996 live - action remake of xxunk xxmaj xxunk . xxmaj xxunk devil ( xxmaj glenn xxmaj close ) is released from prison after being \" xxunk \" of her obsession with fur by a xxunk named xxmaj dr. xxmaj xxunk ( ugh ! ) . xxmaj but the \" cure \" is broken when xxmaj xxunk hears the xxunk of xxmaj big xxmaj ben , and she once again goes on a mad quest to make herself the perfect coat out of xxunk hides . \n",
              " \n",
              "  xxmaj this movie is bad on so many levels , starting with the fact that it 's a \" xxmaj xxunk family schlock \" movie designed to suck every last available dime out of the xxmaj disney xxunk machine . xxmaj glenn xxmaj close xxwrep 2 xxunk acts as xxmaj xxunk . xxmaj with all that she had to put up with in this movie -- the lame script , the endless makeup , getting xxunk in a cake at the end -- i hope they gave her an extremely - large xxunk . \n",
              " \n",
              "  ( xxmaj speaking of which , where in the world are you going to find a fur coat factory , a xxunk with a xxmaj xxunk xxmaj xxunk assembly line , and a xxunk xxunk all xxunk within the same building -- as you do in the climax of this film ? ) xxmaj of course , the real stars of the movie are supposed to be the dogs . xxmaj they serve as the \" xxmaj macaulay xxmaj culkin 's \" of this movie , pulling all the stupid \" xxmaj home xxmaj alone \" gags on the villains . ( xxmaj biting them in the crotch , running over their hands with xxunk xxunk , xxunk them with xxunk , etc . , etc . , etc . , ad xxunk . ) i have to admit , the dogs were fairly good actors -- much better than the humans . \n",
              " \n",
              "  xxmaj gerard xxmaj xxunk is completely wasted in this movie as a xxunk - out xxmaj french xxunk . xxmaj the two human \" dog lovers \" -- xxunk from the earlier film , but with different actors -- are completely boring . xxmaj when they have a spaghetti dinner at an xxmaj italian xxunk , the movie cuts back and forth between the two lovers , and their dogs at home , watching the dinner scene from \" xxmaj lady and the xxmaj xxunk . \" i thought to myself , \" xxmaj oh please , do n't go there ! \" i half - expected the humans to do a satire on the \" xxmaj lady and the xxmaj xxunk \" dinner scene -- as xxmaj charlie xxmaj xxunk did in \" xxmaj hot xxmaj shots : xxmaj part xxmaj xxunk \" -- doing the \" spaghetti xxunk kiss , \" pushing the xxunk with his nose , etc . \n",
              " \n",
              "  xxmaj and do n't get me started on the annoying xxunk with xxmaj eric xxmaj xxunk 's voice . \n",
              " \n",
              "  xxmaj the costumes were nominated for an xxmaj oscar , and the costumes in the movie * are * good . xxmaj but they are the only good thing in the movie . xxmaj the rest of it is unbearable dreck .,xxbos xxmaj this movie has no plot and no focus . xxmaj yes , it 's supposed to be a slap - stick , stupid comedy , but the screen - writers have no idea what the movie was about . xxmaj even the title does n't go along with the movie . xxmaj it should have been called \" xxmaj cool xxmaj ethan \" or \" xxmaj xxunk xxmaj never xxmaj win \" or something like that . xxmaj the characters are not developed and no one cares what happens to them ! xxmaj the girl xxunk character ( from xxmaj that 70 's xxmaj show ) was the only person worth watching . xxmaj she was hilarious and stole every scene she was in . xxmaj the others need to make sure that their own college xxunk are in the works since they 'll need a career other than acting .,xxbos xxmaj this movie is not that interesting , except for the first ten minutes . xxmaj the pace and editing are a perfect introduction in an ensemble piece , even better than say xxmaj xxunk xxmaj park . xxmaj then it xxunk slows down , loses focus and starts resembling a traditional xxmaj french movie only to regain focus in the end with the love relation between xxmaj xxunk ( xxmaj xxunk ) and xxmaj xxunk ( xxmaj xxunk ) . xxmaj in the middle there are too many xxunk and loose ends in the story , several threads started are not ended . \n",
              " \n",
              "  xxrep 7 * xxup spoilers xxup ahead xxmaj the main story is the relation between xxmaj xxunk and xxmaj xxunk . xxmaj he has been xxunk to her after his relation with her many years ago , despite her xxunk and setting up home in xxmaj xxunk . xxmaj as xxunk he now xxunk his own life and xxunk hers by taking the mask of xxmaj xxunk 's marriage . xxmaj having accomplished this , he is xxunk after a freak accident ( literally ) and becomes a xxunk . xxmaj he wakes only after she has burned their old picture as indication that they 've xxunk with the past and can properly start their lives again together . xxrep 7 * xxup end xxup of xxup spoilers \n",
              " \n",
              "  xxmaj it remains xxunk what vision this director wants us to see us because there are so many other stories here : xxmaj xxunk xxunk want to enter xxmaj europe , there are frequent radio xxunk about the xxunk of xxmaj iraq 's former xxunk . xxmaj xxunk 's child is xxunk and is bitten by dogs ( loyalty ) once he meets his boyfriend , whereas the girl he lives with seems to be sick ( of that ? ) . xxmaj her sister is traditional xxmaj xxunk , and enters a relation with xxmaj xxunk 's husband . xxmaj it portrays xxmaj xxunk as unnecessary xxunk , despite all the building there is a strange xxunk vision shining through that almost xxunk the past . xxmaj it portrays xxmaj islam as xxunk and prone to xxunk , which may sometimes be true , but certainly not in general . xxmaj in the end it can all best be described as adding some xxunk xxunk and xxunk xxunk xxunk . \n",
              " \n",
              "  xxmaj xxunk and xxmaj xxunk are great . xxmaj with this material they are so familiar they are able to spin something extra in every scene : xxunk an xxunk , body language , xxunk pride , awkward behavior . xxmaj the movie itself is disappointing and only xxunk the limited role of xxmaj french cinema in the world nowadays . xxmaj with some notable exceptions of course .\n",
              "y: CategoryList\n",
              "negative,negative,negative,negative,negative\n",
              "Path: /root/.fastai/data/imdb_sample;\n",
              "\n",
              "Test: None"
            ]
          },
          "metadata": {
            "tags": []
          },
          "execution_count": 24
        }
      ]
    },
    {
      "cell_type": "markdown",
      "metadata": {
        "id": "KJwjl5qoDubk",
        "colab_type": "text"
      },
      "source": [
        "`TextDataBunch` does both tokenization and numericalization behind the scenes."
      ]
    },
    {
      "cell_type": "code",
      "metadata": {
        "id": "j7aPdRZvD7Hp",
        "colab_type": "code",
        "colab": {}
      },
      "source": [
        "data_lm.save()"
      ],
      "execution_count": 0,
      "outputs": []
    },
    {
      "cell_type": "markdown",
      "metadata": {
        "id": "1V3SsmkuBKUZ",
        "colab_type": "text"
      },
      "source": [
        "To load a text databunch,"
      ]
    },
    {
      "cell_type": "code",
      "metadata": {
        "id": "vvEroKbPBJ7b",
        "colab_type": "code",
        "colab": {}
      },
      "source": [
        "data = load_data(path)"
      ],
      "execution_count": 0,
      "outputs": []
    },
    {
      "cell_type": "markdown",
      "metadata": {
        "id": "frjgOzhGBTNv",
        "colab_type": "text"
      },
      "source": [
        "### Tokenization"
      ]
    },
    {
      "cell_type": "code",
      "metadata": {
        "id": "8TfM4EFoBwFz",
        "colab_type": "code",
        "colab": {
          "base_uri": "https://localhost:8080/",
          "height": 52
        },
        "outputId": "ef59797a-4984-481c-f385-ca334564cf9f"
      },
      "source": [
        "path.ls()"
      ],
      "execution_count": 27,
      "outputs": [
        {
          "output_type": "execute_result",
          "data": {
            "text/plain": [
              "[PosixPath('/root/.fastai/data/imdb_sample/texts.csv'),\n",
              " PosixPath('/root/.fastai/data/imdb_sample/data_save.pkl')]"
            ]
          },
          "metadata": {
            "tags": []
          },
          "execution_count": 27
        }
      ]
    },
    {
      "cell_type": "code",
      "metadata": {
        "id": "wS7EsZG2BpGI",
        "colab_type": "code",
        "colab": {}
      },
      "source": [
        "data = load_data(path)"
      ],
      "execution_count": 0,
      "outputs": []
    },
    {
      "cell_type": "code",
      "metadata": {
        "id": "-Dxi64ghF-n3",
        "colab_type": "code",
        "colab": {
          "base_uri": "https://localhost:8080/",
          "height": 363
        },
        "outputId": "5cce4237-aeb6-47f1-bd88-0b27f30e63eb"
      },
      "source": [
        "data.show_batch()"
      ],
      "execution_count": 29,
      "outputs": [
        {
          "output_type": "display_data",
          "data": {
            "text/html": [
              "<table border=\"1\" class=\"dataframe\">\n",
              "  <thead>\n",
              "    <tr style=\"text-align: right;\">\n",
              "      <th>text</th>\n",
              "      <th>target</th>\n",
              "    </tr>\n",
              "  </thead>\n",
              "  <tbody>\n",
              "    <tr>\n",
              "      <td>xxbos xxmaj raising xxmaj victor xxmaj vargas : a xxmaj review \\n \\n  xxmaj you know , xxmaj raising xxmaj victor xxmaj vargas is like sticking your hands into a big , steaming bowl of xxunk . xxmaj it 's warm and gooey , but you 're not sure if it feels right . xxmaj try as i might , no matter how warm and gooey xxmaj raising xxmaj</td>\n",
              "      <td>negative</td>\n",
              "    </tr>\n",
              "    <tr>\n",
              "      <td>xxbos xxup the xxup shop xxup around xxup the xxup corner is one of the sweetest and most feel - good romantic comedies ever made . xxmaj there 's just no getting around that , and it 's hard to actually put one 's feeling for this film into words . xxmaj it 's not one of those films that tries too hard , nor does it come up with</td>\n",
              "      <td>positive</td>\n",
              "    </tr>\n",
              "    <tr>\n",
              "      <td>xxbos xxmaj this film sat on my xxmaj tivo for weeks before i watched it . i dreaded a self - indulgent xxunk flick about relationships gone bad . i was wrong ; this was an xxunk xxunk into the screwed - up xxunk of xxmaj new xxmaj yorkers . \\n \\n  xxmaj the format is the same as xxmaj max xxmaj xxunk ' \" xxmaj la xxmaj ronde</td>\n",
              "      <td>positive</td>\n",
              "    </tr>\n",
              "    <tr>\n",
              "      <td>xxbos xxmaj many neglect that this is n't just a classic due to the fact that it 's the first xxup 3d game , or even the first xxunk - up . xxmaj it 's also one of the first stealth games , one of the xxunk definitely the first ) truly claustrophobic games , and just a pretty well - xxunk gaming experience in general . xxmaj with graphics</td>\n",
              "      <td>positive</td>\n",
              "    </tr>\n",
              "    <tr>\n",
              "      <td>xxbos i really wanted to love this show . i truly , honestly did . \\n \\n  xxmaj for the first time , gay viewers get their own version of the \" xxmaj the xxmaj bachelor \" . xxmaj with the help of his obligatory \" hag \" xxmaj xxunk , xxmaj james , a good looking , well - to - do thirty - something has the chance</td>\n",
              "      <td>negative</td>\n",
              "    </tr>\n",
              "  </tbody>\n",
              "</table>"
            ],
            "text/plain": [
              "<IPython.core.display.HTML object>"
            ]
          },
          "metadata": {
            "tags": []
          }
        }
      ]
    },
    {
      "cell_type": "markdown",
      "metadata": {
        "id": "H9apwSouGYER",
        "colab_type": "text"
      },
      "source": [
        "### Numericalization\n",
        "\n",
        "- Conversion of tokens to integers\n",
        "- Keep tokens that appear atleast twice\n",
        "- Max default vocab size is 60,000\n",
        "- Replace the others by UNK - Not common enough!\n",
        "- `itos` stands for int to string\n",
        "- We use the ids to replace the tokens\n",
        "- Every token in vocab would have a row in the weight matrix of the NN, so restrict to 60000 (default)\n",
        "- Special tokens like `xx` field if we have title, abstract, body etc"
      ]
    },
    {
      "cell_type": "code",
      "metadata": {
        "id": "PHXteXbeGLos",
        "colab_type": "code",
        "colab": {
          "base_uri": "https://localhost:8080/",
          "height": 191
        },
        "outputId": "f1a19b85-e022-4a67-e838-89a081840471"
      },
      "source": [
        "data.vocab.itos[:10]"
      ],
      "execution_count": 17,
      "outputs": [
        {
          "output_type": "execute_result",
          "data": {
            "text/plain": [
              "['xxunk',\n",
              " 'xxpad',\n",
              " 'xxbos',\n",
              " 'xxeos',\n",
              " 'xxfld',\n",
              " 'xxmaj',\n",
              " 'xxup',\n",
              " 'xxrep',\n",
              " 'xxwrep',\n",
              " 'the']"
            ]
          },
          "metadata": {
            "tags": []
          },
          "execution_count": 17
        }
      ]
    },
    {
      "cell_type": "code",
      "metadata": {
        "id": "W9SrsNUI2Q8-",
        "colab_type": "code",
        "colab": {
          "base_uri": "https://localhost:8080/",
          "height": 54
        },
        "outputId": "96727a50-b65f-4e43-cadf-c9802785ef6a"
      },
      "source": [
        "data.train_ds[0][0]"
      ],
      "execution_count": 18,
      "outputs": [
        {
          "output_type": "execute_result",
          "data": {
            "text/plain": [
              "Text xxbos xxmaj as a baseball die - hard , this movie goes contrary to what i expect in a sports movie : authentic - looking sports action , believable characters , and an original story line . xxmaj while \" xxmaj angels in the xxmaj xxunk \" fails miserably in the first category , it succeeds beautifully in the latter two . \" xxmaj angels \" weaves the story of xxmaj roger and xxup j.p. , two xxmaj xxunk foster kids in love with baseball but searching for a family , with that of the xxunk xxmaj angels franchise , struggling to draw fans and win games . xxmaj pushed by his xxunk father 's promise that they would be a family only when the xxmaj angels win the xxunk , xxmaj roger asks for some heavenly help , and gets it in the form of diamond - dwelling xxunk bent on xxunk the franchise 's downward spiral . xxmaj and , when short - xxunk manager xxmaj george xxmaj knox ( portrayed by xxmaj danny xxmaj glover ) begins believing in what xxmaj roger sees , the team suddenly has hope for turning their season around -- and xxmaj roger and xxup j.p. find something to believe in . xxmaj glover in particular gives a nice performance , and xxmaj tony xxmaj xxunk , playing a washed - up pitcher , also does well , despite clearly having xxup zero idea of how to pitch out of the xxunk !"
            ]
          },
          "metadata": {
            "tags": []
          },
          "execution_count": 18
        }
      ]
    },
    {
      "cell_type": "markdown",
      "metadata": {
        "id": "6lWH4i1u3GbK",
        "colab_type": "text"
      },
      "source": [
        "Numericalized version :"
      ]
    },
    {
      "cell_type": "code",
      "metadata": {
        "id": "Yt7EWGoE3F7Q",
        "colab_type": "code",
        "colab": {
          "base_uri": "https://localhost:8080/",
          "height": 34
        },
        "outputId": "1202224d-285d-4b75-c7e5-fc8eef032727"
      },
      "source": [
        "data.train_ds[0][0].data[:10]"
      ],
      "execution_count": 19,
      "outputs": [
        {
          "output_type": "execute_result",
          "data": {
            "text/plain": [
              "array([   2,    5,   27,   13, 1164,  760,   24,  260,   11,   21])"
            ]
          },
          "metadata": {
            "tags": []
          },
          "execution_count": 19
        }
      ]
    },
    {
      "cell_type": "markdown",
      "metadata": {
        "id": "NuNthz4a3QjX",
        "colab_type": "text"
      },
      "source": [
        "### With data block API"
      ]
    },
    {
      "cell_type": "markdown",
      "metadata": {
        "id": "0mOWVxhN3ihN",
        "colab_type": "text"
      },
      "source": [
        "Use datablock API for a more flexible approach  rather than using the factory methods (with fastai defaults) as above. We have to manually call : tokenization and numericalization steps. "
      ]
    },
    {
      "cell_type": "code",
      "metadata": {
        "id": "t2A3Ddwb3TyC",
        "colab_type": "code",
        "colab": {}
      },
      "source": [
        "data = (TextList.from_csv(path, 'texts.csv', cols='text')\n",
        "       .split_from_df(col=2)\n",
        "       .label_from_df(cols=0)\n",
        "       .databunch())"
      ],
      "execution_count": 0,
      "outputs": []
    },
    {
      "cell_type": "markdown",
      "metadata": {
        "id": "DAA4m2W5593H",
        "colab_type": "text"
      },
      "source": [
        "Grabbing the full dataset,"
      ]
    },
    {
      "cell_type": "code",
      "metadata": {
        "id": "iymi-J0X584E",
        "colab_type": "code",
        "colab": {}
      },
      "source": [
        "path = untar_data(URLs.IMDB)"
      ],
      "execution_count": 0,
      "outputs": []
    },
    {
      "cell_type": "code",
      "metadata": {
        "id": "zpIJ-9F06JzM",
        "colab_type": "code",
        "colab": {
          "base_uri": "https://localhost:8080/",
          "height": 139
        },
        "outputId": "f4054c29-5f84-40e7-cc08-d28a41ae97f1"
      },
      "source": [
        "path.ls()"
      ],
      "execution_count": 32,
      "outputs": [
        {
          "output_type": "execute_result",
          "data": {
            "text/plain": [
              "[PosixPath('/root/.fastai/data/imdb/test'),\n",
              " PosixPath('/root/.fastai/data/imdb/tmp_lm'),\n",
              " PosixPath('/root/.fastai/data/imdb/README'),\n",
              " PosixPath('/root/.fastai/data/imdb/unsup'),\n",
              " PosixPath('/root/.fastai/data/imdb/imdb.vocab'),\n",
              " PosixPath('/root/.fastai/data/imdb/tmp_clas'),\n",
              " PosixPath('/root/.fastai/data/imdb/train')]"
            ]
          },
          "metadata": {
            "tags": []
          },
          "execution_count": 32
        }
      ]
    },
    {
      "cell_type": "code",
      "metadata": {
        "id": "fKCcQItp6Nft",
        "colab_type": "code",
        "colab": {
          "base_uri": "https://localhost:8080/",
          "height": 86
        },
        "outputId": "4b9614d7-60ad-452c-b86d-77b54ffee6c5"
      },
      "source": [
        "(path/'train').ls()"
      ],
      "execution_count": 33,
      "outputs": [
        {
          "output_type": "execute_result",
          "data": {
            "text/plain": [
              "[PosixPath('/root/.fastai/data/imdb/train/neg'),\n",
              " PosixPath('/root/.fastai/data/imdb/train/pos'),\n",
              " PosixPath('/root/.fastai/data/imdb/train/labeledBow.feat'),\n",
              " PosixPath('/root/.fastai/data/imdb/train/unsupBow.feat')]"
            ]
          },
          "metadata": {
            "tags": []
          },
          "execution_count": 33
        }
      ]
    },
    {
      "cell_type": "markdown",
      "metadata": {
        "id": "F_KtEG5C6Yn-",
        "colab_type": "text"
      },
      "source": [
        "## Language Model"
      ]
    },
    {
      "cell_type": "markdown",
      "metadata": {
        "id": "KnU5RnWU6b2x",
        "colab_type": "text"
      },
      "source": [
        "Also start with good weights with transfer learning such as a **Wikitext 103** language model. No reason to start with random weights. Then we can fine tune this language model on the IMDb dataset to create another language model for our purposes because the english used form IMDb reviews isn't the same as the english used for Wikipedia.\n",
        "\n",
        "> Note : We can use the text in test set to train the language model. Use all of the text from the dataset to train the language model. Here we can make use unlabelled data to train the language model!\n",
        "\n",
        "`usup` here means unsupervised i.e. without labels. For a language model, the labels are its own text! "
      ]
    },
    {
      "cell_type": "markdown",
      "metadata": {
        "id": "J-4lyzwk_Mfr",
        "colab_type": "text"
      },
      "source": [
        "The rules are all listed below, here is the meaning of the special tokens:\n",
        "\n",
        "    UNK (xxunk) is for an unknown word (one that isn't present in the current vocabulary)\n",
        "    PAD (xxpad) is the token used for padding, if we need to regroup several texts of different lengths in a batch\n",
        "    BOS (xxbos) represents the beginning of a text in your dataset\n",
        "    FLD (xxfld) is used if you set mark_fields=True in your TokenizeProcessor to separate the different fields of texts (if your texts are loaded from several columns in a dataframe)\n",
        "    TK_MAJ (xxmaj) is used to indicate the next word begins with a capital in the original text\n",
        "    TK_UP (xxup) is used to indicate the next word is written in all caps in the original text\n",
        "    TK_REP (xxrep) is used to indicate the next character is repeated n times in the original text (usage xxrep n {char})\n",
        "    TK_WREP(xxwrep) is used to indicate the next word is repeated n times in the original text (usage xxwrep n {word})\n",
        "    \n",
        "Let's create a databunch of the full IMDb dataset and prepare it for training a language model with weights initialized from the WikiText 103 pretrained language model.\n"
      ]
    },
    {
      "cell_type": "code",
      "metadata": {
        "id": "3Cyb4gvY6a1o",
        "colab_type": "code",
        "colab": {}
      },
      "source": [
        "data_lm = (TextList.from_folder(path)\n",
        "          .filter_by_folder(include=['train', 'test', 'unsup'])\n",
        "          .split_by_rand_pct(0.1)\n",
        "          .label_for_lm()\n",
        "          .databunch(bs=42)) # batch size\n",
        "\n",
        "data_lm.save('data_lm.pkl')"
      ],
      "execution_count": 0,
      "outputs": []
    },
    {
      "cell_type": "markdown",
      "metadata": {
        "id": "RCaThSd9_0Xg",
        "colab_type": "text"
      },
      "source": [
        "Load the databunch for the language model,"
      ]
    },
    {
      "cell_type": "code",
      "metadata": {
        "id": "rJg-Ye_7_fpf",
        "colab_type": "code",
        "colab": {}
      },
      "source": [
        "data_lm = load_data(path, 'data_lm.pkl', bs=42)"
      ],
      "execution_count": 0,
      "outputs": []
    },
    {
      "cell_type": "code",
      "metadata": {
        "id": "RXUk2-XhADCu",
        "colab_type": "code",
        "colab": {
          "base_uri": "https://localhost:8080/",
          "height": 363
        },
        "outputId": "c4eae063-18fc-4751-86e8-51c1cf9502aa"
      },
      "source": [
        "data_lm.show_batch()"
      ],
      "execution_count": 37,
      "outputs": [
        {
          "output_type": "display_data",
          "data": {
            "text/html": [
              "<table border=\"1\" class=\"dataframe\">\n",
              "  <thead>\n",
              "    <tr style=\"text-align: right;\">\n",
              "      <th>idx</th>\n",
              "      <th>text</th>\n",
              "    </tr>\n",
              "  </thead>\n",
              "  <tbody>\n",
              "    <tr>\n",
              "      <td>0</td>\n",
              "      <td>, get tattoos , hang about doing nothing , etc . etc , xxmaj they generally imagine themselves to be hard and every so often shout challenging rap chants into the camera . xxmaj filmed in xxup mtv style , fast cuts , crazy camera angles , tight close ups and animation interludes . xxmaj the dialogue might have been crisper in the original languages of xxmaj mandarin and xxmaj</td>\n",
              "    </tr>\n",
              "    <tr>\n",
              "      <td>1</td>\n",
              "      <td>remind the viewer of the classic van dam films . parts of the plot do n't make sense and seem to be added in to use up time . the end plot is that of a very basic type that does n't leave the viewer guessing and any twists are obvious from the beginning . the end scene with the flask backs do n't make sense as they are added</td>\n",
              "    </tr>\n",
              "    <tr>\n",
              "      <td>2</td>\n",
              "      <td>'re asked to say , and should n't be believed . xxmaj the fact that the injured policeman supports xxmaj jackson is moderately plausible , but still a bit convenient ( and what if he had died ? ) i find it hard to believe that the xxup kkk would march down the street in broad daylight . xxmaj other apparently serious crimes ( riot , arson , kidnapping ,</td>\n",
              "    </tr>\n",
              "    <tr>\n",
              "      <td>3</td>\n",
              "      <td>\" xxunk \" . xxmaj and it would have helped if the dialogue had n't been swamped by noisy locations or scenes flooded with distracting and inappropriate music . xxmaj the plot is ludicrous : xxmaj the lost xxmaj charles xxmaj dickens story supposedly helps our hero solve a series of modern murders , but so would a copy of xxmaj herge 's xxmaj adventures xxmaj of xxmaj tintin ,</td>\n",
              "    </tr>\n",
              "    <tr>\n",
              "      <td>4</td>\n",
              "      <td>, really , that 's how it starts ) . xxmaj just then he gets a visit by his agent and best friend . xxmaj he mentions to her that he has learned from the paper that a certain millionaire has died , which takes the story 14 years back . xxmaj he can still see and is about to direct his next film . xxmaj he stars the inexperienced</td>\n",
              "    </tr>\n",
              "  </tbody>\n",
              "</table>"
            ],
            "text/plain": [
              "<IPython.core.display.HTML object>"
            ]
          },
          "metadata": {
            "tags": []
          }
        }
      ]
    },
    {
      "cell_type": "markdown",
      "metadata": {
        "id": "y-bCsxBTA1S0",
        "colab_type": "text"
      },
      "source": [
        "> Note : For RNNs, decreasing the momentum helps.\n",
        "\n",
        "Now we create a RNN learner (here we are using **AWD_LSTM** instead of **Wikitext 103** for transfer learning)"
      ]
    },
    {
      "cell_type": "code",
      "metadata": {
        "id": "P7xfXKNTAkx_",
        "colab_type": "code",
        "colab": {}
      },
      "source": [
        "learn = language_model_learner(data_lm, AWD_LSTM, drop_mult=0.3)"
      ],
      "execution_count": 0,
      "outputs": []
    },
    {
      "cell_type": "code",
      "metadata": {
        "id": "SmMzMFhfC__2",
        "colab_type": "code",
        "colab": {
          "base_uri": "https://localhost:8080/",
          "height": 34
        },
        "outputId": "e3dd044f-3a0f-4b4d-cad0-e7b084a58245"
      },
      "source": [
        "learn.lr_find()"
      ],
      "execution_count": 39,
      "outputs": [
        {
          "output_type": "display_data",
          "data": {
            "text/html": [
              ""
            ],
            "text/plain": [
              "<IPython.core.display.HTML object>"
            ]
          },
          "metadata": {
            "tags": []
          }
        },
        {
          "output_type": "stream",
          "text": [
            "LR Finder is complete, type {learner_name}.recorder.plot() to see the graph.\n"
          ],
          "name": "stdout"
        }
      ]
    },
    {
      "cell_type": "code",
      "metadata": {
        "id": "sBkDMpoODCsq",
        "colab_type": "code",
        "colab": {
          "base_uri": "https://localhost:8080/",
          "height": 283
        },
        "outputId": "2eb891e9-8360-48ab-91f0-ccd55107f9c2"
      },
      "source": [
        "learn.recorder.plot(skip_end=15)"
      ],
      "execution_count": 41,
      "outputs": [
        {
          "output_type": "display_data",
          "data": {
            "image/png": "[encoded data removed]",
            "text/plain": [
              "<Figure size 432x288 with 1 Axes>"
            ]
          },
          "metadata": {
            "tags": []
          }
        }
      ]
    },
    {
      "cell_type": "markdown",
      "metadata": {
        "id": "TiaXdGzIDXd7",
        "colab_type": "text"
      },
      "source": [
        "Fine tuning the last layers,"
      ]
    },
    {
      "cell_type": "code",
      "metadata": {
        "id": "_nppUiriDTZX",
        "colab_type": "code",
        "colab": {
          "base_uri": "https://localhost:8080/",
          "height": 81
        },
        "outputId": "27b13bb7-2aa0-4f08-b704-f5c53fee29a8"
      },
      "source": [
        "learn.fit_one_cycle(1, 1e-02, moms=(0.8,0.7))"
      ],
      "execution_count": 42,
      "outputs": [
        {
          "output_type": "display_data",
          "data": {
            "text/html": [
              "<table border=\"1\" class=\"dataframe\">\n",
              "  <thead>\n",
              "    <tr style=\"text-align: left;\">\n",
              "      <th>epoch</th>\n",
              "      <th>train_loss</th>\n",
              "      <th>valid_loss</th>\n",
              "      <th>accuracy</th>\n",
              "      <th>time</th>\n",
              "    </tr>\n",
              "  </thead>\n",
              "  <tbody>\n",
              "    <tr>\n",
              "      <td>0</td>\n",
              "      <td>4.166260</td>\n",
              "      <td>4.043005</td>\n",
              "      <td>0.295039</td>\n",
              "      <td>49:30</td>\n",
              "    </tr>\n",
              "  </tbody>\n",
              "</table>"
            ],
            "text/plain": [
              "<IPython.core.display.HTML object>"
            ]
          },
          "metadata": {
            "tags": []
          }
        }
      ]
    },
    {
      "cell_type": "markdown",
      "metadata": {
        "id": "V6A_Pt9SPkXx",
        "colab_type": "text"
      },
      "source": [
        "> Note : Accuracy of ~0.3 is good enough initially. For limited domain documents like medical and legal transcripts, we can have even higher accuracy."
      ]
    },
    {
      "cell_type": "code",
      "metadata": {
        "id": "mKNkgi4oDqXs",
        "colab_type": "code",
        "colab": {}
      },
      "source": [
        "learn.save('fit_head')"
      ],
      "execution_count": 0,
      "outputs": []
    },
    {
      "cell_type": "code",
      "metadata": {
        "id": "k840o8VTEyso",
        "colab_type": "code",
        "colab": {}
      },
      "source": [
        "learn.load('fit_head');"
      ],
      "execution_count": 0,
      "outputs": []
    },
    {
      "cell_type": "markdown",
      "metadata": {
        "id": "GOFBfticE4YA",
        "colab_type": "text"
      },
      "source": [
        "Let's fine tune the model now. First we unfreeze the layers i.e. make them trainable and then train them for a few more epochs."
      ]
    },
    {
      "cell_type": "code",
      "metadata": {
        "id": "TG5fjpODE2IW",
        "colab_type": "code",
        "colab": {}
      },
      "source": [
        "learn.unfreeze()"
      ],
      "execution_count": 0,
      "outputs": []
    },
    {
      "cell_type": "code",
      "metadata": {
        "id": "nmx3_hf-E6wL",
        "colab_type": "code",
        "colab": {}
      },
      "source": [
        "learn.fit_one_cycle(10, 1e-03, moms(0.8, 0.7)) # note : this takes a few hours"
      ],
      "execution_count": 0,
      "outputs": []
    },
    {
      "cell_type": "code",
      "metadata": {
        "id": "z2SKpZpOHopA",
        "colab_type": "code",
        "colab": {}
      },
      "source": [
        "learn.save('fine_tuned')"
      ],
      "execution_count": 0,
      "outputs": []
    },
    {
      "cell_type": "markdown",
      "metadata": {
        "id": "oHR5P2rRHr8v",
        "colab_type": "text"
      },
      "source": [
        "Lets see how well our language model predicts the next word given a few words,"
      ]
    },
    {
      "cell_type": "code",
      "metadata": {
        "id": "QLGcfujtJm1-",
        "colab_type": "code",
        "colab": {}
      },
      "source": [
        "text = 'I liked this movie because'\n",
        "n_words = 40\n",
        "n_sentences = 2"
      ],
      "execution_count": 0,
      "outputs": []
    },
    {
      "cell_type": "code",
      "metadata": {
        "id": "DQEGhELlHq3L",
        "colab_type": "code",
        "colab": {
          "base_uri": "https://localhost:8080/",
          "height": 72
        },
        "outputId": "4ddea610-5ce7-42c0-b4c6-895dd0e172a9"
      },
      "source": [
        "print(\"\\n\".join(learn.predict(text, n_words, temperature=0.75) \n",
        "                for _ in range(n_sentences)))"
      ],
      "execution_count": 47,
      "outputs": [
        {
          "output_type": "stream",
          "text": [
            "I liked this movie because i was very surprised to see the movie . The Spanish director , Ang Lee , is a fan of Hollywood and do n't know if the movie has been done . There 's\n",
            "I liked this movie because of the acting . i seriously enjoyed the movie . This really good movie is a great movie to watch . Bad acting and the good acting , terrible acting and cinematography . The acting is terrible\n"
          ],
          "name": "stdout"
        }
      ]
    },
    {
      "cell_type": "markdown",
      "metadata": {
        "id": "d3hzFukKITWP",
        "colab_type": "text"
      },
      "source": [
        "It does not make a whole lot of sense, but atleast it not completely random. We only care about the **encoder** inside the model and not neccesarily the part that predicts the next word. \n",
        "\n",
        "> Think of the language model as having two parts : \n",
        "1. The encoder understands the sentences i.e. the part responsible for creating and updating the hidden states in a RNN  \n",
        "2. The decoder predicts the next word  \n",
        "\n",
        "\n",
        "Lets save the encoder part as follows,"
      ]
    },
    {
      "cell_type": "code",
      "metadata": {
        "id": "9mN4BSr_IdLF",
        "colab_type": "code",
        "colab": {}
      },
      "source": [
        "learn.save_encoder('fine_tuned_enc')"
      ],
      "execution_count": 0,
      "outputs": []
    },
    {
      "cell_type": "markdown",
      "metadata": {
        "id": "OJFeMqEsIheS",
        "colab_type": "text"
      },
      "source": [
        "## Classifier\n",
        "\n",
        "The vocab for the classifier needs to be the same as the vocab used for training the language model."
      ]
    },
    {
      "cell_type": "code",
      "metadata": {
        "id": "lYDw5tz7JV5M",
        "colab_type": "code",
        "colab": {}
      },
      "source": [
        "path = untar_data(URLs.IMDB)"
      ],
      "execution_count": 0,
      "outputs": []
    },
    {
      "cell_type": "code",
      "metadata": {
        "id": "CQ0KYLoNKUXx",
        "colab_type": "code",
        "colab": {}
      },
      "source": [
        "data_clas = (TextList.from_folder(path, vocab=data_lm.vocab)\n",
        "             #grab all the text files in path\n",
        "             .split_by_folder(valid='test')\n",
        "             #split by train and valid folder (that only keeps 'train' and 'test' so no need to filter)\n",
        "             .label_from_folder(classes=['neg', 'pos'])\n",
        "             #label them all with their folders\n",
        "             .databunch(bs=42))\n",
        "\n",
        "data_clas.save('data_clas.pkl')"
      ],
      "execution_count": 0,
      "outputs": []
    },
    {
      "cell_type": "code",
      "metadata": {
        "id": "XIawlEUyKq8T",
        "colab_type": "code",
        "colab": {}
      },
      "source": [
        "data_clas = load_data(path, 'data_clas.pkl', bs=42)"
      ],
      "execution_count": 0,
      "outputs": []
    },
    {
      "cell_type": "code",
      "metadata": {
        "id": "3INf0CmMKw-G",
        "colab_type": "code",
        "colab": {
          "base_uri": "https://localhost:8080/",
          "height": 380
        },
        "outputId": "a43e930b-d540-4bc1-8ae3-8c5c82110977"
      },
      "source": [
        "data_clas.show_batch()"
      ],
      "execution_count": 57,
      "outputs": [
        {
          "output_type": "display_data",
          "data": {
            "text/html": [
              "<table border=\"1\" class=\"dataframe\">\n",
              "  <thead>\n",
              "    <tr style=\"text-align: right;\">\n",
              "      <th>text</th>\n",
              "      <th>target</th>\n",
              "    </tr>\n",
              "  </thead>\n",
              "  <tbody>\n",
              "    <tr>\n",
              "      <td>xxbos xxmaj match 1 : xxmaj tag xxmaj team xxmaj table xxmaj match xxmaj bubba xxmaj ray and xxmaj spike xxmaj dudley vs xxmaj eddie xxmaj guerrero and xxmaj chris xxmaj benoit xxmaj bubba xxmaj ray and xxmaj spike xxmaj dudley started things off with a xxmaj tag xxmaj team xxmaj table xxmaj match against xxmaj eddie xxmaj guerrero and xxmaj chris xxmaj benoit . xxmaj according to the rules</td>\n",
              "      <td>pos</td>\n",
              "    </tr>\n",
              "    <tr>\n",
              "      <td>xxbos * * * xxup spoilers * * * * * * xxup spoilers * * * xxmaj continued ... \\n \\n  xxmaj from here on in the whole movie collapses in on itself . xxmaj first we meet a rogue program with the indication we 're gon na get ghosts and vampires and werewolves and the like . xxmaj we get a guy with a retarded accent talking</td>\n",
              "      <td>neg</td>\n",
              "    </tr>\n",
              "    <tr>\n",
              "      <td>xxbos xxup myra xxup breckinridge is one of those rare films that established its place in film history immediately . xxmaj praise for the film was absolutely nonexistent , even from the people involved in making it . xxmaj this film was loathed from day one . xxmaj while every now and then one will come across some maverick who will praise the film on philosophical grounds ( aggressive feminism</td>\n",
              "      <td>neg</td>\n",
              "    </tr>\n",
              "    <tr>\n",
              "      <td>xxbos i felt duty bound to watch the 1983 xxmaj timothy xxmaj dalton / xxmaj zelah xxmaj clarke adaptation of \" xxmaj jane xxmaj eyre , \" because i 'd just written an article about the 2006 xxup bbc \" xxmaj jane xxmaj eyre \" for xxunk . \\n \\n  xxmaj so , i approached watching this the way i 'd approach doing homework . \\n \\n  i</td>\n",
              "      <td>pos</td>\n",
              "    </tr>\n",
              "    <tr>\n",
              "      <td>xxbos xxmaj it has said that xxmaj the xxmaj movies and xxmaj baseball both thrived during xxmaj the xxmaj great xxmaj depression . xxmaj it appears that the grim realities of a xxmaj nation caught up in the aftermath of this xxmaj economic xxmaj disaster created a need for occasional relief for the populace . a temporary escape could be found in the on going soap opera that is xxmaj</td>\n",
              "      <td>pos</td>\n",
              "    </tr>\n",
              "  </tbody>\n",
              "</table>"
            ],
            "text/plain": [
              "<IPython.core.display.HTML object>"
            ]
          },
          "metadata": {
            "tags": []
          }
        }
      ]
    },
    {
      "cell_type": "markdown",
      "metadata": {
        "id": "gWmelnhBLL3k",
        "colab_type": "text"
      },
      "source": [
        "Now create a model to classify those reviews and load the encoder we save previously,"
      ]
    },
    {
      "cell_type": "code",
      "metadata": {
        "id": "apGdhLd0LGE8",
        "colab_type": "code",
        "colab": {}
      },
      "source": [
        "learn = text_classifier_learner(data_clas, AWD_LSTM, drop_mult=0.5)\n",
        "learn.load_encoder('fine_tuned_enc')\n",
        "learn.freeze()"
      ],
      "execution_count": 0,
      "outputs": []
    },
    {
      "cell_type": "markdown",
      "metadata": {
        "id": "N9StRUw5NKR8",
        "colab_type": "text"
      },
      "source": [
        "Change the dropout accordingly (to counter overfitting or underfitting)"
      ]
    },
    {
      "cell_type": "code",
      "metadata": {
        "id": "Py_bzgSrMC2o",
        "colab_type": "code",
        "colab": {
          "base_uri": "https://localhost:8080/",
          "height": 34
        },
        "outputId": "80ee9bb3-bd04-4d5c-a94b-97f83067b3d3"
      },
      "source": [
        "learn.lr_find()"
      ],
      "execution_count": 60,
      "outputs": [
        {
          "output_type": "display_data",
          "data": {
            "text/html": [
              ""
            ],
            "text/plain": [
              "<IPython.core.display.HTML object>"
            ]
          },
          "metadata": {
            "tags": []
          }
        },
        {
          "output_type": "stream",
          "text": [
            "LR Finder is complete, type {learner_name}.recorder.plot() to see the graph.\n"
          ],
          "name": "stdout"
        }
      ]
    },
    {
      "cell_type": "code",
      "metadata": {
        "id": "pRlV68_KMElz",
        "colab_type": "code",
        "colab": {
          "base_uri": "https://localhost:8080/",
          "height": 318
        },
        "outputId": "c712e6d0-f723-4a5b-d1d5-2f84fd5b5516"
      },
      "source": [
        "learn.recorder.plot(suggestion=True)"
      ],
      "execution_count": 62,
      "outputs": [
        {
          "output_type": "stream",
          "text": [
            "Min numerical gradient: 3.63E-03\n",
            "Min loss divided by 10: 2.09E-02\n"
          ],
          "name": "stdout"
        },
        {
          "output_type": "display_data",
          "data": {
            "image/png": "[encoded data removed]",
            "text/plain": [
              "<Figure size 432x288 with 1 Axes>"
            ]
          },
          "metadata": {
            "tags": []
          }
        }
      ]
    },
    {
      "cell_type": "code",
      "metadata": {
        "id": "kc86PY8nMGrw",
        "colab_type": "code",
        "colab": {
          "base_uri": "https://localhost:8080/",
          "height": 81
        },
        "outputId": "9c9514f5-7cf9-4a48-f155-7473a8dedf97"
      },
      "source": [
        "learn.fit_one_cycle(1, 2e-02, moms=(0.8,0.7))"
      ],
      "execution_count": 63,
      "outputs": [
        {
          "output_type": "display_data",
          "data": {
            "text/html": [
              "<table border=\"1\" class=\"dataframe\">\n",
              "  <thead>\n",
              "    <tr style=\"text-align: left;\">\n",
              "      <th>epoch</th>\n",
              "      <th>train_loss</th>\n",
              "      <th>valid_loss</th>\n",
              "      <th>accuracy</th>\n",
              "      <th>time</th>\n",
              "    </tr>\n",
              "  </thead>\n",
              "  <tbody>\n",
              "    <tr>\n",
              "      <td>0</td>\n",
              "      <td>0.417254</td>\n",
              "      <td>0.348688</td>\n",
              "      <td>0.851400</td>\n",
              "      <td>05:47</td>\n",
              "    </tr>\n",
              "  </tbody>\n",
              "</table>"
            ],
            "text/plain": [
              "<IPython.core.display.HTML object>"
            ]
          },
          "metadata": {
            "tags": []
          }
        }
      ]
    },
    {
      "cell_type": "code",
      "metadata": {
        "id": "Au7UooXNM-28",
        "colab_type": "code",
        "colab": {}
      },
      "source": [
        "learn.save('stage-1')"
      ],
      "execution_count": 0,
      "outputs": []
    },
    {
      "cell_type": "code",
      "metadata": {
        "id": "p2LFdWu9NzPZ",
        "colab_type": "code",
        "colab": {}
      },
      "source": [
        "learn.load('stage-1');"
      ],
      "execution_count": 0,
      "outputs": []
    },
    {
      "cell_type": "markdown",
      "metadata": {
        "id": "4jPQ4FySOCu0",
        "colab_type": "text"
      },
      "source": [
        "Now rather than unfreezing, "
      ]
    },
    {
      "cell_type": "code",
      "metadata": {
        "id": "l2gJqCzhNBBb",
        "colab_type": "code",
        "colab": {}
      },
      "source": [
        "learn.freeze_to(-2) # unfreeze the last two layers"
      ],
      "execution_count": 0,
      "outputs": []
    },
    {
      "cell_type": "code",
      "metadata": {
        "id": "-Y9lpiJfNCVP",
        "colab_type": "code",
        "colab": {
          "base_uri": "https://localhost:8080/",
          "height": 318
        },
        "outputId": "ce669608-8e41-48e5-dbfd-63ebd417bab8"
      },
      "source": [
        "learn.lr_find()\n",
        "learn.recorder.plot(suggestion=True)"
      ],
      "execution_count": 70,
      "outputs": [
        {
          "output_type": "stream",
          "text": [
            "Min numerical gradient: 2.29E-06\n",
            "Min loss divided by 10: 2.09E-06\n"
          ],
          "name": "stdout"
        },
        {
          "output_type": "display_data",
          "data": {
            "image/png": "[encoded data removed]",
            "text/plain": [
              "<Figure size 432x288 with 1 Axes>"
            ]
          },
          "metadata": {
            "tags": []
          }
        }
      ]
    },
    {
      "cell_type": "markdown",
      "metadata": {
        "id": "46Yq03ebVCyl",
        "colab_type": "text"
      },
      "source": [
        "> Note : As we are using discriminative learning rates, we are using a factor of **1/(2.6^4)** for lower layers. For NLP RNN **2.6** was found by using a random forest with different hyperparameters. We can use RF to find optimal hyperparameters."
      ]
    },
    {
      "cell_type": "code",
      "metadata": {
        "id": "9imkmndGNEkW",
        "colab_type": "code",
        "colab": {
          "base_uri": "https://localhost:8080/",
          "height": 81
        },
        "outputId": "3b4a5f2f-b787-47c0-ada7-1ffeccc6fe34"
      },
      "source": [
        " # why were these learnin rates chosen?\n",
        "learn.fit_one_cycle(1, slice(1e-2/(2.6**4), 1e-2), moms=(0.8,0.7))"
      ],
      "execution_count": 71,
      "outputs": [
        {
          "output_type": "display_data",
          "data": {
            "text/html": [
              "<table border=\"1\" class=\"dataframe\">\n",
              "  <thead>\n",
              "    <tr style=\"text-align: left;\">\n",
              "      <th>epoch</th>\n",
              "      <th>train_loss</th>\n",
              "      <th>valid_loss</th>\n",
              "      <th>accuracy</th>\n",
              "      <th>time</th>\n",
              "    </tr>\n",
              "  </thead>\n",
              "  <tbody>\n",
              "    <tr>\n",
              "      <td>0</td>\n",
              "      <td>0.324650</td>\n",
              "      <td>0.220821</td>\n",
              "      <td>0.913880</td>\n",
              "      <td>07:08</td>\n",
              "    </tr>\n",
              "  </tbody>\n",
              "</table>"
            ],
            "text/plain": [
              "<IPython.core.display.HTML object>"
            ]
          },
          "metadata": {
            "tags": []
          }
        }
      ]
    },
    {
      "cell_type": "markdown",
      "metadata": {
        "id": "JgDEMkoCV6jz",
        "colab_type": "text"
      },
      "source": [
        "We are already getting 91% here! We can continue with this approach and keep on training,"
      ]
    },
    {
      "cell_type": "code",
      "metadata": {
        "id": "abY-yzLXOiZK",
        "colab_type": "code",
        "colab": {}
      },
      "source": [
        "learn.save('stage-2')"
      ],
      "execution_count": 0,
      "outputs": []
    },
    {
      "cell_type": "code",
      "metadata": {
        "id": "aBmfXtOVOkqG",
        "colab_type": "code",
        "colab": {}
      },
      "source": [
        "learn.load('stage-2');"
      ],
      "execution_count": 0,
      "outputs": []
    },
    {
      "cell_type": "code",
      "metadata": {
        "id": "ZaJBCw7mOr36",
        "colab_type": "code",
        "colab": {
          "base_uri": "https://localhost:8080/",
          "height": 81
        },
        "outputId": "93915142-0375-4eb8-b620-a90171ad8e12"
      },
      "source": [
        "learn.freeze_to(-3) # unfreeze the last 3 layers\n",
        "learn.fit_one_cycle(1, slice(5e-3/(2.6**4), 5e-3), moms=(0.8,0.7))"
      ],
      "execution_count": 78,
      "outputs": [
        {
          "output_type": "display_data",
          "data": {
            "text/html": [
              "<table border=\"1\" class=\"dataframe\">\n",
              "  <thead>\n",
              "    <tr style=\"text-align: left;\">\n",
              "      <th>epoch</th>\n",
              "      <th>train_loss</th>\n",
              "      <th>valid_loss</th>\n",
              "      <th>accuracy</th>\n",
              "      <th>time</th>\n",
              "    </tr>\n",
              "  </thead>\n",
              "  <tbody>\n",
              "    <tr>\n",
              "      <td>0</td>\n",
              "      <td>0.249512</td>\n",
              "      <td>0.182321</td>\n",
              "      <td>0.930680</td>\n",
              "      <td>10:09</td>\n",
              "    </tr>\n",
              "  </tbody>\n",
              "</table>"
            ],
            "text/plain": [
              "<IPython.core.display.HTML object>"
            ]
          },
          "metadata": {
            "tags": []
          }
        }
      ]
    },
    {
      "cell_type": "code",
      "metadata": {
        "id": "o_7oPRDpO5hw",
        "colab_type": "code",
        "colab": {}
      },
      "source": [
        "learn.save('stage-3')"
      ],
      "execution_count": 0,
      "outputs": []
    },
    {
      "cell_type": "code",
      "metadata": {
        "id": "ctp6lICOPCbr",
        "colab_type": "code",
        "colab": {}
      },
      "source": [
        "learn.load('stage-3');"
      ],
      "execution_count": 0,
      "outputs": []
    },
    {
      "cell_type": "markdown",
      "metadata": {
        "id": "YClkki6yZUFO",
        "colab_type": "text"
      },
      "source": [
        "Now unfreezing all the layers and training one last time,"
      ]
    },
    {
      "cell_type": "code",
      "metadata": {
        "id": "4W_Vh8U2PELf",
        "colab_type": "code",
        "colab": {
          "base_uri": "https://localhost:8080/",
          "height": 81
        },
        "outputId": "60baf515-32b5-4030-9289-fe6b8414251e"
      },
      "source": [
        "learn.unfreeze() # unfreeze all the layers\n",
        "learn.fit_one_cycle(1, slice(1e-2/(2.6**4), 1e-2), moms=(0.8,0.7))"
      ],
      "execution_count": 82,
      "outputs": [
        {
          "output_type": "display_data",
          "data": {
            "text/html": [
              "<table border=\"1\" class=\"dataframe\">\n",
              "  <thead>\n",
              "    <tr style=\"text-align: left;\">\n",
              "      <th>epoch</th>\n",
              "      <th>train_loss</th>\n",
              "      <th>valid_loss</th>\n",
              "      <th>accuracy</th>\n",
              "      <th>time</th>\n",
              "    </tr>\n",
              "  </thead>\n",
              "  <tbody>\n",
              "    <tr>\n",
              "      <td>0</td>\n",
              "      <td>0.238269</td>\n",
              "      <td>0.171374</td>\n",
              "      <td>0.937400</td>\n",
              "      <td>12:18</td>\n",
              "    </tr>\n",
              "  </tbody>\n",
              "</table>"
            ],
            "text/plain": [
              "<IPython.core.display.HTML object>"
            ]
          },
          "metadata": {
            "tags": []
          }
        }
      ]
    },
    {
      "cell_type": "code",
      "metadata": {
        "id": "nNt3BPrceDWc",
        "colab_type": "code",
        "colab": {}
      },
      "source": [
        "learn.save('final')"
      ],
      "execution_count": 0,
      "outputs": []
    },
    {
      "cell_type": "markdown",
      "metadata": {
        "id": "61r1D4-Cdiwd",
        "colab_type": "text"
      },
      "source": [
        "This gives us a 93% accuracy. \n",
        "\n",
        "> Note : Here only the encodings from the initial language model (with minimal fine-tuning) was used. Accuracy can be improved with a better encodings from a language model trained on more number of epochs."
      ]
    },
    {
      "cell_type": "markdown",
      "metadata": {
        "id": "PB7G_yEnWJJ2",
        "colab_type": "text"
      },
      "source": [
        "## Sentiment prediction"
      ]
    },
    {
      "cell_type": "markdown",
      "metadata": {
        "id": "M899ye77e_35",
        "colab_type": "text"
      },
      "source": [
        "Now lets see how the model predicts the sentiments of the following (made-up) reviews,"
      ]
    },
    {
      "cell_type": "code",
      "metadata": {
        "id": "84oUcTgXPbcw",
        "colab_type": "code",
        "colab": {
          "base_uri": "https://localhost:8080/",
          "height": 34
        },
        "outputId": "08c15ac6-7d74-4140-bf77-e6dc638ed998"
      },
      "source": [
        "learn.predict(\"I really loved that movie, and it was awesome!\")"
      ],
      "execution_count": 83,
      "outputs": [
        {
          "output_type": "execute_result",
          "data": {
            "text/plain": [
              "(Category pos, tensor(1), tensor([1.0743e-04, 9.9989e-01]))"
            ]
          },
          "metadata": {
            "tags": []
          },
          "execution_count": 83
        }
      ]
    },
    {
      "cell_type": "code",
      "metadata": {
        "id": "Y2_hLBi5et4k",
        "colab_type": "code",
        "colab": {
          "base_uri": "https://localhost:8080/",
          "height": 34
        },
        "outputId": "5d33012a-3d64-41d0-aef6-602a5114f658"
      },
      "source": [
        "learn.predict(\"The movie wasn't that great.\")"
      ],
      "execution_count": 85,
      "outputs": [
        {
          "output_type": "execute_result",
          "data": {
            "text/plain": [
              "(Category neg, tensor(0), tensor([0.7747, 0.2253]))"
            ]
          },
          "metadata": {
            "tags": []
          },
          "execution_count": 85
        }
      ]
    },
    {
      "cell_type": "code",
      "metadata": {
        "id": "3aVGqokle0n-",
        "colab_type": "code",
        "colab": {
          "base_uri": "https://localhost:8080/",
          "height": 34
        },
        "outputId": "41583d59-b8e1-498e-f791-4707f97a14ee"
      },
      "source": [
        "learn.predict(\"Absolutely terrible movie. Although I really liked the acting and the cinematography.\")"
      ],
      "execution_count": 87,
      "outputs": [
        {
          "output_type": "execute_result",
          "data": {
            "text/plain": [
              "(Category neg, tensor(0), tensor([0.9891, 0.0109]))"
            ]
          },
          "metadata": {
            "tags": []
          },
          "execution_count": 87
        }
      ]
    }
  ]
}