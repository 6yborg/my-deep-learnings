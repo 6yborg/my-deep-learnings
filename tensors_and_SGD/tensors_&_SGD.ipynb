{
  "nbformat": 4,
  "nbformat_minor": 0,
  "metadata": {
    "colab": {
      "name": "tensors_&_SGD.ipynb",
      "version": "0.3.2",
      "provenance": [],
      "collapsed_sections": []
    },
    "kernelspec": {
      "name": "python3",
      "display_name": "Python 3"
    },
    "accelerator": "GPU"
  },
  "cells": [
    {
      "cell_type": "markdown",
      "metadata": {
        "id": "LS2vN6al4NBk",
        "colab_type": "text"
      },
      "source": [
        "# Tensors & Stochastic Gradient Descent (SGD) in PyTorch"
      ]
    },
    {
      "cell_type": "markdown",
      "metadata": {
        "id": "BhNaH4siXQWW",
        "colab_type": "text"
      },
      "source": [
        "## Tensors"
      ]
    },
    {
      "cell_type": "markdown",
      "metadata": {
        "colab_type": "text",
        "id": "rJkSk3WOXZLL"
      },
      "source": [
        "SGD is one of the most commonly used **optimization** algorithms for deep learning. Here is a simple demonstration of SGD for Linear Regression, one of the simplest, most commonly used and highly interpretable machine learning models."
      ]
    },
    {
      "cell_type": "markdown",
      "metadata": {
        "colab_type": "text",
        "id": "dkAHYwZNXZLC"
      },
      "source": [
        "A simple linear regression can be defined as follows,"
      ]
    },
    {
      "cell_type": "markdown",
      "metadata": {
        "colab_type": "text",
        "id": "iEqaPSyxXZKs"
      },
      "source": [
        "$y=aX + b$\n",
        "\n",
        "$a = [a_1, a_2]$\n",
        "\n",
        "$ X = [1, 2, 3] $"
      ]
    },
    {
      "cell_type": "markdown",
      "metadata": {
        "id": "8VJyfcrG5iQ6",
        "colab_type": "text"
      },
      "source": [
        "### Import Libraries"
      ]
    },
    {
      "cell_type": "code",
      "metadata": {
        "id": "NZu7EI20CAjO",
        "colab_type": "code",
        "colab": {}
      },
      "source": [
        "%matplotlib inline\n",
        "import numpy as np\n",
        "import matplotlib.pyplot as plt\n",
        "import seaborn as sns\n",
        "import torch\n",
        "from torch import nn\n",
        "torch.manual_seed(42); # set for reproducibility"
      ],
      "execution_count": 0,
      "outputs": []
    },
    {
      "cell_type": "markdown",
      "metadata": {
        "id": "4tVtIX596MzK",
        "colab_type": "text"
      },
      "source": [
        "### Generating Tensors"
      ]
    },
    {
      "cell_type": "markdown",
      "metadata": {
        "id": "VXbEqnjLZPzP",
        "colab_type": "text"
      },
      "source": [
        "https://discuss.pytorch.org/t/what-is-the-difference-between-tensor-and-tensor-is-tensor-going-to-be-deprecated-in-the-future/17134/8"
      ]
    },
    {
      "cell_type": "code",
      "metadata": {
        "id": "9HZqZfyDYgT0",
        "colab_type": "code",
        "colab": {
          "base_uri": "https://localhost:8080/",
          "height": 86
        },
        "outputId": "08b04b93-de86-4181-c41d-9d46d1d62154"
      },
      "source": [
        "print(torch.tensor(1), '->', torch.tensor(1).dtype)\n",
        "print(torch.empty(1), '->', torch.empty(1).dtype)\n",
        "print(torch.FloatTensor(1), '->', torch.FloatTensor(1).dtype)\n",
        "print(torch.Tensor(1), '->', torch.Tensor(1).dtype)"
      ],
      "execution_count": 159,
      "outputs": [
        {
          "output_type": "stream",
          "text": [
            "tensor(1) -> torch.int64\n",
            "tensor([2.7767e-36]) -> torch.float32\n",
            "tensor([2.7770e-36]) -> torch.float32\n",
            "tensor([2.7767e-36]) -> torch.float32\n"
          ],
          "name": "stdout"
        }
      ]
    },
    {
      "cell_type": "markdown",
      "metadata": {
        "id": "zDXqGbaxbzsE",
        "colab_type": "text"
      },
      "source": [
        "> Note : Here `torch.tensor()` with a single number actually returns a scalar values whereas the other return a tensor."
      ]
    },
    {
      "cell_type": "markdown",
      "metadata": {
        "id": "IVGT6RK3Z-Hs",
        "colab_type": "text"
      },
      "source": [
        "### Specifying types and coercing"
      ]
    },
    {
      "cell_type": "code",
      "metadata": {
        "id": "ApOhUgnjZa6G",
        "colab_type": "code",
        "colab": {
          "base_uri": "https://localhost:8080/",
          "height": 52
        },
        "outputId": "c6246a22-1283-413a-e35f-c9a5fa060c9a"
      },
      "source": [
        "x = torch.tensor(1, dtype=torch.int32)\n",
        "print(x.dtype)\n",
        "y = torch.tensor(1., dtype=torch.int32)\n",
        "print(y.dtype)"
      ],
      "execution_count": 163,
      "outputs": [
        {
          "output_type": "stream",
          "text": [
            "torch.int32\n",
            "torch.int32\n"
          ],
          "name": "stdout"
        }
      ]
    },
    {
      "cell_type": "code",
      "metadata": {
        "id": "IOvgGQkTYSi8",
        "colab_type": "code",
        "outputId": "aa247668-69a4-4ae8-9236-10d2a920f0dc",
        "colab": {
          "base_uri": "https://localhost:8080/",
          "height": 34
        }
      },
      "source": [
        "torch.tensor([1,1]).size()"
      ],
      "execution_count": 164,
      "outputs": [
        {
          "output_type": "execute_result",
          "data": {
            "text/plain": [
              "torch.Size([2])"
            ]
          },
          "metadata": {
            "tags": []
          },
          "execution_count": 164
        }
      ]
    },
    {
      "cell_type": "markdown",
      "metadata": {
        "id": "0fCkaHuY8H-A",
        "colab_type": "text"
      },
      "source": [
        "Set the number of training samples/examples and create a tensor of **n x 2** dimensions as follows,"
      ]
    },
    {
      "cell_type": "markdown",
      "metadata": {
        "colab_type": "text",
        "id": "sxyWu-ouaYbR"
      },
      "source": [
        "Cannot do this with `torch.Tensor()`"
      ]
    },
    {
      "cell_type": "code",
      "metadata": {
        "colab_type": "code",
        "outputId": "566a5973-5f3e-449b-ba8e-b8d971b8d86d",
        "id": "cSD7zMTvaYa8",
        "colab": {
          "base_uri": "https://localhost:8080/",
          "height": 289
        }
      },
      "source": [
        "torch.Tensor(1, dtype=torch.float32)"
      ],
      "execution_count": 166,
      "outputs": [
        {
          "output_type": "error",
          "ename": "TypeError",
          "evalue": "ignored",
          "traceback": [
            "\u001b[0;31m---------------------------------------------------------------------------\u001b[0m",
            "\u001b[0;31mTypeError\u001b[0m                                 Traceback (most recent call last)",
            "\u001b[0;32m<ipython-input-166-892eb5a5f3bf>\u001b[0m in \u001b[0;36m<module>\u001b[0;34m()\u001b[0m\n\u001b[0;32m----> 1\u001b[0;31m \u001b[0mtorch\u001b[0m\u001b[0;34m.\u001b[0m\u001b[0mTensor\u001b[0m\u001b[0;34m(\u001b[0m\u001b[0;36m1\u001b[0m\u001b[0;34m,\u001b[0m \u001b[0mdtype\u001b[0m\u001b[0;34m=\u001b[0m\u001b[0mtorch\u001b[0m\u001b[0;34m.\u001b[0m\u001b[0mfloat32\u001b[0m\u001b[0;34m)\u001b[0m\u001b[0;34m\u001b[0m\u001b[0;34m\u001b[0m\u001b[0m\n\u001b[0m",
            "\u001b[0;31mTypeError\u001b[0m: new() received an invalid combination of arguments - got (int, dtype=torch.dtype), but expected one of:\n * (torch.device device)\n * (torch.Storage storage)\n * (Tensor other)\n * (tuple of ints size, torch.device device)\n      didn't match because some of the keywords were incorrect: dtype\n * (object data, torch.device device)\n      didn't match because some of the keywords were incorrect: dtype\n"
          ]
        }
      ]
    },
    {
      "cell_type": "markdown",
      "metadata": {
        "id": "6l89w-FhXecQ",
        "colab_type": "text"
      },
      "source": [
        "For Tensors with floats, "
      ]
    },
    {
      "cell_type": "code",
      "metadata": {
        "id": "ZbomtQk8T1kn",
        "colab_type": "code",
        "colab": {
          "base_uri": "https://localhost:8080/",
          "height": 34
        },
        "outputId": "ebdb00c4-90e2-4ec7-f873-83c53b438e97"
      },
      "source": [
        "torch.FloatTensor([1, 2])"
      ],
      "execution_count": 167,
      "outputs": [
        {
          "output_type": "execute_result",
          "data": {
            "text/plain": [
              "tensor([1., 2.])"
            ]
          },
          "metadata": {
            "tags": []
          },
          "execution_count": 167
        }
      ]
    },
    {
      "cell_type": "markdown",
      "metadata": {
        "id": "y8DLOQw5Xj0R",
        "colab_type": "text"
      },
      "source": [
        "Equivalently,"
      ]
    },
    {
      "cell_type": "code",
      "metadata": {
        "id": "mbJY8ygqUCmO",
        "colab_type": "code",
        "colab": {
          "base_uri": "https://localhost:8080/",
          "height": 34
        },
        "outputId": "9a5bdf19-f651-4652-ab79-cb9f434680dc"
      },
      "source": [
        "torch.tensor([1.,2]) # The dot at the end signifies all numbers are to be taken as floats."
      ],
      "execution_count": 168,
      "outputs": [
        {
          "output_type": "execute_result",
          "data": {
            "text/plain": [
              "tensor([1., 2.])"
            ]
          },
          "metadata": {
            "tags": []
          },
          "execution_count": 168
        }
      ]
    },
    {
      "cell_type": "markdown",
      "metadata": {
        "id": "5JMrJp12X6HX",
        "colab_type": "text"
      },
      "source": [
        "Lets verify with their data types,"
      ]
    },
    {
      "cell_type": "code",
      "metadata": {
        "id": "LY5dvI78UKLx",
        "colab_type": "code",
        "colab": {
          "base_uri": "https://localhost:8080/",
          "height": 52
        },
        "outputId": "c208bd11-8c34-487b-de7e-a0615b7cb022"
      },
      "source": [
        "print(torch.Tensor([1.,2]).dtype) # i.e the default datatype\n",
        "torch.Tensor([1.,2]).dtype == torch.FloatTensor([1, 2]).dtype"
      ],
      "execution_count": 169,
      "outputs": [
        {
          "output_type": "stream",
          "text": [
            "torch.float32\n"
          ],
          "name": "stdout"
        },
        {
          "output_type": "execute_result",
          "data": {
            "text/plain": [
              "True"
            ]
          },
          "metadata": {
            "tags": []
          },
          "execution_count": 169
        }
      ]
    },
    {
      "cell_type": "markdown",
      "metadata": {
        "id": "EDwFXfQ1YA1h",
        "colab_type": "text"
      },
      "source": [
        "Now lets generate a tensor with numbers drawn from a **uniform distribution**,"
      ]
    },
    {
      "cell_type": "code",
      "metadata": {
        "id": "VTvEQTtKTiVY",
        "colab_type": "code",
        "colab": {
          "base_uri": "https://localhost:8080/",
          "height": 69
        },
        "outputId": "14570564-3033-49de-9f1a-6b1199267b05"
      },
      "source": [
        "torch.rand([3,5]) # return a tensor of dimension x,y with numbers drawn from a uniform distribution U ~ [0,1)"
      ],
      "execution_count": 170,
      "outputs": [
        {
          "output_type": "execute_result",
          "data": {
            "text/plain": [
              "tensor([[0.8823, 0.9150, 0.3829, 0.9593, 0.3904],\n",
              "        [0.6009, 0.2566, 0.7936, 0.9408, 0.1332],\n",
              "        [0.9346, 0.5936, 0.8694, 0.5677, 0.7411]])"
            ]
          },
          "metadata": {
            "tags": []
          },
          "execution_count": 170
        }
      ]
    },
    {
      "cell_type": "markdown",
      "metadata": {
        "id": "pmiyKlPyWjzn",
        "colab_type": "text"
      },
      "source": [
        "To draw random variables from a uniform distribution,  \n",
        "$U ~ [r1, r2]$"
      ]
    },
    {
      "cell_type": "markdown",
      "metadata": {
        "id": "CINe3l6b8axM",
        "colab_type": "text"
      },
      "source": [
        "\n",
        "Replace the first column with numbers drawn from a uniform distribution \n",
        "$U ~ [0, 1)$.  \n",
        "`uniform_` here does operations in inplace (anything with a \n",
        "underscore at the end means inplace)"
      ]
    },
    {
      "cell_type": "markdown",
      "metadata": {
        "colab_type": "text",
        "id": "HyEYxeDgWyhL"
      },
      "source": [
        "If U is a random variable uniformly distributed on [0, 1], then (r1 - r2) * U + r2 is uniformly distributed on [r1, r2]. Alternatively, (r2 - r1) * U + r1  (https://stackoverflow.com/questions/44328530/how-to-get-a-uniform-distribution-in-a-range-r1-r2-in-pytorch)"
      ]
    },
    {
      "cell_type": "markdown",
      "metadata": {
        "colab_type": "text",
        "id": "fRu5-7edWyhA"
      },
      "source": [
        "(r1 - r2) * torch.rand(a, b) + r2 or  torch.FloatTensor(a, b).uniform_(r1, r2)"
      ]
    },
    {
      "cell_type": "code",
      "metadata": {
        "id": "OOEKeRaSP8fj",
        "colab_type": "code",
        "colab": {
          "base_uri": "https://localhost:8080/",
          "height": 52
        },
        "outputId": "7c9fba0f-fc63-45e2-83f1-c2b29a560813"
      },
      "source": [
        "a = 1; b = 2; r1 = -1; r2 = 1\n",
        "print((r1 - r2) * torch.rand(a, b) + r2)\n",
        "print(torch.FloatTensor([a, b]).uniform_(r1, r2))"
      ],
      "execution_count": 171,
      "outputs": [
        {
          "output_type": "stream",
          "text": [
            "tensor([[ 0.1412, -0.7709]])\n",
            "tensor([ 0.1478, -0.4668])\n"
          ],
          "name": "stdout"
        }
      ]
    },
    {
      "cell_type": "code",
      "metadata": {
        "id": "XQrEi4mU8Rjq",
        "colab_type": "code",
        "outputId": "6e2e1416-b13b-4113-f8e8-1941ed40895f",
        "colab": {
          "base_uri": "https://localhost:8080/",
          "height": 52
        }
      },
      "source": [
        "n = 10 # training samples\n",
        "x = torch.ones(n,2) # Generate vector/matrix of ones\n",
        "print(x.dtype) # datatype\n",
        "print(x.size()) # size of tensor. Note : torch.shape is similar to torch.size()"
      ],
      "execution_count": 222,
      "outputs": [
        {
          "output_type": "stream",
          "text": [
            "torch.float32\n",
            "torch.Size([10, 2])\n"
          ],
          "name": "stdout"
        }
      ]
    },
    {
      "cell_type": "code",
      "metadata": {
        "id": "ULf94Huncjdi",
        "colab_type": "code",
        "colab": {
          "base_uri": "https://localhost:8080/",
          "height": 191
        },
        "outputId": "0c84ab48-31dc-4db2-d33a-e4f3e471f0cf"
      },
      "source": [
        "x[:,0].uniform_(-1.,1)\n",
        "print(x)"
      ],
      "execution_count": 399,
      "outputs": [
        {
          "output_type": "stream",
          "text": [
            "tensor([[ 0.7645,  1.0000],\n",
            "        [ 0.8300,  1.0000],\n",
            "        [-0.2343,  1.0000],\n",
            "        [ 0.9186,  1.0000],\n",
            "        [-0.2191,  1.0000],\n",
            "        [ 0.2018,  1.0000],\n",
            "        [-0.4869,  1.0000],\n",
            "        [ 0.5873,  1.0000],\n",
            "        [ 0.8815,  1.0000],\n",
            "        [-0.7336,  1.0000]])\n"
          ],
          "name": "stdout"
        }
      ]
    },
    {
      "cell_type": "markdown",
      "metadata": {
        "id": "wTRsv0wG6MAQ",
        "colab_type": "text"
      },
      "source": [
        "### Initializing parameters"
      ]
    },
    {
      "cell_type": "markdown",
      "metadata": {
        "id": "8GBSzZrk7SOU",
        "colab_type": "text"
      },
      "source": [
        "Note : Writing a dot at the end of a integer coerces it to be a float as follows,"
      ]
    },
    {
      "cell_type": "code",
      "metadata": {
        "id": "f2-A-jPljoQ8",
        "colab_type": "code",
        "colab": {
          "base_uri": "https://localhost:8080/",
          "height": 34
        },
        "outputId": "972ad8b8-421f-428c-b037-76d48747c8f0"
      },
      "source": [
        "# Initializing the slope and intercept AKA the parameters, weights, coefficients\n",
        "# of the equation\n",
        "a = torch.tensor([3.,2]) \n",
        "print(a)"
      ],
      "execution_count": 400,
      "outputs": [
        {
          "output_type": "stream",
          "text": [
            "tensor([3., 2.])\n"
          ],
          "name": "stdout"
        }
      ]
    },
    {
      "cell_type": "markdown",
      "metadata": {
        "id": "Cv6AjeiOuIOj",
        "colab_type": "text"
      },
      "source": [
        "As Jeremy (fast.ai), pointed out :\n",
        "A very intuitive, visual resource for matrix multiplications,\n",
        "> http://matrixmultiplication.xyz/\n",
        "\n",
        "* `@` in python is an opeartor for matrix multiplication (`@=` is the inplace version)\n",
        "* `*` is elementwise product between two matrices or vectors"
      ]
    },
    {
      "cell_type": "code",
      "metadata": {
        "id": "qJdphMpJkRuR",
        "colab_type": "code",
        "colab": {
          "base_uri": "https://localhost:8080/",
          "height": 104
        },
        "outputId": "21ee7388-a4b4-4822-c210-b68d089bbbb1"
      },
      "source": [
        "print(x.size()); print(a.size())\n",
        "print((x@a).size())\n",
        "x@a"
      ],
      "execution_count": 401,
      "outputs": [
        {
          "output_type": "stream",
          "text": [
            "torch.Size([10, 2])\n",
            "torch.Size([2])\n",
            "torch.Size([10])\n"
          ],
          "name": "stdout"
        },
        {
          "output_type": "execute_result",
          "data": {
            "text/plain": [
              "tensor([ 4.2936,  4.4900,  1.2972,  4.7558,  1.3427,  2.6054,  0.5394,  3.7618,\n",
              "         4.6446, -0.2009])"
            ]
          },
          "metadata": {
            "tags": []
          },
          "execution_count": 401
        }
      ]
    },
    {
      "cell_type": "markdown",
      "metadata": {
        "id": "XV2i7sLSeeIp",
        "colab_type": "text"
      },
      "source": [
        "Lets sample n random variables from U ~ [0,1)"
      ]
    },
    {
      "cell_type": "code",
      "metadata": {
        "id": "lErO4myckr1x",
        "colab_type": "code",
        "colab": {
          "base_uri": "https://localhost:8080/",
          "height": 52
        },
        "outputId": "d5968341-395c-415b-98b5-1ca95bb7ccb4"
      },
      "source": [
        "b = torch.rand(n)\n",
        "print(b)"
      ],
      "execution_count": 402,
      "outputs": [
        {
          "output_type": "stream",
          "text": [
            "tensor([0.9346, 0.5936, 0.8694, 0.5677, 0.7411, 0.4294, 0.8854, 0.5739, 0.2666,\n",
            "        0.6274])\n"
          ],
          "name": "stdout"
        }
      ]
    },
    {
      "cell_type": "markdown",
      "metadata": {
        "id": "yg6dUdjde-wN",
        "colab_type": "text"
      },
      "source": [
        "Lets generate y from the equation of the line (linear regression),"
      ]
    },
    {
      "cell_type": "code",
      "metadata": {
        "id": "I5gJyIWKjwYf",
        "colab_type": "code",
        "colab": {
          "base_uri": "https://localhost:8080/",
          "height": 52
        },
        "outputId": "67ee88df-1e16-4424-d034-93eab584ac57"
      },
      "source": [
        "y = x@a + b\n",
        "print(y)"
      ],
      "execution_count": 403,
      "outputs": [
        {
          "output_type": "stream",
          "text": [
            "tensor([5.2282, 5.0836, 2.1666, 5.3235, 2.0838, 3.0348, 1.4249, 4.3358, 4.9112,\n",
            "        0.4266])\n"
          ],
          "name": "stdout"
        }
      ]
    },
    {
      "cell_type": "code",
      "metadata": {
        "id": "skNjgc3SfbKV",
        "colab_type": "code",
        "colab": {
          "base_uri": "https://localhost:8080/",
          "height": 269
        },
        "outputId": "d4698047-4ac1-407b-d031-6afd189aad14"
      },
      "source": [
        "sns.scatterplot(x=x[:,0], y=y);"
      ],
      "execution_count": 405,
      "outputs": [
        {
          "output_type": "display_data",
          "data": {
            "image/png": "[encoded data removed]",
            "text/plain": [
              "<Figure size 432x288 with 1 Axes>"
            ]
          },
          "metadata": {
            "tags": []
          }
        }
      ]
    },
    {
      "cell_type": "markdown",
      "metadata": {
        "id": "w9zVSdjZfs3G",
        "colab_type": "text"
      },
      "source": [
        "A common loss function **Mean Squared Error (MSE)** gives us a measure of how well our model is doing and is given as follows,\n",
        "\n",
        "$\\frac{sum{(y^hat-y)^2}}{n}$\n"
      ]
    },
    {
      "cell_type": "code",
      "metadata": {
        "id": "HVHC43uukBq_",
        "colab_type": "code",
        "colab": {}
      },
      "source": [
        "def mse(y_hat, y): \n",
        "    \n",
        "    return torch.mean((y_hat-y)**2)"
      ],
      "execution_count": 0,
      "outputs": []
    },
    {
      "cell_type": "code",
      "metadata": {
        "id": "kuAK0BCukB01",
        "colab_type": "code",
        "colab": {
          "base_uri": "https://localhost:8080/",
          "height": 86
        },
        "outputId": "a0d594f1-a161-4eba-8320-42ad9adceeea"
      },
      "source": [
        "a = torch.rand(2) # initialize the parameters\n",
        "print(a)\n",
        "\n",
        "y_hat = x@a\n",
        "print(y_hat)\n",
        "\n",
        "mse(y_hat, y)"
      ],
      "execution_count": 407,
      "outputs": [
        {
          "output_type": "stream",
          "text": [
            "tensor([0.2969, 0.8317])\n",
            "tensor([1.0587, 1.0781, 0.7621, 1.1044, 0.7666, 0.8916, 0.6871, 1.0061, 1.0934,\n",
            "        0.6139])\n"
          ],
          "name": "stdout"
        },
        {
          "output_type": "execute_result",
          "data": {
            "text/plain": [
              "tensor(8.5772)"
            ]
          },
          "metadata": {
            "tags": []
          },
          "execution_count": 407
        }
      ]
    },
    {
      "cell_type": "code",
      "metadata": {
        "id": "6afc2pmvm0mv",
        "colab_type": "code",
        "colab": {
          "base_uri": "https://localhost:8080/",
          "height": 269
        },
        "outputId": "d7633704-be40-4179-abad-739b5237d451"
      },
      "source": [
        "sns.scatterplot(x[:,0],y);\n",
        "sns.scatterplot(x[:,0],y_hat);"
      ],
      "execution_count": 418,
      "outputs": [
        {
          "output_type": "display_data",
          "data": {
            "image/png": "[encoded data removed]",
            "text/plain": [
              "<Figure size 432x288 with 1 Axes>"
            ]
          },
          "metadata": {
            "tags": []
          }
        }
      ]
    },
    {
      "cell_type": "code",
      "metadata": {
        "id": "rQpHHaLbm9_k",
        "colab_type": "code",
        "colab": {
          "base_uri": "https://localhost:8080/",
          "height": 52
        },
        "outputId": "95536784-2f20-4ddf-847c-68146a903939"
      },
      "source": [
        "a = nn.Parameter(a);\n",
        "print(a)"
      ],
      "execution_count": 410,
      "outputs": [
        {
          "output_type": "stream",
          "text": [
            "Parameter containing:\n",
            "tensor([0.2969, 0.8317], requires_grad=True)\n"
          ],
          "name": "stdout"
        }
      ]
    },
    {
      "cell_type": "markdown",
      "metadata": {
        "id": "oiSJuBGMl3tt",
        "colab_type": "text"
      },
      "source": [
        "requires_grad=True would calculate via automatic differentiation"
      ]
    },
    {
      "cell_type": "code",
      "metadata": {
        "id": "QwF8EZsCnLMZ",
        "colab_type": "code",
        "colab": {}
      },
      "source": [
        "def update(lr=1e-03, i=0):\n",
        "    \n",
        "    y_hat = x@a\n",
        "    \n",
        "    loss = mse(y_hat, y)\n",
        "    \n",
        "    if i % 10 == 0: \n",
        "        print(loss)\n",
        "        \n",
        "    # calculates the gradients/derivatives of the parameters; stores it in .grad\n",
        "    loss.backward()\n",
        "    \n",
        "    with torch.no_grad(): # turn gradient calculation off\n",
        "        \n",
        "        a.sub_(lr * a.grad) # inplace subtraction of gradient \n",
        "        a.grad.zero_() # clear all gradients"
      ],
      "execution_count": 0,
      "outputs": []
    },
    {
      "cell_type": "code",
      "metadata": {
        "id": "QvvWsQXHpGlo",
        "colab_type": "code",
        "colab": {
          "base_uri": "https://localhost:8080/",
          "height": 191
        },
        "outputId": "d5222a29-69a0-4e2c-f6a5-6dfb953ee9af"
      },
      "source": [
        "# specify hyperparameters\n",
        "lr = 1e-3\n",
        "epochs = 100\n",
        "\n",
        "# Training loop\n",
        "for i in range(epochs): \n",
        "    update(lr, i)"
      ],
      "execution_count": 412,
      "outputs": [
        {
          "output_type": "stream",
          "text": [
            "tensor(8.5772, grad_fn=<MeanBackward0>)\n",
            "tensor(8.2412, grad_fn=<MeanBackward0>)\n",
            "tensor(7.9193, grad_fn=<MeanBackward0>)\n",
            "tensor(7.6107, grad_fn=<MeanBackward0>)\n",
            "tensor(7.3150, grad_fn=<MeanBackward0>)\n",
            "tensor(7.0316, grad_fn=<MeanBackward0>)\n",
            "tensor(6.7600, grad_fn=<MeanBackward0>)\n",
            "tensor(6.4996, grad_fn=<MeanBackward0>)\n",
            "tensor(6.2500, grad_fn=<MeanBackward0>)\n",
            "tensor(6.0108, grad_fn=<MeanBackward0>)\n"
          ],
          "name": "stdout"
        }
      ]
    },
    {
      "cell_type": "code",
      "metadata": {
        "id": "6kvO3WLQppsu",
        "colab_type": "code",
        "colab": {
          "base_uri": "https://localhost:8080/",
          "height": 52
        },
        "outputId": "2ffabe5e-0383-48ab-fbc2-07765dd7de5d"
      },
      "source": [
        "a"
      ],
      "execution_count": 413,
      "outputs": [
        {
          "output_type": "execute_result",
          "data": {
            "text/plain": [
              "Parameter containing:\n",
              "tensor([0.5795, 1.2777], requires_grad=True)"
            ]
          },
          "metadata": {
            "tags": []
          },
          "execution_count": 413
        }
      ]
    },
    {
      "cell_type": "code",
      "metadata": {
        "id": "i8qrpLSfCAkD",
        "colab_type": "code",
        "colab": {
          "base_uri": "https://localhost:8080/",
          "height": 304
        },
        "outputId": "19b3d405-eed8-40a2-9af4-3d05ef86ccb5"
      },
      "source": [
        "sns.scatterplot(x[:,0],y);\n",
        "sns.scatterplot(x[:,0], y_hat);\n",
        "with torch.torch.no_grad():\n",
        "    print(a)\n",
        "    sns.scatterplot(x[:,0], x@a);"
      ],
      "execution_count": 416,
      "outputs": [
        {
          "output_type": "stream",
          "text": [
            "Parameter containing:\n",
            "tensor([0.5795, 1.2777], requires_grad=True)\n"
          ],
          "name": "stdout"
        },
        {
          "output_type": "display_data",
          "data": {
            "image/png": "[encoded data removed]",
            "text/plain": [
              "<Figure size 432x288 with 1 Axes>"
            ]
          },
          "metadata": {
            "tags": []
          }
        }
      ]
    },
    {
      "cell_type": "markdown",
      "metadata": {
        "id": "PFCH5zhPit-P",
        "colab_type": "text"
      },
      "source": [
        "# References\n",
        "[1] fast.ai v3 Lesson 2"
      ]
    }
  ]
}