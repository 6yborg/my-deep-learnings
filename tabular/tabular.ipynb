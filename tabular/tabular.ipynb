{
  "nbformat": 4,
  "nbformat_minor": 0,
  "metadata": {
    "colab": {
      "name": "Tabular.ipynb",
      "version": "0.3.2",
      "provenance": [],
      "collapsed_sections": []
    },
    "kernelspec": {
      "name": "python3",
      "display_name": "Python 3"
    },
    "accelerator": "GPU"
  },
  "cells": [
    {
      "cell_type": "markdown",
      "metadata": {
        "id": "_iG0TOvA285-",
        "colab_type": "text"
      },
      "source": [
        "# Tabular Data"
      ]
    },
    {
      "cell_type": "markdown",
      "metadata": {
        "id": "nd1jQsfU3Qo1",
        "colab_type": "text"
      },
      "source": [
        "Neural nets for Tabular Data! Logistic Regression, RF, XGM are traditionally used. However NN can be used for analysing Tabular Data.\n",
        "\n",
        "* Lot of the hand created features were not necessary vs ML algorithms\n",
        "* Pinterest replaced their algo with NN\n"
      ]
    },
    {
      "cell_type": "code",
      "metadata": {
        "id": "Y5hloZCh2zA4",
        "colab_type": "code",
        "colab": {}
      },
      "source": [
        "from fastai import *\n",
        "from fastai.tabular import *"
      ],
      "execution_count": 0,
      "outputs": []
    },
    {
      "cell_type": "code",
      "metadata": {
        "id": "rrrlVqwv383e",
        "colab_type": "code",
        "colab": {}
      },
      "source": [
        "path = untar_data(URLs.ADULT_SAMPLE)"
      ],
      "execution_count": 0,
      "outputs": []
    },
    {
      "cell_type": "code",
      "metadata": {
        "id": "-LUrc7NT4G4r",
        "colab_type": "code",
        "colab": {}
      },
      "source": [
        "df = pd.read_csv(path/'adult.csv')"
      ],
      "execution_count": 0,
      "outputs": []
    },
    {
      "cell_type": "code",
      "metadata": {
        "id": "rlbi0Kxe47UU",
        "colab_type": "code",
        "colab": {
          "base_uri": "https://localhost:8080/",
          "height": 150
        },
        "outputId": "b7dd307d-b2d3-455e-c04a-6016decfb4e7"
      },
      "source": [
        "df.head(1)"
      ],
      "execution_count": 6,
      "outputs": [
        {
          "output_type": "execute_result",
          "data": {
            "text/html": [
              "<div>\n",
              "<style scoped>\n",
              "    .dataframe tbody tr th:only-of-type {\n",
              "        vertical-align: middle;\n",
              "    }\n",
              "\n",
              "    .dataframe tbody tr th {\n",
              "        vertical-align: top;\n",
              "    }\n",
              "\n",
              "    .dataframe thead th {\n",
              "        text-align: right;\n",
              "    }\n",
              "</style>\n",
              "<table border=\"1\" class=\"dataframe\">\n",
              "  <thead>\n",
              "    <tr style=\"text-align: right;\">\n",
              "      <th></th>\n",
              "      <th>age</th>\n",
              "      <th>workclass</th>\n",
              "      <th>fnlwgt</th>\n",
              "      <th>education</th>\n",
              "      <th>education-num</th>\n",
              "      <th>marital-status</th>\n",
              "      <th>occupation</th>\n",
              "      <th>relationship</th>\n",
              "      <th>race</th>\n",
              "      <th>sex</th>\n",
              "      <th>capital-gain</th>\n",
              "      <th>capital-loss</th>\n",
              "      <th>hours-per-week</th>\n",
              "      <th>native-country</th>\n",
              "      <th>salary</th>\n",
              "    </tr>\n",
              "  </thead>\n",
              "  <tbody>\n",
              "    <tr>\n",
              "      <th>0</th>\n",
              "      <td>49</td>\n",
              "      <td>Private</td>\n",
              "      <td>101320</td>\n",
              "      <td>Assoc-acdm</td>\n",
              "      <td>12.0</td>\n",
              "      <td>Married-civ-spouse</td>\n",
              "      <td>NaN</td>\n",
              "      <td>Wife</td>\n",
              "      <td>White</td>\n",
              "      <td>Female</td>\n",
              "      <td>0</td>\n",
              "      <td>1902</td>\n",
              "      <td>40</td>\n",
              "      <td>United-States</td>\n",
              "      <td>&gt;=50k</td>\n",
              "    </tr>\n",
              "  </tbody>\n",
              "</table>\n",
              "</div>"
            ],
            "text/plain": [
              "   age workclass  fnlwgt  ... hours-per-week  native-country salary\n",
              "0   49   Private  101320  ...             40   United-States  >=50k\n",
              "\n",
              "[1 rows x 15 columns]"
            ]
          },
          "metadata": {
            "tags": []
          },
          "execution_count": 6
        }
      ]
    },
    {
      "cell_type": "code",
      "metadata": {
        "id": "gKywfnhY4_4e",
        "colab_type": "code",
        "colab": {
          "base_uri": "https://localhost:8080/",
          "height": 278
        },
        "outputId": "c51053a3-2e96-4f60-8fec-0916b4aeb00f"
      },
      "source": [
        "list(df.columns)"
      ],
      "execution_count": 9,
      "outputs": [
        {
          "output_type": "execute_result",
          "data": {
            "text/plain": [
              "['age',\n",
              " 'workclass',\n",
              " 'fnlwgt',\n",
              " 'education',\n",
              " 'education-num',\n",
              " 'marital-status',\n",
              " 'occupation',\n",
              " 'relationship',\n",
              " 'race',\n",
              " 'sex',\n",
              " 'capital-gain',\n",
              " 'capital-loss',\n",
              " 'hours-per-week',\n",
              " 'native-country',\n",
              " 'salary']"
            ]
          },
          "metadata": {
            "tags": []
          },
          "execution_count": 9
        }
      ]
    },
    {
      "cell_type": "code",
      "metadata": {
        "id": "zNrWRBV-5Pia",
        "colab_type": "code",
        "colab": {
          "base_uri": "https://localhost:8080/",
          "height": 295
        },
        "outputId": "f8c63260-bb65-40d3-b85c-1eb8e896a3cf"
      },
      "source": [
        "df.dtypes"
      ],
      "execution_count": 13,
      "outputs": [
        {
          "output_type": "execute_result",
          "data": {
            "text/plain": [
              "age                 int64\n",
              "workclass          object\n",
              "fnlwgt              int64\n",
              "education          object\n",
              "education-num     float64\n",
              "marital-status     object\n",
              "occupation         object\n",
              "relationship       object\n",
              "race               object\n",
              "sex                object\n",
              "capital-gain        int64\n",
              "capital-loss        int64\n",
              "hours-per-week      int64\n",
              "native-country     object\n",
              "salary             object\n",
              "dtype: object"
            ]
          },
          "metadata": {
            "tags": []
          },
          "execution_count": 13
        }
      ]
    },
    {
      "cell_type": "markdown",
      "metadata": {
        "id": "Knz2Gv_c4T9L",
        "colab_type": "text"
      },
      "source": [
        "## Independent Variables\n",
        "\n",
        "As we know variables can be of two types i.e. continuous and categorical.\n",
        "\n",
        "For continuous, we tend to use embeddings. Think of continuous variables as sending pixels into a neural nets."
      ]
    },
    {
      "cell_type": "code",
      "metadata": {
        "id": "zeGFJren4KZa",
        "colab_type": "code",
        "colab": {}
      },
      "source": [
        "# dependent variable\n",
        "y = 'salary'\n",
        "\n",
        "# Categorical independent variables\n",
        "cat_x = [ 'workclass',\n",
        "         'education',\n",
        "         'marital-status',\n",
        "         'occupation',\n",
        "         'relationship',\n",
        "         'race',\n",
        "         'sex'\n",
        "        ]\n",
        "\n",
        "# Continuous independent variables\n",
        "cont_x = ['age', 'fnlwgt', 'education-num']\n",
        "\n",
        "# Processors for preprocessing\n",
        "procs = [FillMissing, Categorify, Normalize]"
      ],
      "execution_count": 0,
      "outputs": []
    },
    {
      "cell_type": "markdown",
      "metadata": {
        "id": "Pq6v5kXq6AiA",
        "colab_type": "text"
      },
      "source": [
        "* Processors are similar to transforms. However, transforms are more of data augmentation.\n",
        "* FillMissing fills the missing values with medians  \n",
        "\n",
        "\n",
        "Now using datablock api,"
      ]
    },
    {
      "cell_type": "code",
      "metadata": {
        "id": "ggTa2llA6aKj",
        "colab_type": "code",
        "colab": {}
      },
      "source": [
        "test = TabularList.from_df(df.iloc[800:1000].copy(),\n",
        "                          path=path, cat_names=cat_x,\n",
        "                          cont_names=cont_x)"
      ],
      "execution_count": 0,
      "outputs": []
    },
    {
      "cell_type": "code",
      "metadata": {
        "id": "mtlyny7261cO",
        "colab_type": "code",
        "colab": {}
      },
      "source": [
        "data = (TabularList.from_df(df, path=path, cat_names=cat_x,\n",
        "                           cont_names=cont_x, procs=procs)\n",
        "                    .split_by_idx(list(range(800,1000)))\n",
        "                    .label_from_df(cols=y)\n",
        "                    .add_test(test)\n",
        "                    .databunch()\n",
        "       )"
      ],
      "execution_count": 0,
      "outputs": []
    },
    {
      "cell_type": "code",
      "metadata": {
        "id": "dJRyHtxf7c2g",
        "colab_type": "code",
        "colab": {
          "base_uri": "https://localhost:8080/",
          "height": 276
        },
        "outputId": "203883db-d277-468c-f354-cb250450a53e"
      },
      "source": [
        "data.show_batch()"
      ],
      "execution_count": 19,
      "outputs": [
        {
          "output_type": "display_data",
          "data": {
            "text/html": [
              "<table border=\"1\" class=\"dataframe\">\n",
              "  <thead>\n",
              "    <tr style=\"text-align: right;\">\n",
              "      <th>workclass</th>\n",
              "      <th>education</th>\n",
              "      <th>marital-status</th>\n",
              "      <th>occupation</th>\n",
              "      <th>relationship</th>\n",
              "      <th>race</th>\n",
              "      <th>sex</th>\n",
              "      <th>education-num_na</th>\n",
              "      <th>age</th>\n",
              "      <th>fnlwgt</th>\n",
              "      <th>education-num</th>\n",
              "      <th>target</th>\n",
              "    </tr>\n",
              "  </thead>\n",
              "  <tbody>\n",
              "    <tr>\n",
              "      <td>Private</td>\n",
              "      <td>Some-college</td>\n",
              "      <td>Never-married</td>\n",
              "      <td>Sales</td>\n",
              "      <td>Not-in-family</td>\n",
              "      <td>White</td>\n",
              "      <td>Female</td>\n",
              "      <td>False</td>\n",
              "      <td>-1.5090</td>\n",
              "      <td>-0.3589</td>\n",
              "      <td>-0.0312</td>\n",
              "      <td>&lt;50k</td>\n",
              "    </tr>\n",
              "    <tr>\n",
              "      <td>Private</td>\n",
              "      <td>HS-grad</td>\n",
              "      <td>Never-married</td>\n",
              "      <td>Adm-clerical</td>\n",
              "      <td>Not-in-family</td>\n",
              "      <td>White</td>\n",
              "      <td>Male</td>\n",
              "      <td>False</td>\n",
              "      <td>1.4962</td>\n",
              "      <td>0.8525</td>\n",
              "      <td>-0.4224</td>\n",
              "      <td>&lt;50k</td>\n",
              "    </tr>\n",
              "    <tr>\n",
              "      <td>Self-emp-not-inc</td>\n",
              "      <td>5th-6th</td>\n",
              "      <td>Never-married</td>\n",
              "      <td>Sales</td>\n",
              "      <td>Not-in-family</td>\n",
              "      <td>White</td>\n",
              "      <td>Female</td>\n",
              "      <td>False</td>\n",
              "      <td>1.7894</td>\n",
              "      <td>0.2654</td>\n",
              "      <td>-2.7692</td>\n",
              "      <td>&lt;50k</td>\n",
              "    </tr>\n",
              "    <tr>\n",
              "      <td>Private</td>\n",
              "      <td>Prof-school</td>\n",
              "      <td>Never-married</td>\n",
              "      <td>Tech-support</td>\n",
              "      <td>Not-in-family</td>\n",
              "      <td>White</td>\n",
              "      <td>Male</td>\n",
              "      <td>False</td>\n",
              "      <td>-0.5561</td>\n",
              "      <td>-0.0637</td>\n",
              "      <td>1.9245</td>\n",
              "      <td>&lt;50k</td>\n",
              "    </tr>\n",
              "    <tr>\n",
              "      <td>Private</td>\n",
              "      <td>HS-grad</td>\n",
              "      <td>Never-married</td>\n",
              "      <td>Handlers-cleaners</td>\n",
              "      <td>Own-child</td>\n",
              "      <td>White</td>\n",
              "      <td>Male</td>\n",
              "      <td>False</td>\n",
              "      <td>-0.2629</td>\n",
              "      <td>-0.0825</td>\n",
              "      <td>-0.4224</td>\n",
              "      <td>&lt;50k</td>\n",
              "    </tr>\n",
              "  </tbody>\n",
              "</table>"
            ],
            "text/plain": [
              "<IPython.core.display.HTML object>"
            ]
          },
          "metadata": {
            "tags": []
          }
        }
      ]
    },
    {
      "cell_type": "markdown",
      "metadata": {
        "id": "1pZuSqsj8gqV",
        "colab_type": "text"
      },
      "source": [
        "> Note : Layers is where we define our NN architecture."
      ]
    },
    {
      "cell_type": "code",
      "metadata": {
        "id": "FvrjF2tT8BCw",
        "colab_type": "code",
        "colab": {
          "base_uri": "https://localhost:8080/",
          "height": 81
        },
        "outputId": "ade3eef0-205f-4656-811c-6d9c6c970197"
      },
      "source": [
        "learn = tabular_learner(data, layers=[200,100], metrics=accuracy)\n",
        "learn.fit(1, 1e-2)"
      ],
      "execution_count": 20,
      "outputs": [
        {
          "output_type": "display_data",
          "data": {
            "text/html": [
              "<table border=\"1\" class=\"dataframe\">\n",
              "  <thead>\n",
              "    <tr style=\"text-align: left;\">\n",
              "      <th>epoch</th>\n",
              "      <th>train_loss</th>\n",
              "      <th>valid_loss</th>\n",
              "      <th>accuracy</th>\n",
              "      <th>time</th>\n",
              "    </tr>\n",
              "  </thead>\n",
              "  <tbody>\n",
              "    <tr>\n",
              "      <td>0</td>\n",
              "      <td>0.365545</td>\n",
              "      <td>0.373556</td>\n",
              "      <td>0.830000</td>\n",
              "      <td>00:07</td>\n",
              "    </tr>\n",
              "  </tbody>\n",
              "</table>"
            ],
            "text/plain": [
              "<IPython.core.display.HTML object>"
            ]
          },
          "metadata": {
            "tags": []
          }
        }
      ]
    },
    {
      "cell_type": "markdown",
      "metadata": {
        "id": "EAjOxnq68sYM",
        "colab_type": "text"
      },
      "source": [
        "We got an accuracy of 83% (with the default hyperparameters)."
      ]
    }
  ]
}