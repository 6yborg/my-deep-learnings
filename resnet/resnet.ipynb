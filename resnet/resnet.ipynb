{
  "nbformat": 4,
  "nbformat_minor": 0,
  "metadata": {
    "colab": {
      "name": "resnets.ipynb",
      "version": "0.3.2",
      "provenance": [],
      "collapsed_sections": []
    },
    "kernelspec": {
      "name": "python3",
      "display_name": "Python 3"
    },
    "accelerator": "GPU"
  },
  "cells": [
    {
      "cell_type": "markdown",
      "metadata": {
        "id": "q_Zi77qs9Rvq",
        "colab_type": "text"
      },
      "source": [
        "# ResNets"
      ]
    },
    {
      "cell_type": "code",
      "metadata": {
        "id": "Ub_Jhg0M9bHe",
        "colab_type": "code",
        "colab": {}
      },
      "source": [
        "%reload_ext autoreload\n",
        "%autoreload 2\n",
        "%matplotlib inline\n",
        "\n",
        "from fastai.vision import *"
      ],
      "execution_count": 0,
      "outputs": []
    },
    {
      "cell_type": "markdown",
      "metadata": {
        "id": "wvjPKKAe9Wnl",
        "colab_type": "text"
      },
      "source": [
        "## CNN for MNIST "
      ]
    },
    {
      "cell_type": "code",
      "metadata": {
        "id": "QgSmDOK_KEHL",
        "colab_type": "code",
        "colab": {}
      },
      "source": [
        "bs = "
      ],
      "execution_count": 0,
      "outputs": []
    },
    {
      "cell_type": "code",
      "metadata": {
        "id": "5ZWgOwXH8_kB",
        "colab_type": "code",
        "colab": {}
      },
      "source": [
        "path = untar_data(URLs.MNIST)"
      ],
      "execution_count": 0,
      "outputs": []
    },
    {
      "cell_type": "code",
      "metadata": {
        "id": "ZEbHuCEx9lTD",
        "colab_type": "code",
        "colab": {
          "base_uri": "https://localhost:8080/",
          "height": 52
        },
        "outputId": "6f52e9dc-903b-4d47-fb4a-5db79e3d7137"
      },
      "source": [
        "path.ls()"
      ],
      "execution_count": 39,
      "outputs": [
        {
          "output_type": "execute_result",
          "data": {
            "text/plain": [
              "[PosixPath('/root/.fastai/data/mnist_png/training'),\n",
              " PosixPath('/root/.fastai/data/mnist_png/testing')]"
            ]
          },
          "metadata": {
            "tags": []
          },
          "execution_count": 39
        }
      ]
    },
    {
      "cell_type": "code",
      "metadata": {
        "id": "D8i532fa9rVQ",
        "colab_type": "code",
        "colab": {}
      },
      "source": [
        "i1 = ImageList.from_folder(path, convert_mode='L')"
      ],
      "execution_count": 0,
      "outputs": []
    },
    {
      "cell_type": "code",
      "metadata": {
        "id": "Y7jQQcXp90qU",
        "colab_type": "code",
        "colab": {
          "base_uri": "https://localhost:8080/",
          "height": 34
        },
        "outputId": "8bc1f9b4-b23f-4945-b85c-a24af1d0b446"
      },
      "source": [
        "i1.items[0]"
      ],
      "execution_count": 41,
      "outputs": [
        {
          "output_type": "execute_result",
          "data": {
            "text/plain": [
              "PosixPath('/root/.fastai/data/mnist_png/training/8/48092.png')"
            ]
          },
          "metadata": {
            "tags": []
          },
          "execution_count": 41
        }
      ]
    },
    {
      "cell_type": "code",
      "metadata": {
        "id": "wx9ivUlNDKHq",
        "colab_type": "code",
        "colab": {}
      },
      "source": [
        "defaults.cmap='binary'"
      ],
      "execution_count": 0,
      "outputs": []
    },
    {
      "cell_type": "code",
      "metadata": {
        "id": "tqZI_w0yDO9N",
        "colab_type": "code",
        "colab": {
          "base_uri": "https://localhost:8080/",
          "height": 89
        },
        "outputId": "b7831e28-27d2-461a-a59a-4d45305fbbf9"
      },
      "source": [
        "i1"
      ],
      "execution_count": 43,
      "outputs": [
        {
          "output_type": "execute_result",
          "data": {
            "text/plain": [
              "ImageList (70000 items)\n",
              "Image (1, 28, 28),Image (1, 28, 28),Image (1, 28, 28),Image (1, 28, 28),Image (1, 28, 28)\n",
              "Path: /root/.fastai/data/mnist_png"
            ]
          },
          "metadata": {
            "tags": []
          },
          "execution_count": 43
        }
      ]
    },
    {
      "cell_type": "code",
      "metadata": {
        "id": "L7TyiGchDS4y",
        "colab_type": "code",
        "colab": {
          "base_uri": "https://localhost:8080/",
          "height": 212
        },
        "outputId": "ff92f930-e767-4512-b7b3-6ff355d3067e"
      },
      "source": [
        "i1[0].show()"
      ],
      "execution_count": 44,
      "outputs": [
        {
          "output_type": "display_data",
          "data": {
            "image/png": "[encoded data removed]",
            "text/plain": [
              "<Figure size 216x216 with 1 Axes>"
            ]
          },
          "metadata": {
            "tags": []
          }
        }
      ]
    },
    {
      "cell_type": "code",
      "metadata": {
        "id": "0QWK5ReWDZY_",
        "colab_type": "code",
        "colab": {}
      },
      "source": [
        "sd = i1.split_by_folder(train='training', valid='testing')"
      ],
      "execution_count": 0,
      "outputs": []
    },
    {
      "cell_type": "markdown",
      "metadata": {
        "id": "pECm80nvDi5U",
        "colab_type": "text"
      },
      "source": [
        "Testing here indicates the validation set (i.e. has the ground truth/labels)"
      ]
    },
    {
      "cell_type": "code",
      "metadata": {
        "id": "8mSF-O1ODgmw",
        "colab_type": "code",
        "colab": {
          "base_uri": "https://localhost:8080/",
          "height": 228
        },
        "outputId": "f24ae24e-0d4f-4e67-9859-e31fd5834f1f"
      },
      "source": [
        "sd"
      ],
      "execution_count": 46,
      "outputs": [
        {
          "output_type": "execute_result",
          "data": {
            "text/plain": [
              "ItemLists;\n",
              "\n",
              "Train: ImageList (60000 items)\n",
              "Image (1, 28, 28),Image (1, 28, 28),Image (1, 28, 28),Image (1, 28, 28),Image (1, 28, 28)\n",
              "Path: /root/.fastai/data/mnist_png;\n",
              "\n",
              "Valid: ImageList (10000 items)\n",
              "Image (1, 28, 28),Image (1, 28, 28),Image (1, 28, 28),Image (1, 28, 28),Image (1, 28, 28)\n",
              "Path: /root/.fastai/data/mnist_png;\n",
              "\n",
              "Test: None"
            ]
          },
          "metadata": {
            "tags": []
          },
          "execution_count": 46
        }
      ]
    },
    {
      "cell_type": "markdown",
      "metadata": {
        "id": "-UFSB8trDyoR",
        "colab_type": "text"
      },
      "source": [
        "Folders for each class"
      ]
    },
    {
      "cell_type": "code",
      "metadata": {
        "id": "L8orWoPEDqtL",
        "colab_type": "code",
        "colab": {
          "base_uri": "https://localhost:8080/",
          "height": 191
        },
        "outputId": "f901f801-a473-4a99-fd82-a2c1090c227a"
      },
      "source": [
        "(path/'training').ls()"
      ],
      "execution_count": 47,
      "outputs": [
        {
          "output_type": "execute_result",
          "data": {
            "text/plain": [
              "[PosixPath('/root/.fastai/data/mnist_png/training/8'),\n",
              " PosixPath('/root/.fastai/data/mnist_png/training/7'),\n",
              " PosixPath('/root/.fastai/data/mnist_png/training/3'),\n",
              " PosixPath('/root/.fastai/data/mnist_png/training/1'),\n",
              " PosixPath('/root/.fastai/data/mnist_png/training/6'),\n",
              " PosixPath('/root/.fastai/data/mnist_png/training/2'),\n",
              " PosixPath('/root/.fastai/data/mnist_png/training/9'),\n",
              " PosixPath('/root/.fastai/data/mnist_png/training/4'),\n",
              " PosixPath('/root/.fastai/data/mnist_png/training/5'),\n",
              " PosixPath('/root/.fastai/data/mnist_png/training/0')]"
            ]
          },
          "metadata": {
            "tags": []
          },
          "execution_count": 47
        }
      ]
    },
    {
      "cell_type": "code",
      "metadata": {
        "id": "CCWwPPKMD1CA",
        "colab_type": "code",
        "colab": {}
      },
      "source": [
        "ll = sd.label_from_folder()"
      ],
      "execution_count": 0,
      "outputs": []
    },
    {
      "cell_type": "code",
      "metadata": {
        "id": "W1CuMmilD3w8",
        "colab_type": "code",
        "colab": {
          "base_uri": "https://localhost:8080/",
          "height": 332
        },
        "outputId": "06364f73-7b8d-47bc-a38f-ddabe64fd0af"
      },
      "source": [
        "ll"
      ],
      "execution_count": 49,
      "outputs": [
        {
          "output_type": "execute_result",
          "data": {
            "text/plain": [
              "LabelLists;\n",
              "\n",
              "Train: LabelList (60000 items)\n",
              "x: ImageList\n",
              "Image (1, 28, 28),Image (1, 28, 28),Image (1, 28, 28),Image (1, 28, 28),Image (1, 28, 28)\n",
              "y: CategoryList\n",
              "8,8,8,8,8\n",
              "Path: /root/.fastai/data/mnist_png;\n",
              "\n",
              "Valid: LabelList (10000 items)\n",
              "x: ImageList\n",
              "Image (1, 28, 28),Image (1, 28, 28),Image (1, 28, 28),Image (1, 28, 28),Image (1, 28, 28)\n",
              "y: CategoryList\n",
              "8,8,8,8,8\n",
              "Path: /root/.fastai/data/mnist_png;\n",
              "\n",
              "Test: None"
            ]
          },
          "metadata": {
            "tags": []
          },
          "execution_count": 49
        }
      ]
    },
    {
      "cell_type": "code",
      "metadata": {
        "id": "qB8jTgf7EEWq",
        "colab_type": "code",
        "colab": {}
      },
      "source": [
        "x, y = ll.train[0]"
      ],
      "execution_count": 0,
      "outputs": []
    },
    {
      "cell_type": "code",
      "metadata": {
        "id": "D0jKO9T7Jniv",
        "colab_type": "code",
        "colab": {
          "base_uri": "https://localhost:8080/",
          "height": 229
        },
        "outputId": "ff77c8db-679f-41d4-d828-c1e801db0bfd"
      },
      "source": [
        "x.show()\n",
        "print(y, x.shape)"
      ],
      "execution_count": 52,
      "outputs": [
        {
          "output_type": "stream",
          "text": [
            "8 torch.Size([1, 28, 28])\n"
          ],
          "name": "stdout"
        },
        {
          "output_type": "display_data",
          "data": {
            "image/png": "[encoded data removed]",
            "text/plain": [
              "<Figure size 216x216 with 1 Axes>"
            ]
          },
          "metadata": {
            "tags": []
          }
        }
      ]
    },
    {
      "cell_type": "markdown",
      "metadata": {
        "id": "fvWiAHaYJzb3",
        "colab_type": "text"
      },
      "source": [
        "Adding some random padding"
      ]
    },
    {
      "cell_type": "code",
      "metadata": {
        "id": "fKsgEaX0Jr9t",
        "colab_type": "code",
        "colab": {}
      },
      "source": [
        "tfms = ([*rand_pad(padding=3, size=28, mode='zeros')], [])"
      ],
      "execution_count": 0,
      "outputs": []
    },
    {
      "cell_type": "code",
      "metadata": {
        "id": "IetrAiapJ3Sx",
        "colab_type": "code",
        "colab": {}
      },
      "source": [
        "ll = ll.transform(tfms)"
      ],
      "execution_count": 0,
      "outputs": []
    },
    {
      "cell_type": "code",
      "metadata": {
        "id": "MjSPmBdAKJFY",
        "colab_type": "code",
        "colab": {}
      },
      "source": [
        "bs = 128"
      ],
      "execution_count": 0,
      "outputs": []
    },
    {
      "cell_type": "markdown",
      "metadata": {
        "id": "rZoyYzuRKLzq",
        "colab_type": "text"
      },
      "source": [
        "`.normalize()` grabs data at random and uses its features to normalize "
      ]
    },
    {
      "cell_type": "code",
      "metadata": {
        "id": "KdJZCiy3J5rP",
        "colab_type": "code",
        "colab": {}
      },
      "source": [
        "data = ll.databunch(bs=bs).normalize() # Not using imagenet stats"
      ],
      "execution_count": 0,
      "outputs": []
    },
    {
      "cell_type": "code",
      "metadata": {
        "id": "rPhLvsdJKJb9",
        "colab_type": "code",
        "colab": {
          "base_uri": "https://localhost:8080/",
          "height": 484
        },
        "outputId": "6c2a92ed-31b0-4b52-c7f5-95d22d2912f1"
      },
      "source": [
        "def _plot(i,j,ax): data.train_ds[0][0].show(ax, cmap='gray')\n",
        "plot_multi(_plot, 3, 3, figsize=(8,8))"
      ],
      "execution_count": 60,
      "outputs": [
        {
          "output_type": "display_data",
          "data": {
            "image/png": "[encoded data removed]",
            "text/plain": [
              "<Figure size 576x576 with 9 Axes>"
            ]
          },
          "metadata": {
            "tags": []
          }
        }
      ]
    },
    {
      "cell_type": "markdown",
      "metadata": {
        "id": "v1_mlQqvKlyT",
        "colab_type": "text"
      },
      "source": [
        "> Note : The random padding results in the images of 8 slightly shifting."
      ]
    },
    {
      "cell_type": "code",
      "metadata": {
        "id": "pRvJbmOsKwgX",
        "colab_type": "code",
        "colab": {
          "base_uri": "https://localhost:8080/",
          "height": 34
        },
        "outputId": "97f73885-289b-4b6f-c95a-73de586dc8b3"
      },
      "source": [
        "xb, yb = data.one_batch()\n",
        "xb.shape, yb.shape"
      ],
      "execution_count": 61,
      "outputs": [
        {
          "output_type": "execute_result",
          "data": {
            "text/plain": [
              "(torch.Size([128, 1, 28, 28]), torch.Size([128]))"
            ]
          },
          "metadata": {
            "tags": []
          },
          "execution_count": 61
        }
      ]
    },
    {
      "cell_type": "code",
      "metadata": {
        "id": "baj3h2-bK3ed",
        "colab_type": "code",
        "colab": {
          "base_uri": "https://localhost:8080/",
          "height": 369
        },
        "outputId": "74da030d-afbe-4b43-e522-9b5dba5b95c9"
      },
      "source": [
        "data.show_batch(rows=3, figsize=(5,5))"
      ],
      "execution_count": 62,
      "outputs": [
        {
          "output_type": "display_data",
          "data": {
            "image/png": "[encoded data removed]",
            "text/plain": [
              "<Figure size 360x360 with 9 Axes>"
            ]
          },
          "metadata": {
            "tags": []
          }
        }
      ]
    },
    {
      "cell_type": "markdown",
      "metadata": {
        "id": "_Ftq38W1LBsz",
        "colab_type": "text"
      },
      "source": [
        "## Basic ConvNet with batchnorm"
      ]
    },
    {
      "cell_type": "code",
      "metadata": {
        "id": "LlMfmggELBUp",
        "colab_type": "code",
        "colab": {}
      },
      "source": [
        "def conv(ni, nf): return nn.Conv2d(ni, nf, kernel_size=3, stride=2, padding=1)"
      ],
      "execution_count": 0,
      "outputs": []
    },
    {
      "cell_type": "markdown",
      "metadata": {
        "id": "oOfmr71NLctO",
        "colab_type": "text"
      },
      "source": [
        "A stride of 2 will lead to a half sized input i.e. 14x14"
      ]
    },
    {
      "cell_type": "markdown",
      "metadata": {
        "id": "WrXUTh_TNN-Y",
        "colab_type": "text"
      },
      "source": [
        "### CNN Architecture"
      ]
    },
    {
      "cell_type": "code",
      "metadata": {
        "id": "c7MOrpU9LT97",
        "colab_type": "code",
        "colab": {}
      },
      "source": [
        "model = nn.Sequential(\n",
        "    conv(1, 8), # 1 channel in, 8 channels out, returns 8 x 14 x 14 feature map\n",
        "    nn.BatchNorm2d(8),\n",
        "    nn.ReLU(),\n",
        "    conv(8, 16), # 8 channel in, 16 channels out, returns 16 x 7 x 7 feature map\n",
        "    nn.BatchNorm2d(16),\n",
        "    nn.ReLU(),\n",
        "    conv(16, 32), # 16 channel in, 32 channels out, returns 32 x 4 x 4 feature map\n",
        "    # 4 because math.ceil(7/2) = 4\n",
        "    nn.BatchNorm2d(32),\n",
        "    nn.ReLU(),\n",
        "    conv(32, 16), # 32 channel in, 16 channels out, returns 16 x 2 x 2 feature map\n",
        "    nn.BatchNorm2d(16),\n",
        "    nn.ReLU(),\n",
        "    conv(16, 10), # 16 channels in, 10 channels out, returns 10 x 1 x 1 feature map \n",
        "    # i.e. its a tensor of rank 3 [10 x 1 x 1] shape\n",
        "    nn.BatchNorm2d(10),\n",
        "    Flatten() # remove (1,1) grid\n",
        ")"
      ],
      "execution_count": 0,
      "outputs": []
    },
    {
      "cell_type": "markdown",
      "metadata": {
        "id": "v1C590xHNRbd",
        "colab_type": "text"
      },
      "source": [
        "- Flatten just removes anu units axes.\n",
        "- In this case it will convert rank-3 tensor of 10 x 1 x 1 to rank-1 tensor or vector of length 10"
      ]
    },
    {
      "cell_type": "code",
      "metadata": {
        "id": "ElHgqRcALuiz",
        "colab_type": "code",
        "colab": {}
      },
      "source": [
        "learn = Learner(data, model, loss_func=nn.CrossEntropyLoss(), metrics=accuracy)"
      ],
      "execution_count": 0,
      "outputs": []
    },
    {
      "cell_type": "code",
      "metadata": {
        "id": "RaVm5Q-MOJin",
        "colab_type": "code",
        "colab": {
          "base_uri": "https://localhost:8080/",
          "height": 784
        },
        "outputId": "38b7bc3f-3b0d-4bcb-83fb-2a9dab663222"
      },
      "source": [
        "learn.summary()"
      ],
      "execution_count": 72,
      "outputs": [
        {
          "output_type": "execute_result",
          "data": {
            "text/plain": [
              "Sequential\n",
              "======================================================================\n",
              "Layer (type)         Output Shape         Param #    Trainable \n",
              "======================================================================\n",
              "Conv2d               [8, 14, 14]          80         True      \n",
              "______________________________________________________________________\n",
              "BatchNorm2d          [8, 14, 14]          16         True      \n",
              "______________________________________________________________________\n",
              "ReLU                 [8, 14, 14]          0          False     \n",
              "______________________________________________________________________\n",
              "Conv2d               [16, 7, 7]           1,168      True      \n",
              "______________________________________________________________________\n",
              "BatchNorm2d          [16, 7, 7]           32         True      \n",
              "______________________________________________________________________\n",
              "ReLU                 [16, 7, 7]           0          False     \n",
              "______________________________________________________________________\n",
              "Conv2d               [32, 4, 4]           4,640      True      \n",
              "______________________________________________________________________\n",
              "BatchNorm2d          [32, 4, 4]           64         True      \n",
              "______________________________________________________________________\n",
              "ReLU                 [32, 4, 4]           0          False     \n",
              "______________________________________________________________________\n",
              "Conv2d               [16, 2, 2]           4,624      True      \n",
              "______________________________________________________________________\n",
              "BatchNorm2d          [16, 2, 2]           32         True      \n",
              "______________________________________________________________________\n",
              "ReLU                 [16, 2, 2]           0          False     \n",
              "______________________________________________________________________\n",
              "Conv2d               [10, 1, 1]           1,450      True      \n",
              "______________________________________________________________________\n",
              "BatchNorm2d          [10, 1, 1]           20         True      \n",
              "______________________________________________________________________\n",
              "Flatten              [10]                 0          False     \n",
              "______________________________________________________________________\n",
              "\n",
              "Total params: 12,126\n",
              "Total trainable params: 12,126\n",
              "Total non-trainable params: 0\n",
              "Optimized with 'torch.optim.adam.Adam', betas=(0.9, 0.99)\n",
              "Using true weight decay as discussed in https://www.fast.ai/2018/07/02/adam-weight-decay/ \n",
              "Loss function : CrossEntropyLoss\n",
              "======================================================================\n",
              "Callbacks functions applied "
            ]
          },
          "metadata": {
            "tags": []
          },
          "execution_count": 72
        }
      ]
    },
    {
      "cell_type": "markdown",
      "metadata": {
        "id": "T-f_SgpiOY1l",
        "colab_type": "text"
      },
      "source": [
        "### Sanity check"
      ]
    },
    {
      "cell_type": "code",
      "metadata": {
        "id": "G1G4JS-COSyR",
        "colab_type": "code",
        "colab": {}
      },
      "source": [
        "xb = xb.cuda()"
      ],
      "execution_count": 0,
      "outputs": []
    },
    {
      "cell_type": "code",
      "metadata": {
        "id": "3PKt82tGOV10",
        "colab_type": "code",
        "colab": {
          "base_uri": "https://localhost:8080/",
          "height": 34
        },
        "outputId": "f203add1-a505-4ee9-b091-52424e8ff34a"
      },
      "source": [
        "model(xb).shape"
      ],
      "execution_count": 74,
      "outputs": [
        {
          "output_type": "execute_result",
          "data": {
            "text/plain": [
              "torch.Size([128, 10])"
            ]
          },
          "metadata": {
            "tags": []
          },
          "execution_count": 74
        }
      ]
    },
    {
      "cell_type": "code",
      "metadata": {
        "id": "Vt265dg8Obtj",
        "colab_type": "code",
        "colab": {
          "base_uri": "https://localhost:8080/",
          "height": 54
        },
        "outputId": "9dffaff2-da1b-49ee-eaf5-b12c663c04ac"
      },
      "source": [
        "learn.lr_find(end_lr=100)"
      ],
      "execution_count": 75,
      "outputs": [
        {
          "output_type": "display_data",
          "data": {
            "text/html": [
              ""
            ],
            "text/plain": [
              "<IPython.core.display.HTML object>"
            ]
          },
          "metadata": {
            "tags": []
          }
        },
        {
          "output_type": "stream",
          "text": [
            "LR Finder is complete, type {learner_name}.recorder.plot() to see the graph.\n"
          ],
          "name": "stdout"
        }
      ]
    },
    {
      "cell_type": "code",
      "metadata": {
        "id": "X5pL08TyOjFu",
        "colab_type": "code",
        "colab": {
          "base_uri": "https://localhost:8080/",
          "height": 318
        },
        "outputId": "081f0c97-c0f6-49a4-c38d-160da8eefe42"
      },
      "source": [
        "learn.recorder.plot(suggestion=True)"
      ],
      "execution_count": 78,
      "outputs": [
        {
          "output_type": "stream",
          "text": [
            "Min numerical gradient: 2.00E-01\n",
            "Min loss divided by 10: 1.02E+00\n"
          ],
          "name": "stdout"
        },
        {
          "output_type": "display_data",
          "data": {
            "image/png": "[encoded data removed]",
            "text/plain": [
              "<Figure size 432x288 with 1 Axes>"
            ]
          },
          "metadata": {
            "tags": []
          }
        }
      ]
    },
    {
      "cell_type": "markdown",
      "metadata": {
        "id": "vGkQwO0uO3Rd",
        "colab_type": "text"
      },
      "source": [
        "Selecting initial lr as **1e-01**"
      ]
    },
    {
      "cell_type": "code",
      "metadata": {
        "id": "FgRLoU_dOrEt",
        "colab_type": "code",
        "colab": {
          "base_uri": "https://localhost:8080/",
          "height": 143
        },
        "outputId": "bd7be6fe-38ef-451c-901f-5a8905fa25f0"
      },
      "source": [
        "learn.fit_one_cycle(3, max_lr=0.1)"
      ],
      "execution_count": 79,
      "outputs": [
        {
          "output_type": "display_data",
          "data": {
            "text/html": [
              "<table border=\"1\" class=\"dataframe\">\n",
              "  <thead>\n",
              "    <tr style=\"text-align: left;\">\n",
              "      <th>epoch</th>\n",
              "      <th>train_loss</th>\n",
              "      <th>valid_loss</th>\n",
              "      <th>accuracy</th>\n",
              "      <th>time</th>\n",
              "    </tr>\n",
              "  </thead>\n",
              "  <tbody>\n",
              "    <tr>\n",
              "      <td>0</td>\n",
              "      <td>0.227289</td>\n",
              "      <td>0.174879</td>\n",
              "      <td>0.944500</td>\n",
              "      <td>00:28</td>\n",
              "    </tr>\n",
              "    <tr>\n",
              "      <td>1</td>\n",
              "      <td>0.134290</td>\n",
              "      <td>0.083074</td>\n",
              "      <td>0.975100</td>\n",
              "      <td>00:28</td>\n",
              "    </tr>\n",
              "    <tr>\n",
              "      <td>2</td>\n",
              "      <td>0.071327</td>\n",
              "      <td>0.045820</td>\n",
              "      <td>0.985600</td>\n",
              "      <td>00:27</td>\n",
              "    </tr>\n",
              "  </tbody>\n",
              "</table>"
            ],
            "text/plain": [
              "<IPython.core.display.HTML object>"
            ]
          },
          "metadata": {
            "tags": []
          }
        }
      ]
    },
    {
      "cell_type": "code",
      "metadata": {
        "id": "Y1K1feR7PoHL",
        "colab_type": "code",
        "colab": {}
      },
      "source": [
        ""
      ],
      "execution_count": 0,
      "outputs": []
    },
    {
      "cell_type": "markdown",
      "metadata": {
        "id": "YGp7i8ZwPkVl",
        "colab_type": "text"
      },
      "source": [
        "> Accuracy : 98.6%"
      ]
    },
    {
      "cell_type": "markdown",
      "metadata": {
        "id": "OBgjtvA4PnJC",
        "colab_type": "text"
      },
      "source": [
        "## Refactor"
      ]
    },
    {
      "cell_type": "markdown",
      "metadata": {
        "id": "BSYXefnCP8_G",
        "colab_type": "text"
      },
      "source": [
        "`conv_layer` in fastai has the conv2d batchnorm and ReLU combination in-built"
      ]
    },
    {
      "cell_type": "code",
      "metadata": {
        "id": "LUgXDcskPpz1",
        "colab_type": "code",
        "colab": {}
      },
      "source": [
        "def conv2(ni, nf): return conv_layer(ni, nf, stride=2)"
      ],
      "execution_count": 0,
      "outputs": []
    },
    {
      "cell_type": "code",
      "metadata": {
        "id": "ROMUJvdeP1Xd",
        "colab_type": "code",
        "colab": {}
      },
      "source": [
        "model = nn.Sequential(\n",
        "    conv2(1, 8),   # 14\n",
        "    conv2(8, 16),  # 7\n",
        "    conv2(16, 32), # 4\n",
        "    conv2(32, 16), # 2\n",
        "    conv2(16, 10), # 1\n",
        "    Flatten()      # remove (1,1) grid\n",
        ")"
      ],
      "execution_count": 0,
      "outputs": []
    },
    {
      "cell_type": "code",
      "metadata": {
        "id": "937RCvNpQMxa",
        "colab_type": "code",
        "colab": {}
      },
      "source": [
        "learn = Learner(data, model, loss_func=nn.CrossEntropyLoss(), metrics=accuracy)"
      ],
      "execution_count": 0,
      "outputs": []
    },
    {
      "cell_type": "code",
      "metadata": {
        "id": "xGLWaaVGQUgr",
        "colab_type": "code",
        "colab": {
          "base_uri": "https://localhost:8080/",
          "height": 819
        },
        "outputId": "f79d0385-ccc6-4b6a-bf54-cb6f4d3c2c19"
      },
      "source": [
        "learn.summary()"
      ],
      "execution_count": 89,
      "outputs": [
        {
          "output_type": "execute_result",
          "data": {
            "text/plain": [
              "Sequential\n",
              "======================================================================\n",
              "Layer (type)         Output Shape         Param #    Trainable \n",
              "======================================================================\n",
              "Conv2d               [8, 14, 14]          72         True      \n",
              "______________________________________________________________________\n",
              "ReLU                 [8, 14, 14]          0          False     \n",
              "______________________________________________________________________\n",
              "BatchNorm2d          [8, 14, 14]          16         True      \n",
              "______________________________________________________________________\n",
              "Conv2d               [16, 7, 7]           1,152      True      \n",
              "______________________________________________________________________\n",
              "ReLU                 [16, 7, 7]           0          False     \n",
              "______________________________________________________________________\n",
              "BatchNorm2d          [16, 7, 7]           32         True      \n",
              "______________________________________________________________________\n",
              "Conv2d               [32, 4, 4]           4,608      True      \n",
              "______________________________________________________________________\n",
              "ReLU                 [32, 4, 4]           0          False     \n",
              "______________________________________________________________________\n",
              "BatchNorm2d          [32, 4, 4]           64         True      \n",
              "______________________________________________________________________\n",
              "Conv2d               [16, 2, 2]           4,608      True      \n",
              "______________________________________________________________________\n",
              "ReLU                 [16, 2, 2]           0          False     \n",
              "______________________________________________________________________\n",
              "BatchNorm2d          [16, 2, 2]           32         True      \n",
              "______________________________________________________________________\n",
              "Conv2d               [10, 1, 1]           1,440      True      \n",
              "______________________________________________________________________\n",
              "ReLU                 [10, 1, 1]           0          False     \n",
              "______________________________________________________________________\n",
              "BatchNorm2d          [10, 1, 1]           20         True      \n",
              "______________________________________________________________________\n",
              "Flatten              [10]                 0          False     \n",
              "______________________________________________________________________\n",
              "\n",
              "Total params: 12,044\n",
              "Total trainable params: 12,044\n",
              "Total non-trainable params: 0\n",
              "Optimized with 'torch.optim.adam.Adam', betas=(0.9, 0.99)\n",
              "Using true weight decay as discussed in https://www.fast.ai/2018/07/02/adam-weight-decay/ \n",
              "Loss function : CrossEntropyLoss\n",
              "======================================================================\n",
              "Callbacks functions applied "
            ]
          },
          "metadata": {
            "tags": []
          },
          "execution_count": 89
        }
      ]
    },
    {
      "cell_type": "markdown",
      "metadata": {
        "id": "UwBtPQJuQXDC",
        "colab_type": "text"
      },
      "source": [
        "Exactly the same architecture as before."
      ]
    },
    {
      "cell_type": "code",
      "metadata": {
        "id": "p-JfOkodQakn",
        "colab_type": "code",
        "colab": {
          "base_uri": "https://localhost:8080/",
          "height": 54
        },
        "outputId": "68769cde-d4c5-45dd-a0ce-219850b19870"
      },
      "source": [
        "learn.lr_find()"
      ],
      "execution_count": 90,
      "outputs": [
        {
          "output_type": "display_data",
          "data": {
            "text/html": [
              ""
            ],
            "text/plain": [
              "<IPython.core.display.HTML object>"
            ]
          },
          "metadata": {
            "tags": []
          }
        },
        {
          "output_type": "stream",
          "text": [
            "LR Finder is complete, type {learner_name}.recorder.plot() to see the graph.\n"
          ],
          "name": "stdout"
        }
      ]
    },
    {
      "cell_type": "code",
      "metadata": {
        "id": "trKyVWMDQd6w",
        "colab_type": "code",
        "colab": {
          "base_uri": "https://localhost:8080/",
          "height": 318
        },
        "outputId": "74ddf9ba-0346-4082-9822-7ffce4f66182"
      },
      "source": [
        "learn.recorder.plot(suggestion=True)"
      ],
      "execution_count": 91,
      "outputs": [
        {
          "output_type": "stream",
          "text": [
            "Min numerical gradient: 2.51E-01\n",
            "Min loss divided by 10: 1.58E-01\n"
          ],
          "name": "stdout"
        },
        {
          "output_type": "display_data",
          "data": {
            "image/png": "[encoded data removed]",
            "text/plain": [
              "<Figure size 432x288 with 1 Axes>"
            ]
          },
          "metadata": {
            "tags": []
          }
        }
      ]
    },
    {
      "cell_type": "code",
      "metadata": {
        "id": "IQyF6pihQhGq",
        "colab_type": "code",
        "colab": {
          "base_uri": "https://localhost:8080/",
          "height": 363
        },
        "outputId": "9022dffe-8830-4bb7-a4e1-c5bb6760f3a1"
      },
      "source": [
        "learn.fit_one_cycle(10, max_lr=1e-01)"
      ],
      "execution_count": 92,
      "outputs": [
        {
          "output_type": "display_data",
          "data": {
            "text/html": [
              "<table border=\"1\" class=\"dataframe\">\n",
              "  <thead>\n",
              "    <tr style=\"text-align: left;\">\n",
              "      <th>epoch</th>\n",
              "      <th>train_loss</th>\n",
              "      <th>valid_loss</th>\n",
              "      <th>accuracy</th>\n",
              "      <th>time</th>\n",
              "    </tr>\n",
              "  </thead>\n",
              "  <tbody>\n",
              "    <tr>\n",
              "      <td>0</td>\n",
              "      <td>0.227982</td>\n",
              "      <td>0.141141</td>\n",
              "      <td>0.955600</td>\n",
              "      <td>00:27</td>\n",
              "    </tr>\n",
              "    <tr>\n",
              "      <td>1</td>\n",
              "      <td>0.187402</td>\n",
              "      <td>0.291858</td>\n",
              "      <td>0.905400</td>\n",
              "      <td>00:27</td>\n",
              "    </tr>\n",
              "    <tr>\n",
              "      <td>2</td>\n",
              "      <td>0.160548</td>\n",
              "      <td>0.165445</td>\n",
              "      <td>0.952800</td>\n",
              "      <td>00:27</td>\n",
              "    </tr>\n",
              "    <tr>\n",
              "      <td>3</td>\n",
              "      <td>0.122353</td>\n",
              "      <td>0.138911</td>\n",
              "      <td>0.958200</td>\n",
              "      <td>00:27</td>\n",
              "    </tr>\n",
              "    <tr>\n",
              "      <td>4</td>\n",
              "      <td>0.123963</td>\n",
              "      <td>0.145013</td>\n",
              "      <td>0.955800</td>\n",
              "      <td>00:27</td>\n",
              "    </tr>\n",
              "    <tr>\n",
              "      <td>5</td>\n",
              "      <td>0.100189</td>\n",
              "      <td>0.077624</td>\n",
              "      <td>0.976400</td>\n",
              "      <td>00:27</td>\n",
              "    </tr>\n",
              "    <tr>\n",
              "      <td>6</td>\n",
              "      <td>0.086437</td>\n",
              "      <td>0.050799</td>\n",
              "      <td>0.982900</td>\n",
              "      <td>00:27</td>\n",
              "    </tr>\n",
              "    <tr>\n",
              "      <td>7</td>\n",
              "      <td>0.065064</td>\n",
              "      <td>0.041983</td>\n",
              "      <td>0.986000</td>\n",
              "      <td>00:27</td>\n",
              "    </tr>\n",
              "    <tr>\n",
              "      <td>8</td>\n",
              "      <td>0.045680</td>\n",
              "      <td>0.032509</td>\n",
              "      <td>0.989300</td>\n",
              "      <td>00:27</td>\n",
              "    </tr>\n",
              "    <tr>\n",
              "      <td>9</td>\n",
              "      <td>0.045259</td>\n",
              "      <td>0.030866</td>\n",
              "      <td>0.989600</td>\n",
              "      <td>00:27</td>\n",
              "    </tr>\n",
              "  </tbody>\n",
              "</table>"
            ],
            "text/plain": [
              "<IPython.core.display.HTML object>"
            ]
          },
          "metadata": {
            "tags": []
          }
        }
      ]
    },
    {
      "cell_type": "markdown",
      "metadata": {
        "id": "ozY0nadCQp6z",
        "colab_type": "text"
      },
      "source": [
        "## ResNet"
      ]
    },
    {
      "cell_type": "markdown",
      "metadata": {
        "id": "Acc5z0fQQ9er",
        "colab_type": "text"
      },
      "source": [
        "In order to build a deeper CNN network, we can\n",
        "- Simply add a stride 1 conv after stride 2 conv, since a stride 1 conv does not change the size of the feature map (whereas in the case of stride 2, it halves the size)\n",
        "\n",
        "From Microsoft Research,\n",
        "- **Deep Residual Learning for Image Recognition** : https://arxiv.org/abs/1512.03385\n",
        "- Looking at the training error for CIFAR10, 56 layer vs 20 layer networks\n",
        "- 56 layer one has a lot more params \n",
        "- The expectation with the 56 layer network was that it would seriously overfit\n",
        "- But that did not happen. It performed had worse training error\n",
        "- Every 2 convolutions, add together the input to the 2 convs\n",
        "- So instead of,\n",
        "$$output=C2(C1(x))$$\n",
        "- They went \n",
        "$$output=x+C2(C1(x))$$\n",
        "- They added the identity connections or skip connections\n",
        "- ResBlocks! Adding ResBlocks to standard CNNs almost always leads to better performance\n",
        "- Visualizing loss landscapes : https://arxiv.org/abs/1712.09913"
      ]
    },
    {
      "cell_type": "code",
      "metadata": {
        "id": "6O6nKZlnSyHl",
        "colab_type": "code",
        "colab": {}
      },
      "source": [
        "class ResBlock(nn.Module):\n",
        "    def __init__(self, nf):\n",
        "        super.__init__()\n",
        "        self.conv1 = conv_layer(nf, nf)\n",
        "        self.conv2 = conv_layer(nf, nf)\n",
        "    \n",
        "    def forward(self, x): \n",
        "        return x + self.conv2(self.conv1(x))"
      ],
      "execution_count": 0,
      "outputs": []
    },
    {
      "cell_type": "code",
      "metadata": {
        "id": "1tYp5OpeSovp",
        "colab_type": "code",
        "colab": {
          "base_uri": "https://localhost:8080/",
          "height": 124
        },
        "outputId": "3fa736cb-997e-49fb-b611-f93a387132d7"
      },
      "source": [
        "help(res_block)"
      ],
      "execution_count": 96,
      "outputs": [
        {
          "output_type": "stream",
          "text": [
            "Help on function res_block in module fastai.layers:\n",
            "\n",
            "res_block(nf, dense:bool=False, norm_type:Union[fastai.layers.NormType, NoneType]=<NormType.Batch: 1>, bottle:bool=False, **conv_kwargs)\n",
            "    Resnet block of `nf` features. `conv_kwargs` are passed to `conv_layer`.\n",
            "\n"
          ],
          "name": "stdout"
        }
      ]
    },
    {
      "cell_type": "markdown",
      "metadata": {
        "id": "OzaiYqpBUIWM",
        "colab_type": "text"
      },
      "source": [
        "With ResBlock"
      ]
    },
    {
      "cell_type": "code",
      "metadata": {
        "id": "NFL5RNCyUKh5",
        "colab_type": "code",
        "colab": {}
      },
      "source": [
        "model = nn.Sequential(\n",
        "    conv2(1, 8),   # 14\n",
        "    res_block(8),\n",
        "    conv2(8, 16),  # 7\n",
        "    res_block(16),\n",
        "    conv2(16, 32), # 4\n",
        "    res_block(32),\n",
        "    conv2(32, 16), # 2\n",
        "    res_block(16),\n",
        "    conv2(16, 10), # 1\n",
        "    Flatten()      # remove (1,1) grid\n",
        ")"
      ],
      "execution_count": 0,
      "outputs": []
    },
    {
      "cell_type": "markdown",
      "metadata": {
        "id": "ZOC22IJLUYOt",
        "colab_type": "text"
      },
      "source": [
        "Refactoring again"
      ]
    },
    {
      "cell_type": "code",
      "metadata": {
        "id": "91_zqCAZUayo",
        "colab_type": "code",
        "colab": {}
      },
      "source": [
        "def conv_and_res(ni, nf): return nn.Sequential(conv2(ni, nf), res_block(nf))"
      ],
      "execution_count": 0,
      "outputs": []
    },
    {
      "cell_type": "code",
      "metadata": {
        "id": "eg0lJAtxUlAM",
        "colab_type": "code",
        "colab": {}
      },
      "source": [
        "model = nn.Sequential(\n",
        "    conv_and_res(1, 8),   # 14\n",
        "    conv_and_res(8, 16),  # 7\n",
        "    conv_and_res(16, 32), # 4\n",
        "    conv_and_res(32, 16), # 2\n",
        "    conv2(16, 10), # 1\n",
        "    Flatten()      # remove (1,1) grid\n",
        ")"
      ],
      "execution_count": 0,
      "outputs": []
    },
    {
      "cell_type": "markdown",
      "metadata": {
        "id": "l4ppZcb1U3Ae",
        "colab_type": "text"
      },
      "source": [
        "> Note : Always keep refactoring to keep errors at bay!"
      ]
    },
    {
      "cell_type": "code",
      "metadata": {
        "id": "1JVeOD8QU9dd",
        "colab_type": "code",
        "colab": {}
      },
      "source": [
        "learn = Learner(data, model, loss_func=nn.CrossEntropyLoss(), metrics=accuracy)"
      ],
      "execution_count": 0,
      "outputs": []
    },
    {
      "cell_type": "code",
      "metadata": {
        "id": "yxX0mPBbVKhz",
        "colab_type": "code",
        "colab": {
          "base_uri": "https://localhost:8080/",
          "height": 1000
        },
        "outputId": "57a21f8e-172c-455b-bf4f-a51b9afde439"
      },
      "source": [
        "learn.summary()"
      ],
      "execution_count": 102,
      "outputs": [
        {
          "output_type": "execute_result",
          "data": {
            "text/plain": [
              "Sequential\n",
              "======================================================================\n",
              "Layer (type)         Output Shape         Param #    Trainable \n",
              "======================================================================\n",
              "Conv2d               [8, 14, 14]          72         True      \n",
              "______________________________________________________________________\n",
              "ReLU                 [8, 14, 14]          0          False     \n",
              "______________________________________________________________________\n",
              "BatchNorm2d          [8, 14, 14]          16         True      \n",
              "______________________________________________________________________\n",
              "Conv2d               [8, 14, 14]          576        True      \n",
              "______________________________________________________________________\n",
              "ReLU                 [8, 14, 14]          0          False     \n",
              "______________________________________________________________________\n",
              "BatchNorm2d          [8, 14, 14]          16         True      \n",
              "______________________________________________________________________\n",
              "Conv2d               [8, 14, 14]          576        True      \n",
              "______________________________________________________________________\n",
              "ReLU                 [8, 14, 14]          0          False     \n",
              "______________________________________________________________________\n",
              "BatchNorm2d          [8, 14, 14]          16         True      \n",
              "______________________________________________________________________\n",
              "MergeLayer           [8, 14, 14]          0          False     \n",
              "______________________________________________________________________\n",
              "Conv2d               [16, 7, 7]           1,152      True      \n",
              "______________________________________________________________________\n",
              "ReLU                 [16, 7, 7]           0          False     \n",
              "______________________________________________________________________\n",
              "BatchNorm2d          [16, 7, 7]           32         True      \n",
              "______________________________________________________________________\n",
              "Conv2d               [16, 7, 7]           2,304      True      \n",
              "______________________________________________________________________\n",
              "ReLU                 [16, 7, 7]           0          False     \n",
              "______________________________________________________________________\n",
              "BatchNorm2d          [16, 7, 7]           32         True      \n",
              "______________________________________________________________________\n",
              "Conv2d               [16, 7, 7]           2,304      True      \n",
              "______________________________________________________________________\n",
              "ReLU                 [16, 7, 7]           0          False     \n",
              "______________________________________________________________________\n",
              "BatchNorm2d          [16, 7, 7]           32         True      \n",
              "______________________________________________________________________\n",
              "MergeLayer           [16, 7, 7]           0          False     \n",
              "______________________________________________________________________\n",
              "Conv2d               [32, 4, 4]           4,608      True      \n",
              "______________________________________________________________________\n",
              "ReLU                 [32, 4, 4]           0          False     \n",
              "______________________________________________________________________\n",
              "BatchNorm2d          [32, 4, 4]           64         True      \n",
              "______________________________________________________________________\n",
              "Conv2d               [32, 4, 4]           9,216      True      \n",
              "______________________________________________________________________\n",
              "ReLU                 [32, 4, 4]           0          False     \n",
              "______________________________________________________________________\n",
              "BatchNorm2d          [32, 4, 4]           64         True      \n",
              "______________________________________________________________________\n",
              "Conv2d               [32, 4, 4]           9,216      True      \n",
              "______________________________________________________________________\n",
              "ReLU                 [32, 4, 4]           0          False     \n",
              "______________________________________________________________________\n",
              "BatchNorm2d          [32, 4, 4]           64         True      \n",
              "______________________________________________________________________\n",
              "MergeLayer           [32, 4, 4]           0          False     \n",
              "______________________________________________________________________\n",
              "Conv2d               [16, 2, 2]           4,608      True      \n",
              "______________________________________________________________________\n",
              "ReLU                 [16, 2, 2]           0          False     \n",
              "______________________________________________________________________\n",
              "BatchNorm2d          [16, 2, 2]           32         True      \n",
              "______________________________________________________________________\n",
              "Conv2d               [16, 2, 2]           2,304      True      \n",
              "______________________________________________________________________\n",
              "ReLU                 [16, 2, 2]           0          False     \n",
              "______________________________________________________________________\n",
              "BatchNorm2d          [16, 2, 2]           32         True      \n",
              "______________________________________________________________________\n",
              "Conv2d               [16, 2, 2]           2,304      True      \n",
              "______________________________________________________________________\n",
              "ReLU                 [16, 2, 2]           0          False     \n",
              "______________________________________________________________________\n",
              "BatchNorm2d          [16, 2, 2]           32         True      \n",
              "______________________________________________________________________\n",
              "MergeLayer           [16, 2, 2]           0          False     \n",
              "______________________________________________________________________\n",
              "Conv2d               [10, 1, 1]           1,440      True      \n",
              "______________________________________________________________________\n",
              "ReLU                 [10, 1, 1]           0          False     \n",
              "______________________________________________________________________\n",
              "BatchNorm2d          [10, 1, 1]           20         True      \n",
              "______________________________________________________________________\n",
              "Flatten              [10]                 0          False     \n",
              "______________________________________________________________________\n",
              "\n",
              "Total params: 41,132\n",
              "Total trainable params: 41,132\n",
              "Total non-trainable params: 0\n",
              "Optimized with 'torch.optim.adam.Adam', betas=(0.9, 0.99)\n",
              "Using true weight decay as discussed in https://www.fast.ai/2018/07/02/adam-weight-decay/ \n",
              "Loss function : CrossEntropyLoss\n",
              "======================================================================\n",
              "Callbacks functions applied "
            ]
          },
          "metadata": {
            "tags": []
          },
          "execution_count": 102
        }
      ]
    },
    {
      "cell_type": "code",
      "metadata": {
        "id": "X0cT9UQ2VSY4",
        "colab_type": "code",
        "colab": {
          "base_uri": "https://localhost:8080/",
          "height": 54
        },
        "outputId": "4a035ee5-ba14-40a4-8c14-ca6cab976f29"
      },
      "source": [
        "learn.lr_find()"
      ],
      "execution_count": 103,
      "outputs": [
        {
          "output_type": "display_data",
          "data": {
            "text/html": [
              ""
            ],
            "text/plain": [
              "<IPython.core.display.HTML object>"
            ]
          },
          "metadata": {
            "tags": []
          }
        },
        {
          "output_type": "stream",
          "text": [
            "LR Finder is complete, type {learner_name}.recorder.plot() to see the graph.\n"
          ],
          "name": "stdout"
        }
      ]
    },
    {
      "cell_type": "code",
      "metadata": {
        "id": "CyZeJoBUVXZN",
        "colab_type": "code",
        "colab": {
          "base_uri": "https://localhost:8080/",
          "height": 318
        },
        "outputId": "37b559f9-71a4-405e-e61c-1e630e1bfca6"
      },
      "source": [
        "learn.recorder.plot(suggestion=True)"
      ],
      "execution_count": 105,
      "outputs": [
        {
          "output_type": "stream",
          "text": [
            "Min numerical gradient: 2.09E-01\n",
            "Min loss divided by 10: 1.58E-01\n"
          ],
          "name": "stdout"
        },
        {
          "output_type": "display_data",
          "data": {
            "image/png": "[encoded data removed]",
            "text/plain": [
              "<Figure size 432x288 with 1 Axes>"
            ]
          },
          "metadata": {
            "tags": []
          }
        }
      ]
    },
    {
      "cell_type": "code",
      "metadata": {
        "id": "c-X1STWWVb0s",
        "colab_type": "code",
        "colab": {
          "base_uri": "https://localhost:8080/",
          "height": 426
        },
        "outputId": "eac8b744-11e2-4f07-f286-c086b899285b"
      },
      "source": [
        "learn.fit_one_cycle(12, max_lr=5e-2)"
      ],
      "execution_count": 106,
      "outputs": [
        {
          "output_type": "display_data",
          "data": {
            "text/html": [
              "<table border=\"1\" class=\"dataframe\">\n",
              "  <thead>\n",
              "    <tr style=\"text-align: left;\">\n",
              "      <th>epoch</th>\n",
              "      <th>train_loss</th>\n",
              "      <th>valid_loss</th>\n",
              "      <th>accuracy</th>\n",
              "      <th>time</th>\n",
              "    </tr>\n",
              "  </thead>\n",
              "  <tbody>\n",
              "    <tr>\n",
              "      <td>0</td>\n",
              "      <td>0.257022</td>\n",
              "      <td>0.184213</td>\n",
              "      <td>0.951200</td>\n",
              "      <td>00:30</td>\n",
              "    </tr>\n",
              "    <tr>\n",
              "      <td>1</td>\n",
              "      <td>0.132965</td>\n",
              "      <td>0.102803</td>\n",
              "      <td>0.970500</td>\n",
              "      <td>00:29</td>\n",
              "    </tr>\n",
              "    <tr>\n",
              "      <td>2</td>\n",
              "      <td>0.108540</td>\n",
              "      <td>0.092987</td>\n",
              "      <td>0.971900</td>\n",
              "      <td>00:29</td>\n",
              "    </tr>\n",
              "    <tr>\n",
              "      <td>3</td>\n",
              "      <td>0.095469</td>\n",
              "      <td>0.095387</td>\n",
              "      <td>0.969600</td>\n",
              "      <td>00:29</td>\n",
              "    </tr>\n",
              "    <tr>\n",
              "      <td>4</td>\n",
              "      <td>0.066686</td>\n",
              "      <td>0.053341</td>\n",
              "      <td>0.983000</td>\n",
              "      <td>00:29</td>\n",
              "    </tr>\n",
              "    <tr>\n",
              "      <td>5</td>\n",
              "      <td>0.064911</td>\n",
              "      <td>0.113114</td>\n",
              "      <td>0.962700</td>\n",
              "      <td>00:29</td>\n",
              "    </tr>\n",
              "    <tr>\n",
              "      <td>6</td>\n",
              "      <td>0.056524</td>\n",
              "      <td>0.035624</td>\n",
              "      <td>0.988000</td>\n",
              "      <td>00:29</td>\n",
              "    </tr>\n",
              "    <tr>\n",
              "      <td>7</td>\n",
              "      <td>0.040790</td>\n",
              "      <td>0.025054</td>\n",
              "      <td>0.991200</td>\n",
              "      <td>00:29</td>\n",
              "    </tr>\n",
              "    <tr>\n",
              "      <td>8</td>\n",
              "      <td>0.036685</td>\n",
              "      <td>0.023885</td>\n",
              "      <td>0.992100</td>\n",
              "      <td>00:30</td>\n",
              "    </tr>\n",
              "    <tr>\n",
              "      <td>9</td>\n",
              "      <td>0.025595</td>\n",
              "      <td>0.022459</td>\n",
              "      <td>0.992800</td>\n",
              "      <td>00:29</td>\n",
              "    </tr>\n",
              "    <tr>\n",
              "      <td>10</td>\n",
              "      <td>0.020561</td>\n",
              "      <td>0.015673</td>\n",
              "      <td>0.994800</td>\n",
              "      <td>00:29</td>\n",
              "    </tr>\n",
              "    <tr>\n",
              "      <td>11</td>\n",
              "      <td>0.018739</td>\n",
              "      <td>0.016082</td>\n",
              "      <td>0.994600</td>\n",
              "      <td>00:29</td>\n",
              "    </tr>\n",
              "  </tbody>\n",
              "</table>"
            ],
            "text/plain": [
              "<IPython.core.display.HTML object>"
            ]
          },
          "metadata": {
            "tags": []
          }
        }
      ]
    },
    {
      "cell_type": "markdown",
      "metadata": {
        "id": "wOd0rjrsWZ1R",
        "colab_type": "text"
      },
      "source": [
        "## DenseNet\n",
        "\n",
        "- If we use concatenate instead of addition, we get a dense block.\n",
        "- DenseNet can be memory intensive\n",
        "- Very few parameters\n",
        "- Tend to work very well with small datasets\n",
        "- Contains all the original pixels"
      ]
    }
  ]
}