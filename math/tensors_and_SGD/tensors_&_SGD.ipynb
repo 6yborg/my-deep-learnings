{
  "nbformat": 4,
  "nbformat_minor": 0,
  "metadata": {
    "colab": {
      "name": "tensors_&_SGD.ipynb",
      "version": "0.3.2",
      "provenance": [],
      "collapsed_sections": []
    },
    "kernelspec": {
      "name": "python3",
      "display_name": "Python 3"
    },
    "accelerator": "GPU"
  },
  "cells": [
    {
      "cell_type": "markdown",
      "metadata": {
        "id": "LS2vN6al4NBk",
        "colab_type": "text"
      },
      "source": [
        "# Tensors & Stochastic Gradient Descent (SGD) in PyTorch"
      ]
    },
    {
      "cell_type": "markdown",
      "metadata": {
        "id": "8VJyfcrG5iQ6",
        "colab_type": "text"
      },
      "source": [
        "## I. Import Libraries"
      ]
    },
    {
      "cell_type": "code",
      "metadata": {
        "colab_type": "code",
        "id": "dfZgdM-62x9K",
        "colab": {}
      },
      "source": [
        "import torch\n",
        "from torch import nn\n",
        "import seaborn as sns\n",
        "torch.manual_seed(42); # set for reproducibility"
      ],
      "execution_count": 0,
      "outputs": []
    },
    {
      "cell_type": "markdown",
      "metadata": {
        "id": "BhNaH4siXQWW",
        "colab_type": "text"
      },
      "source": [
        "## II. Tensors"
      ]
    },
    {
      "cell_type": "markdown",
      "metadata": {
        "id": "0L4Iepmz1hkh",
        "colab_type": "text"
      },
      "source": [
        "A brief exploration of tensors in PyTorch."
      ]
    },
    {
      "cell_type": "markdown",
      "metadata": {
        "id": "4tVtIX596MzK",
        "colab_type": "text"
      },
      "source": [
        "### Generating Tensors"
      ]
    },
    {
      "cell_type": "markdown",
      "metadata": {
        "id": "dVm5Pgcs2LJa",
        "colab_type": "text"
      },
      "source": [
        "Following are the various ways to generate tensors in PyTorch and check its datatypes."
      ]
    },
    {
      "cell_type": "code",
      "metadata": {
        "id": "9HZqZfyDYgT0",
        "colab_type": "code",
        "colab": {
          "base_uri": "https://localhost:8080/",
          "height": 86
        },
        "outputId": "b2f5f76a-c9d1-4f49-877e-f198cafc09e6"
      },
      "source": [
        "print(torch.tensor(1), '->', torch.tensor(1).dtype)\n",
        "print(torch.empty(1), '->', torch.empty(1).dtype)\n",
        "print(torch.FloatTensor(1), '->', torch.FloatTensor(1).dtype)\n",
        "print(torch.Tensor(1), '->', torch.Tensor(1).dtype)"
      ],
      "execution_count": 443,
      "outputs": [
        {
          "output_type": "stream",
          "text": [
            "tensor(1) -> torch.int64\n",
            "tensor([1.5283e-35]) -> torch.float32\n",
            "tensor([1.5283e-35]) -> torch.float32\n",
            "tensor([2.4548e-37]) -> torch.float32\n"
          ],
          "name": "stdout"
        }
      ]
    },
    {
      "cell_type": "markdown",
      "metadata": {
        "id": "zDXqGbaxbzsE",
        "colab_type": "text"
      },
      "source": [
        "> Note : Here `torch.tensor()` with a single number actually returns a scalar values whereas the othersreturn a tensor."
      ]
    },
    {
      "cell_type": "markdown",
      "metadata": {
        "id": "IVGT6RK3Z-Hs",
        "colab_type": "text"
      },
      "source": [
        "### Specifying data types and type coercion"
      ]
    },
    {
      "cell_type": "code",
      "metadata": {
        "id": "ApOhUgnjZa6G",
        "colab_type": "code",
        "colab": {
          "base_uri": "https://localhost:8080/",
          "height": 52
        },
        "outputId": "b56ddeda-2494-43c9-b018-a7a1c05a663f"
      },
      "source": [
        "x = torch.tensor(1, dtype=torch.float32)\n",
        "print(x.dtype)\n",
        "y = torch.tensor(1., dtype=torch.int32)\n",
        "print(y.dtype)"
      ],
      "execution_count": 444,
      "outputs": [
        {
          "output_type": "stream",
          "text": [
            "torch.float32\n",
            "torch.int32\n"
          ],
          "name": "stdout"
        }
      ]
    },
    {
      "cell_type": "markdown",
      "metadata": {
        "colab_type": "text",
        "id": "sxyWu-ouaYbR"
      },
      "source": [
        "However we cannot do this with `torch.Tensor()`"
      ]
    },
    {
      "cell_type": "code",
      "metadata": {
        "colab_type": "code",
        "outputId": "280c8728-6849-4336-ceba-abc0549814eb",
        "id": "cSD7zMTvaYa8",
        "colab": {
          "base_uri": "https://localhost:8080/",
          "height": 289
        }
      },
      "source": [
        "torch.Tensor(1, dtype=torch.float32)"
      ],
      "execution_count": 445,
      "outputs": [
        {
          "output_type": "error",
          "ename": "TypeError",
          "evalue": "ignored",
          "traceback": [
            "\u001b[0;31m---------------------------------------------------------------------------\u001b[0m",
            "\u001b[0;31mTypeError\u001b[0m                                 Traceback (most recent call last)",
            "\u001b[0;32m<ipython-input-445-892eb5a5f3bf>\u001b[0m in \u001b[0;36m<module>\u001b[0;34m()\u001b[0m\n\u001b[0;32m----> 1\u001b[0;31m \u001b[0mtorch\u001b[0m\u001b[0;34m.\u001b[0m\u001b[0mTensor\u001b[0m\u001b[0;34m(\u001b[0m\u001b[0;36m1\u001b[0m\u001b[0;34m,\u001b[0m \u001b[0mdtype\u001b[0m\u001b[0;34m=\u001b[0m\u001b[0mtorch\u001b[0m\u001b[0;34m.\u001b[0m\u001b[0mfloat32\u001b[0m\u001b[0;34m)\u001b[0m\u001b[0;34m\u001b[0m\u001b[0;34m\u001b[0m\u001b[0m\n\u001b[0m",
            "\u001b[0;31mTypeError\u001b[0m: new() received an invalid combination of arguments - got (int, dtype=torch.dtype), but expected one of:\n * (torch.device device)\n * (torch.Storage storage)\n * (Tensor other)\n * (tuple of ints size, torch.device device)\n      didn't match because some of the keywords were incorrect: dtype\n * (object data, torch.device device)\n      didn't match because some of the keywords were incorrect: dtype\n"
          ]
        }
      ]
    },
    {
      "cell_type": "markdown",
      "metadata": {
        "id": "zSU4cyxC28Gu",
        "colab_type": "text"
      },
      "source": [
        "`torch.Tensor` is an alias for `torch.FloatTensor` and sets the default datatype to float rather than inferring it from the vector/matrix passed. On the otherhand, datatypes can be explicitly stated with`torch.tensor`.  "
      ]
    },
    {
      "cell_type": "markdown",
      "metadata": {
        "id": "5JMrJp12X6HX",
        "colab_type": "text"
      },
      "source": [
        "Lets verify with their data types,"
      ]
    },
    {
      "cell_type": "code",
      "metadata": {
        "id": "LY5dvI78UKLx",
        "colab_type": "code",
        "outputId": "737fa612-9598-474c-b0fa-6bdc41daf0ce",
        "colab": {
          "base_uri": "https://localhost:8080/",
          "height": 52
        }
      },
      "source": [
        "print(torch.Tensor([1.,2]).dtype) # i.e the default datatype\n",
        "torch.Tensor([1.,2]).dtype == torch.FloatTensor([1, 2]).dtype"
      ],
      "execution_count": 446,
      "outputs": [
        {
          "output_type": "stream",
          "text": [
            "torch.float32\n"
          ],
          "name": "stdout"
        },
        {
          "output_type": "execute_result",
          "data": {
            "text/plain": [
              "True"
            ]
          },
          "metadata": {
            "tags": []
          },
          "execution_count": 446
        }
      ]
    },
    {
      "cell_type": "markdown",
      "metadata": {
        "id": "y8DLOQw5Xj0R",
        "colab_type": "text"
      },
      "source": [
        "For `torch.tensor`,"
      ]
    },
    {
      "cell_type": "code",
      "metadata": {
        "id": "mbJY8ygqUCmO",
        "colab_type": "code",
        "colab": {
          "base_uri": "https://localhost:8080/",
          "height": 52
        },
        "outputId": "fa4181c1-5bf1-464a-f94a-eb9fa14a26e9"
      },
      "source": [
        "print(torch.tensor([1.,2])) # The dot at the end signifies all numbers are to be taken as floats.\n",
        "print(torch.tensor([1, 2]))"
      ],
      "execution_count": 450,
      "outputs": [
        {
          "output_type": "stream",
          "text": [
            "tensor([1., 2.])\n",
            "tensor([1, 2])\n"
          ],
          "name": "stdout"
        }
      ]
    },
    {
      "cell_type": "markdown",
      "metadata": {
        "id": "z7rkojH02jr-",
        "colab_type": "text"
      },
      "source": [
        "We can check sizes/shapes of tensors by,"
      ]
    },
    {
      "cell_type": "code",
      "metadata": {
        "id": "IOvgGQkTYSi8",
        "colab_type": "code",
        "outputId": "92bdcc7c-0ad6-47d2-9af7-8b6a668ca960",
        "colab": {
          "base_uri": "https://localhost:8080/",
          "height": 34
        }
      },
      "source": [
        "torch.tensor([1,1]).size()"
      ],
      "execution_count": 451,
      "outputs": [
        {
          "output_type": "execute_result",
          "data": {
            "text/plain": [
              "torch.Size([2])"
            ]
          },
          "metadata": {
            "tags": []
          },
          "execution_count": 451
        }
      ]
    },
    {
      "cell_type": "markdown",
      "metadata": {
        "colab_type": "text",
        "id": "CEYs3smd2sRw"
      },
      "source": [
        "Now lets set the number of data points  **n** and create a tensor of **n x 2** dimensions as follows,"
      ]
    },
    {
      "cell_type": "code",
      "metadata": {
        "id": "XQrEi4mU8Rjq",
        "colab_type": "code",
        "outputId": "58a0a5fe-5e9f-4824-e085-62a9e73ca3ba",
        "colab": {
          "base_uri": "https://localhost:8080/",
          "height": 52
        }
      },
      "source": [
        "n = 10 # data points\n",
        "x = torch.ones(n,2) # Generate vector/matrix of ones\n",
        "print(x.dtype) # datatype\n",
        "print(x.size()) # size of tensor. Note : torch.shape is similar to torch.size()"
      ],
      "execution_count": 459,
      "outputs": [
        {
          "output_type": "stream",
          "text": [
            "torch.float32\n",
            "torch.Size([10, 2])\n"
          ],
          "name": "stdout"
        }
      ]
    },
    {
      "cell_type": "markdown",
      "metadata": {
        "id": "C2Zrpn9ZADo3",
        "colab_type": "text"
      },
      "source": [
        "> Note : We have kept the second column as ones since a predictor needs to have a column with values as ones, which corresponds to the coefficient/parameter with the intercept."
      ]
    },
    {
      "cell_type": "markdown",
      "metadata": {
        "id": "EDwFXfQ1YA1h",
        "colab_type": "text"
      },
      "source": [
        "Now lets generate a tensor with numbers drawn from a **uniform distribution**,"
      ]
    },
    {
      "cell_type": "code",
      "metadata": {
        "id": "VTvEQTtKTiVY",
        "colab_type": "code",
        "outputId": "1e3bcaf7-ba28-4a47-cac9-4f887a728486",
        "colab": {
          "base_uri": "https://localhost:8080/",
          "height": 69
        }
      },
      "source": [
        "torch.rand([3,5]) # return a tensor of dimension x,y with numbers drawn from a uniform distribution U ~ [0,1)"
      ],
      "execution_count": 0,
      "outputs": [
        {
          "output_type": "execute_result",
          "data": {
            "text/plain": [
              "tensor([[0.4294, 0.8854, 0.5739, 0.2666, 0.6274],\n",
              "        [0.2696, 0.4414, 0.2969, 0.8317, 0.1053],\n",
              "        [0.2695, 0.3588, 0.1994, 0.5472, 0.0062]])"
            ]
          },
          "metadata": {
            "tags": []
          },
          "execution_count": 452
        }
      ]
    },
    {
      "cell_type": "markdown",
      "metadata": {
        "id": "CINe3l6b8axM",
        "colab_type": "text"
      },
      "source": [
        "\n",
        "We can replace the first column of x with numbers drawn from a uniform distribution $U ~ [0, 1)$.  \n",
        "`uniform_` here does operations inplace (anything with a \n",
        "underscore at the end means inplace)"
      ]
    },
    {
      "cell_type": "markdown",
      "metadata": {
        "colab_type": "text",
        "id": "HyEYxeDgWyhL"
      },
      "source": [
        "> Note : If U is a random variable uniformly distributed on [0, 1], then  \n",
        "$(r1 - r2) * U + r2$  \n",
        "is uniformly distributed on $[r1, r2]$\n"
      ]
    },
    {
      "cell_type": "code",
      "metadata": {
        "id": "OOEKeRaSP8fj",
        "colab_type": "code",
        "outputId": "2283138e-8378-4b9e-ee51-bea225f0a79f",
        "colab": {
          "base_uri": "https://localhost:8080/",
          "height": 52
        }
      },
      "source": [
        "# Define a few variables\n",
        "a = 1; b = 2; r1 = -1; r2 = 1\n",
        "\n",
        "# To sample from a uniform distribution\n",
        "# Approach 1\n",
        "print((r1 - r2) * torch.rand(a, b) + r2)\n",
        "\n",
        "# Approach 2\n",
        "print(torch.FloatTensor([a, b]).uniform_(r1, r2))"
      ],
      "execution_count": 0,
      "outputs": [
        {
          "output_type": "stream",
          "text": [
            "tensor([[ 0.3247, -0.6179]])\n",
            "tensor([0.1559, 0.8080])\n"
          ],
          "name": "stdout"
        }
      ]
    },
    {
      "cell_type": "code",
      "metadata": {
        "id": "ULf94Huncjdi",
        "colab_type": "code",
        "colab": {
          "base_uri": "https://localhost:8080/",
          "height": 191
        },
        "outputId": "9fc41ffa-e7ca-4a7c-c257-d9f1adac40cc"
      },
      "source": [
        "x[:,0].uniform_(-1.,1)\n",
        "print(x)"
      ],
      "execution_count": 474,
      "outputs": [
        {
          "output_type": "stream",
          "text": [
            "tensor([[-0.3545,  1.0000],\n",
            "        [-0.9676,  1.0000],\n",
            "        [-0.5727,  1.0000],\n",
            "        [ 0.2498,  1.0000],\n",
            "        [-0.1320,  1.0000],\n",
            "        [-0.7259,  1.0000],\n",
            "        [ 0.0235,  1.0000],\n",
            "        [-0.6831,  1.0000],\n",
            "        [-0.8484,  1.0000],\n",
            "        [-0.5507,  1.0000]])\n"
          ],
          "name": "stdout"
        }
      ]
    },
    {
      "cell_type": "markdown",
      "metadata": {
        "id": "wTRsv0wG6MAQ",
        "colab_type": "text"
      },
      "source": [
        "### Initializing parameters"
      ]
    },
    {
      "cell_type": "markdown",
      "metadata": {
        "id": "0XtLvu_H_IiJ",
        "colab_type": "text"
      },
      "source": [
        "Lets initalize the slope and the intercept of a linear regression model as follows,"
      ]
    },
    {
      "cell_type": "code",
      "metadata": {
        "id": "f2-A-jPljoQ8",
        "colab_type": "code",
        "colab": {
          "base_uri": "https://localhost:8080/",
          "height": 34
        },
        "outputId": "12e18f2a-3632-4147-a768-4c37b3f7b845"
      },
      "source": [
        "# Initializing the slope and intercept AKA the parameters, weights, coefficients\n",
        "# of the equation\n",
        "a = torch.tensor([3.,2]) \n",
        "print(a)"
      ],
      "execution_count": 475,
      "outputs": [
        {
          "output_type": "stream",
          "text": [
            "tensor([3., 2.])\n"
          ],
          "name": "stdout"
        }
      ]
    },
    {
      "cell_type": "markdown",
      "metadata": {
        "id": "Cv6AjeiOuIOj",
        "colab_type": "text"
      },
      "source": [
        "Some pointers :\n",
        "* `@` in python is an opeartor for matrix multiplication (`@=` is the inplace version)\n",
        "* `*` is elementwise product between two matrices or vectors"
      ]
    },
    {
      "cell_type": "markdown",
      "metadata": {
        "id": "pscmWmOi_Pz4",
        "colab_type": "text"
      },
      "source": [
        "No we perform matrix multiplication between the parameters and x as follows,"
      ]
    },
    {
      "cell_type": "code",
      "metadata": {
        "id": "qJdphMpJkRuR",
        "colab_type": "code",
        "colab": {
          "base_uri": "https://localhost:8080/",
          "height": 104
        },
        "outputId": "073b72ee-857b-4a83-8180-cab257eb984c"
      },
      "source": [
        "print('size of x :', x.size())\n",
        "print('size of a :', a.size())\n",
        "print((x@a).size())\n",
        "x@a"
      ],
      "execution_count": 476,
      "outputs": [
        {
          "output_type": "stream",
          "text": [
            "size of x : torch.Size([10, 2])\n",
            "size of a : torch.Size([2])\n",
            "torch.Size([10])\n"
          ],
          "name": "stdout"
        },
        {
          "output_type": "execute_result",
          "data": {
            "text/plain": [
              "tensor([ 0.9365, -0.9028,  0.2820,  2.7494,  1.6040, -0.1777,  2.0704, -0.0492,\n",
              "        -0.5452,  0.3480])"
            ]
          },
          "metadata": {
            "tags": []
          },
          "execution_count": 476
        }
      ]
    },
    {
      "cell_type": "markdown",
      "metadata": {
        "id": "XV2i7sLSeeIp",
        "colab_type": "text"
      },
      "source": [
        "Lets sample n random variables from U ~ [0,1) as follows,"
      ]
    },
    {
      "cell_type": "code",
      "metadata": {
        "id": "lErO4myckr1x",
        "colab_type": "code",
        "colab": {
          "base_uri": "https://localhost:8080/",
          "height": 52
        },
        "outputId": "104be630-4299-40cc-9f79-79f2dc2b863b"
      },
      "source": [
        "b = torch.rand(n)\n",
        "print(b)"
      ],
      "execution_count": 477,
      "outputs": [
        {
          "output_type": "stream",
          "text": [
            "tensor([0.0624, 0.1816, 0.9998, 0.5944, 0.6541, 0.0337, 0.1716, 0.3336, 0.5782,\n",
            "        0.0600])\n"
          ],
          "name": "stdout"
        }
      ]
    },
    {
      "cell_type": "markdown",
      "metadata": {
        "id": "SDT-beIM_0Sl",
        "colab_type": "text"
      },
      "source": [
        "This would be the random noise i.e. irreducible error in the function."
      ]
    },
    {
      "cell_type": "markdown",
      "metadata": {
        "id": "yg6dUdjde-wN",
        "colab_type": "text"
      },
      "source": [
        "Lets generate y from the equation of the line (linear regression),"
      ]
    },
    {
      "cell_type": "code",
      "metadata": {
        "id": "I5gJyIWKjwYf",
        "colab_type": "code",
        "colab": {
          "base_uri": "https://localhost:8080/",
          "height": 52
        },
        "outputId": "1d47659b-2680-42b2-f8ae-d1d78b73b10d"
      },
      "source": [
        "y = x@a + b\n",
        "print(y)"
      ],
      "execution_count": 478,
      "outputs": [
        {
          "output_type": "stream",
          "text": [
            "tensor([ 0.9988, -0.7212,  1.2818,  3.3438,  2.2581, -0.1440,  2.2420,  0.2843,\n",
            "         0.0330,  0.4081])\n"
          ],
          "name": "stdout"
        }
      ]
    },
    {
      "cell_type": "markdown",
      "metadata": {
        "id": "_H3PrZHX_4f3",
        "colab_type": "text"
      },
      "source": [
        "Now plotting the same,"
      ]
    },
    {
      "cell_type": "code",
      "metadata": {
        "id": "skNjgc3SfbKV",
        "colab_type": "code",
        "colab": {
          "base_uri": "https://localhost:8080/",
          "height": 269
        },
        "outputId": "f784c95d-0c2d-43d5-e09d-557377db6b8d"
      },
      "source": [
        "sns.scatterplot(x=x[:,0], y=y);"
      ],
      "execution_count": 479,
      "outputs": [
        {
          "output_type": "display_data",
          "data": {
            "image/png": "[encoded data removed]",
            "text/plain": [
              "<Figure size 432x288 with 1 Axes>"
            ]
          },
          "metadata": {
            "tags": []
          }
        }
      ]
    },
    {
      "cell_type": "markdown",
      "metadata": {
        "id": "okwuDCZe1v1D",
        "colab_type": "text"
      },
      "source": [
        "## III. Stochastic Gradient Descent (SGD)"
      ]
    },
    {
      "cell_type": "markdown",
      "metadata": {
        "colab_type": "text",
        "id": "rJkSk3WOXZLL"
      },
      "source": [
        "SGD is one of the most commonly used **optimization** algorithms for deep learning. Here is a simple demonstration of SGD for Linear Regression, one of the simplest, most commonly used and highly interpretable machine learning models.\n",
        "\n",
        "> Note : Here we are just performing a simple gradient descent. For it to be *stochastic* the only difference is calculating the gradients and updating the weights/parameters for each minibatch instead of the whole dataset. "
      ]
    },
    {
      "cell_type": "markdown",
      "metadata": {
        "id": "w9zVSdjZfs3G",
        "colab_type": "text"
      },
      "source": [
        "We define our loss function as the mean squared error (MSE) a follows,"
      ]
    },
    {
      "cell_type": "code",
      "metadata": {
        "id": "HVHC43uukBq_",
        "colab_type": "code",
        "colab": {}
      },
      "source": [
        "def mse(y_hat, y): \n",
        "    \n",
        "    return torch.mean((y_hat-y)**2)"
      ],
      "execution_count": 0,
      "outputs": []
    },
    {
      "cell_type": "markdown",
      "metadata": {
        "id": "7TBtXTpCBQkM",
        "colab_type": "text"
      },
      "source": [
        "And again initialize some parameters,"
      ]
    },
    {
      "cell_type": "code",
      "metadata": {
        "id": "kuAK0BCukB01",
        "colab_type": "code",
        "colab": {
          "base_uri": "https://localhost:8080/",
          "height": 86
        },
        "outputId": "511a7f94-1aec-42ff-c1a5-e678a5dd626d"
      },
      "source": [
        "a = torch.rand(2) # initialize the parameters\n",
        "print(a)\n",
        "\n",
        "# calculating y_hat i.e. the predicted value\n",
        "y_hat = x@a\n",
        "print(y_hat)\n",
        "\n",
        "# calculating the mse\n",
        "mse(y_hat, y)"
      ],
      "execution_count": 516,
      "outputs": [
        {
          "output_type": "stream",
          "text": [
            "tensor([0.3289, 0.1054])\n",
            "tensor([-0.0112, -0.2128, -0.0830,  0.1875,  0.0620, -0.1333,  0.1131, -0.1193,\n",
            "        -0.1736, -0.0757])\n"
          ],
          "name": "stdout"
        },
        {
          "output_type": "execute_result",
          "data": {
            "text/plain": [
              "tensor(2.2899)"
            ]
          },
          "metadata": {
            "tags": []
          },
          "execution_count": 516
        }
      ]
    },
    {
      "cell_type": "code",
      "metadata": {
        "id": "6afc2pmvm0mv",
        "colab_type": "code",
        "colab": {
          "base_uri": "https://localhost:8080/",
          "height": 269
        },
        "outputId": "a91b91e8-38e9-4fc5-fb21-54f750598ec5"
      },
      "source": [
        "sns.scatterplot(x[:,0],y);\n",
        "sns.scatterplot(x[:,0],y_hat);"
      ],
      "execution_count": 517,
      "outputs": [
        {
          "output_type": "display_data",
          "data": {
            "image/png": "[encoded data removed]",
            "text/plain": [
              "<Figure size 432x288 with 1 Axes>"
            ]
          },
          "metadata": {
            "tags": []
          }
        }
      ]
    },
    {
      "cell_type": "markdown",
      "metadata": {
        "id": "qYEUd1KfBm9d",
        "colab_type": "text"
      },
      "source": [
        "We can see how much the predicted points are diverging from the true values (hence larger values of loss). Now lets wrap the parameters as PyTorch `nn.Parameter`"
      ]
    },
    {
      "cell_type": "code",
      "metadata": {
        "id": "rQpHHaLbm9_k",
        "colab_type": "code",
        "colab": {
          "base_uri": "https://localhost:8080/",
          "height": 52
        },
        "outputId": "9a5d96df-47fe-4ece-dbf1-be39f79102ab"
      },
      "source": [
        "a = nn.Parameter(torch.rand(2));\n",
        "print(a)"
      ],
      "execution_count": 518,
      "outputs": [
        {
          "output_type": "stream",
          "text": [
            "Parameter containing:\n",
            "tensor([0.9192, 0.4008], requires_grad=True)\n"
          ],
          "name": "stdout"
        }
      ]
    },
    {
      "cell_type": "markdown",
      "metadata": {
        "id": "oiSJuBGMl3tt",
        "colab_type": "text"
      },
      "source": [
        "> Note : `requires_grad=True` would automatically calculate gradients via automatic differentiation"
      ]
    },
    {
      "cell_type": "markdown",
      "metadata": {
        "id": "06FgFc1SCF_A",
        "colab_type": "text"
      },
      "source": [
        "Defining a update rule as follows,"
      ]
    },
    {
      "cell_type": "code",
      "metadata": {
        "id": "QwF8EZsCnLMZ",
        "colab_type": "code",
        "colab": {}
      },
      "source": [
        "def update(lr=1e-03, i=0):\n",
        "    \n",
        "    y_hat = x@a\n",
        "    \n",
        "    loss = mse(y_hat, y)\n",
        "    \n",
        "    if i % 10 == 0: \n",
        "        print(loss)\n",
        "        \n",
        "    # calculates the gradients/derivatives of the parameters; stores it in .grad\n",
        "    loss.backward()\n",
        "    \n",
        "    with torch.no_grad(): # turn gradient calculation off\n",
        "        \n",
        "        a.sub_(lr * a.grad) # inplace subtraction of gradient \n",
        "        a.grad.zero_() # clear all gradients"
      ],
      "execution_count": 0,
      "outputs": []
    },
    {
      "cell_type": "markdown",
      "metadata": {
        "id": "gMzae_u9CJh0",
        "colab_type": "text"
      },
      "source": [
        "Running the gradient descent loop,"
      ]
    },
    {
      "cell_type": "code",
      "metadata": {
        "id": "QvvWsQXHpGlo",
        "colab_type": "code",
        "colab": {
          "base_uri": "https://localhost:8080/",
          "height": 885
        },
        "outputId": "4c17d4e9-446b-4f89-d7a6-b112de38b6e8"
      },
      "source": [
        "# specify hyperparameters\n",
        "lr = 1e-1\n",
        "epochs = 500\n",
        "\n",
        "# Training loop\n",
        "for i in range(epochs): \n",
        "    update(lr, i)"
      ],
      "execution_count": 520,
      "outputs": [
        {
          "output_type": "stream",
          "text": [
            "tensor(1.8188, grad_fn=<MeanBackward0>)\n",
            "tensor(0.6996, grad_fn=<MeanBackward0>)\n",
            "tensor(0.4738, grad_fn=<MeanBackward0>)\n",
            "tensor(0.3330, grad_fn=<MeanBackward0>)\n",
            "tensor(0.2442, grad_fn=<MeanBackward0>)\n",
            "tensor(0.1882, grad_fn=<MeanBackward0>)\n",
            "tensor(0.1528, grad_fn=<MeanBackward0>)\n",
            "tensor(0.1305, grad_fn=<MeanBackward0>)\n",
            "tensor(0.1165, grad_fn=<MeanBackward0>)\n",
            "tensor(0.1076, grad_fn=<MeanBackward0>)\n",
            "tensor(0.1020, grad_fn=<MeanBackward0>)\n",
            "tensor(0.0985, grad_fn=<MeanBackward0>)\n",
            "tensor(0.0962, grad_fn=<MeanBackward0>)\n",
            "tensor(0.0948, grad_fn=<MeanBackward0>)\n",
            "tensor(0.0939, grad_fn=<MeanBackward0>)\n",
            "tensor(0.0934, grad_fn=<MeanBackward0>)\n",
            "tensor(0.0930, grad_fn=<MeanBackward0>)\n",
            "tensor(0.0928, grad_fn=<MeanBackward0>)\n",
            "tensor(0.0927, grad_fn=<MeanBackward0>)\n",
            "tensor(0.0926, grad_fn=<MeanBackward0>)\n",
            "tensor(0.0925, grad_fn=<MeanBackward0>)\n",
            "tensor(0.0925, grad_fn=<MeanBackward0>)\n",
            "tensor(0.0925, grad_fn=<MeanBackward0>)\n",
            "tensor(0.0925, grad_fn=<MeanBackward0>)\n",
            "tensor(0.0924, grad_fn=<MeanBackward0>)\n",
            "tensor(0.0924, grad_fn=<MeanBackward0>)\n",
            "tensor(0.0924, grad_fn=<MeanBackward0>)\n",
            "tensor(0.0924, grad_fn=<MeanBackward0>)\n",
            "tensor(0.0924, grad_fn=<MeanBackward0>)\n",
            "tensor(0.0924, grad_fn=<MeanBackward0>)\n",
            "tensor(0.0924, grad_fn=<MeanBackward0>)\n",
            "tensor(0.0924, grad_fn=<MeanBackward0>)\n",
            "tensor(0.0924, grad_fn=<MeanBackward0>)\n",
            "tensor(0.0924, grad_fn=<MeanBackward0>)\n",
            "tensor(0.0924, grad_fn=<MeanBackward0>)\n",
            "tensor(0.0924, grad_fn=<MeanBackward0>)\n",
            "tensor(0.0924, grad_fn=<MeanBackward0>)\n",
            "tensor(0.0924, grad_fn=<MeanBackward0>)\n",
            "tensor(0.0924, grad_fn=<MeanBackward0>)\n",
            "tensor(0.0924, grad_fn=<MeanBackward0>)\n",
            "tensor(0.0924, grad_fn=<MeanBackward0>)\n",
            "tensor(0.0924, grad_fn=<MeanBackward0>)\n",
            "tensor(0.0924, grad_fn=<MeanBackward0>)\n",
            "tensor(0.0924, grad_fn=<MeanBackward0>)\n",
            "tensor(0.0924, grad_fn=<MeanBackward0>)\n",
            "tensor(0.0924, grad_fn=<MeanBackward0>)\n",
            "tensor(0.0924, grad_fn=<MeanBackward0>)\n",
            "tensor(0.0924, grad_fn=<MeanBackward0>)\n",
            "tensor(0.0924, grad_fn=<MeanBackward0>)\n",
            "tensor(0.0924, grad_fn=<MeanBackward0>)\n"
          ],
          "name": "stdout"
        }
      ]
    },
    {
      "cell_type": "markdown",
      "metadata": {
        "id": "0zcdQbJNCRIb",
        "colab_type": "text"
      },
      "source": [
        "Displaying the learned parameter values,"
      ]
    },
    {
      "cell_type": "code",
      "metadata": {
        "id": "6kvO3WLQppsu",
        "colab_type": "code",
        "colab": {
          "base_uri": "https://localhost:8080/",
          "height": 52
        },
        "outputId": "ce4ee284-2ff5-47e0-b226-fe8a0d34e81c"
      },
      "source": [
        "print(a)"
      ],
      "execution_count": 521,
      "outputs": [
        {
          "output_type": "stream",
          "text": [
            "Parameter containing:\n",
            "tensor([3.1377, 2.4298], requires_grad=True)\n"
          ],
          "name": "stdout"
        }
      ]
    },
    {
      "cell_type": "markdown",
      "metadata": {
        "id": "xZ3FvlSWCW08",
        "colab_type": "text"
      },
      "source": [
        "Plotting the same,"
      ]
    },
    {
      "cell_type": "code",
      "metadata": {
        "id": "i8qrpLSfCAkD",
        "colab_type": "code",
        "colab": {
          "base_uri": "https://localhost:8080/",
          "height": 304
        },
        "outputId": "4a21249d-ef51-48c0-8f9f-a1f1b5fed2eb"
      },
      "source": [
        "sns.scatterplot(x[:,0],y);\n",
        "# sns.scatterplot(x[:,0], y_hat);\n",
        "with torch.torch.no_grad():\n",
        "    print(a)\n",
        "    sns.scatterplot(x[:,0], x@a);"
      ],
      "execution_count": 522,
      "outputs": [
        {
          "output_type": "stream",
          "text": [
            "Parameter containing:\n",
            "tensor([3.1377, 2.4298], requires_grad=True)\n"
          ],
          "name": "stdout"
        },
        {
          "output_type": "display_data",
          "data": {
            "image/png": "[encoded data removed]",
            "text/plain": [
              "<Figure size 432x288 with 1 Axes>"
            ]
          },
          "metadata": {
            "tags": []
          }
        }
      ]
    },
    {
      "cell_type": "markdown",
      "metadata": {
        "id": "PFCH5zhPit-P",
        "colab_type": "text"
      },
      "source": [
        "# References\n",
        "[1] fast.ai v3 Part 1 Lesson 2 https://course.fast.ai/videos/?lesson=2  \n",
        "[2] https://stackoverflow.com/questions/44328530/how-to-get-a-uniform-distribution-in-a-range-r1-r2-in-pytorch"
      ]
    }
  ]
}